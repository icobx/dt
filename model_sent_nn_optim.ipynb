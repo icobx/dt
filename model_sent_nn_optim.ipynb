{
 "cells": [
  {
   "cell_type": "code",
   "execution_count": 1,
   "metadata": {},
   "outputs": [],
   "source": [
    "import sys\n",
    "import logging\n",
    "import os.path as p\n",
    "import pandas as pd\n",
    "import torch\n",
    "import torch.nn as nn\n",
    "import torch.optim as optim\n",
    "import optuna\n",
    "import print_n_log\n",
    "\n",
    "from sklearn.metrics import classification_report, confusion_matrix\n",
    "from torch.utils.data.dataloader import DataLoader\n",
    "from definitions import *\n",
    "from model_helper_functions import *\n",
    "from dataset_helper_functions import *\n",
    "from sent_nn import SentNN\n",
    "from sentence_transformers import SentenceTransformer\n",
    "from debates_dataset import DebatesDataset\n",
    "from early_stopping import EarlyStopping\n",
    "from optuna.trial import TrialState\n",
    "from torchvision import transforms\n",
    "# my transforms\n",
    "from transforms import *"
   ]
  },
  {
   "cell_type": "code",
   "execution_count": 2,
   "metadata": {},
   "outputs": [],
   "source": [
    "data = {}\n",
    "optim_path = os.path.join(EXP_DIR_PATH, 'sent-nn', 'optimization')\n",
    "device = torch.device('cuda' if torch.cuda.is_available() else 'cpu')\n",
    "train_uw_ratio = 0\n",
    "dataset_frac = 0.1\n",
    "worthy_frac = 0.2\n",
    "slf_dim = 0\n",
    "rs = 22"
   ]
  },
  {
   "cell_type": "markdown",
   "metadata": {},
   "source": [
    "Function for loading data."
   ]
  },
  {
   "cell_type": "code",
   "execution_count": 3,
   "metadata": {},
   "outputs": [],
   "source": [
    "def load_data():\n",
    "    dev_path = p.join(PROC_DATA_DIR_PATH, 'dev')\n",
    "\n",
    "    data_paths = {\n",
    "        'dev': [\n",
    "            p.join(dev_path, 'dev.tsv'),\n",
    "        ],\n",
    "        'test': [\n",
    "            p.join(POLIT_DATA_DIR_PATH, 'test', 'test_combined.tsv'),\n",
    "        ],\n",
    "        'train': [\n",
    "            p.join(POLIT_DATA_DIR_PATH, 'train', 'train_combined.tsv'),\n",
    "        ],\n",
    "        'val': [\n",
    "            p.join(POLIT_DATA_DIR_PATH, 'val', 'val_combined.tsv'),\n",
    "        ],\n",
    "    }\n",
    "\n",
    "    for dtype, dpaths in data_paths.items():\n",
    "        try:\n",
    "            data[dtype] = pd.read_csv(dpaths[0], sep='\\t', index_col=False)\n",
    "\n",
    "        except Exception as e:\n",
    "            print(e.args)\n",
    "            exit()"
   ]
  },
  {
   "cell_type": "markdown",
   "metadata": {},
   "source": [
    "Datasets and DataLoaders, takes trial as input to be able to suggest values for variables."
   ]
  },
  {
   "cell_type": "code",
   "execution_count": 4,
   "metadata": {},
   "outputs": [],
   "source": [
    "def get_loaders(trial, stopwords_type):\n",
    "    global train_uw_ratio, slf_dim\n",
    "    # dev_df, test_df, train_df, val_df = data.values()\n",
    "    subsets = {}\n",
    "    for k, df in data.items():\n",
    "\n",
    "        n_subset = int(len(df)*dataset_frac)\n",
    "\n",
    "        worthy_df = df.loc[df['label'] == 1]\n",
    "        n_worthy = int(min(n_subset*worthy_frac, len(worthy_df)))\n",
    "        worthy_df = worthy_df.sample(n=n_worthy, random_state=rs)\n",
    "\n",
    "        unworthy_df = df.loc[df['label'] == 0].sample(\n",
    "            n=n_subset-n_worthy,\n",
    "            random_state=rs\n",
    "        )\n",
    "        if k == 'train':\n",
    "            train_uw_ratio = len(unworthy_df) / len(worthy_df)\n",
    "        # sample(frac=1.0) -> shuffle\n",
    "        subsets[k] = worthy_df.append(unworthy_df).sample(frac=1.0, random_state=rs, ignore_index=True)\n",
    "\n",
    "    # TODO: for sentence level feature optimization    \n",
    "    transforms_map = {\n",
    "        'sum': Sum,\n",
    "        'onehot': OneHot,\n",
    "        'none': NoTransform\n",
    "    }\n",
    "    transforms_options = list(transforms_map.keys())\n",
    "    cw_map = {\n",
    "        'count_words': CountWords,\n",
    "        'none': NoTransform\n",
    "    }\n",
    "    cw_options = list(cw_map.keys())\n",
    "\n",
    "    from_sel = trial.suggest_categorical('from_selection', [True, False])\n",
    "\n",
    "    # trial.suggest_categorical returns one of the keys of transforms_map, which then return Transform or None\n",
    "    # if transform --> initialize\n",
    "    pos_feat = transforms_map[trial.suggest_categorical('pos_feature_type', transforms_options)]\n",
    "    pos_feat = pos_feat(\n",
    "        'pos', from_selection=from_sel, stopwords=stopwords_type\n",
    "    )\n",
    "\n",
    "    tag_feat = transforms_map[trial.suggest_categorical('tag_feature_type', transforms_options)]\n",
    "    tag_feat = tag_feat(\n",
    "        'tag', from_selection=from_sel, stopwords=stopwords_type\n",
    "    )\n",
    "\n",
    "    cw_feat = cw_map[trial.suggest_categorical('word_count_feature_type', cw_options)]\n",
    "    cw_feat = cw_feat()\n",
    "    \n",
    "    transform_pipeline = transforms.Compose([\n",
    "        HandleStopwords(stopwords=stopwords_type),\n",
    "        pos_feat,\n",
    "        tag_feat,\n",
    "        cw_feat,\n",
    "        ToBinary(6),\n",
    "        ToTensor()\n",
    "    ])\n",
    "    # transform_pipeline = None\n",
    "#     transform_pipeline = None\n",
    "\n",
    "    train_dd = DebatesDataset(data=subsets['train'], transform=transform_pipeline)\n",
    "    val_dd = DebatesDataset(data=subsets['val'], transform=transform_pipeline)\n",
    "    test_dd = DebatesDataset(data=subsets['test'], transform=transform_pipeline)\n",
    "    \n",
    "    # slf_dim = train_dd[0][-1].size()[0]\n",
    "#     batch_size = trial.suggest_categorical('batch_size', [16, 32, 64, 128])\n",
    "    batch_size = 16\n",
    "    train_loader = DataLoader(train_dd, batch_size=batch_size, shuffle=True, drop_last=True)\n",
    "    val_loader = DataLoader(val_dd, batch_size=batch_size, shuffle=True, drop_last=True)\n",
    "    test_loader = DataLoader(test_dd, batch_size=batch_size, shuffle=True, drop_last=True)\n",
    "\n",
    "    return train_loader, val_loader, test_loader"
   ]
  },
  {
   "cell_type": "markdown",
   "metadata": {},
   "source": [
    "Model setup + training loop"
   ]
  },
  {
   "cell_type": "code",
   "execution_count": 5,
   "metadata": {},
   "outputs": [],
   "source": [
    "def objective(trial):\n",
    "    global logf_path\n",
    "    # this is here so that it can be accessed here and in get_loaders()\n",
    "    stopwords_type = trial.suggest_categorical('stopwords_type', ['wstop', 'wostop'])\n",
    "    # unused is test_loader    \n",
    "    train_loader, val_loader, _ = get_loaders(trial, stopwords_type)\n",
    "    \n",
    "    # hyperparams opt\n",
    "#     dropout = trial.suggest_float('dropout', 0.0, 0.5, step=0.01)\n",
    "#     hidden_dim = trial.suggest_categorical('hidden_dim', [128, 256, 512])\n",
    "#     w_seq = trial.suggest_categorical('with_sequential_layer', [True, False])\n",
    "#     lr = trial.suggest_float('learning_rate', 1e-5, 1e-1, log=True)\n",
    "#     opt_weight_decay = trial.suggest_float('optimizer_weigth_decay', 1e-6, 0.1, log=True)\n",
    "#     pos_weight = trial.suggest_categorical('pos_weight', [1.0, train_uw_ratio])\n",
    "#     emb_model_name = trial.suggest_categorical(\n",
    "#         'embedding_model_name',\n",
    "#         ['all-mpnet-base-v2', 'all-MiniLM-L6-v2', 'multi-qa-mpnet-base-dot-v1']\n",
    "#     )\n",
    "    \n",
    "    # temp_best\n",
    "    dropout = 0.09\n",
    "    hidden_dim = 128\n",
    "    w_seq = False\n",
    "    lr = 0.03698629814522988\n",
    "    opt_weight_decay = 0.02355650972967366\n",
    "    pos_weight = train_uw_ratio\n",
    "    emb_model_name = 'all-mpnet-base-v2'\n",
    "\n",
    "    \n",
    "    emb_size_map = {\n",
    "        'all-mpnet-base-v2': 768,\n",
    "        'all-MiniLM-L6-v2': 384,\n",
    "        'multi-qa-mpnet-base-dot-v1': 768\n",
    "    }\n",
    "    # emb_model_name = 'all-MiniLM-L6-v2'\n",
    "    embedding_model = SentenceTransformer(emb_model_name, device=device, cache_folder=SBERT_MODEL_PATH)\n",
    "    \n",
    "    model = SentNN(\n",
    "        embeddings_dim=emb_size_map[emb_model_name],\n",
    "        sentence_level_feature_dim=slf_dim,\n",
    "        dropout=dropout,\n",
    "        w_seq=w_seq\n",
    "    ).to(device)    \n",
    "\n",
    "    optimizer = optim.Adam(model.parameters(), lr=lr, weight_decay=opt_weight_decay)\n",
    "\n",
    "    criterion = nn.BCEWithLogitsLoss(pos_weight=torch.tensor([pos_weight]).to(device))\n",
    "\n",
    "    n_epochs = 16\n",
    "    threshold = 0.5\n",
    "    early_stopping = EarlyStopping(\n",
    "        patience=5,\n",
    "        path=None,\n",
    "        verbose=False,\n",
    "        trace_func=print_n_log.run('early_stopping', logf_path, 'DEBUG')\n",
    "    )\n",
    "    # training\n",
    "    for epoch in range(n_epochs):\n",
    "        losses, val_losses = [], []\n",
    "        model.train()\n",
    "        for ids, sentences, labels, features in train_loader:\n",
    "            labels = labels.float().to(device)\n",
    "\n",
    "            optimizer.zero_grad()\n",
    "\n",
    "            embeddings = embedding_model.encode(sentences, convert_to_tensor=True)\n",
    "            output = model(embeddings)\n",
    "            loss = criterion(output, labels)\n",
    "            losses.append(loss.item())\n",
    "            loss.backward()\n",
    "            optimizer.step()\n",
    "\n",
    "        model.eval()\n",
    "        y_pred, y_true = [], []\n",
    "        with torch.no_grad():\n",
    "            for val_ids, val_sentences, val_labels, val_features in val_loader:\n",
    "                val_labels = val_labels.float().to(device)\n",
    "\n",
    "                val_embeddings = embedding_model.encode(val_sentences, convert_to_tensor=True)\n",
    "                pred = model(val_embeddings)\n",
    "                loss = criterion(pred, val_labels)\n",
    "                val_losses.append(loss.item())\n",
    "\n",
    "                pred = torch.sigmoid(pred)\n",
    "\n",
    "                pred = (pred > threshold).int()\n",
    "                y_pred.extend(pred.tolist())\n",
    "                y_true.extend(val_labels.tolist())\n",
    "\n",
    "        # print(f'train_loss: {np.average(losses)} | val_loss: {np.average(val_losses)}')\n",
    "        cr = classification_report(y_true, y_pred, output_dict=True, digits=6, zero_division=0)\n",
    "        # recall_p = cr['1.0']['recall']\n",
    "        # print(recall_p)\n",
    "        val_loss = np.average(val_losses)\n",
    "        early_stopping(val_loss, model, acomp_metrics={'recall_p': cr['1.0']['recall']})\n",
    "        \n",
    "        if early_stopping.early_stop:\n",
    "            break\n",
    "        # trial.report(recall_p, epoch)\n",
    "\n",
    "        # # Handle pruning based on the intermediate value.\n",
    "        # if trial.should_prune():\n",
    "        #     raise optuna.exceptions.TrialPruned()\n",
    "    recall_p = early_stopping.acomp_metrics['recall_p'] if early_stopping.acomp_metrics else 0.0\n",
    "    \"Done.\"\n",
    "    return recall_p"
   ]
  },
  {
   "cell_type": "code",
   "execution_count": 6,
   "metadata": {},
   "outputs": [],
   "source": [
    "load_data()\n",
    "# print('final recall: ', objective(None))"
   ]
  },
  {
   "cell_type": "code",
   "execution_count": null,
   "metadata": {},
   "outputs": [
    {
     "name": "stderr",
     "output_type": "stream",
     "text": [
      "\u001b[32m[I 2022-03-29 20:58:39,193]\u001b[0m A new study created in memory with name: sent_nn_featOptim_sGrid_pNone_df0.1_wf0.2\u001b[0m\n",
      "[nltk_data] Downloading package punkt to /home/jovyan/nltk_data...\n",
      "[nltk_data]   Package punkt is already up-to-date!\n",
      "\u001b[32m[I 2022-03-29 21:03:08,857]\u001b[0m Trial 0 finished with value: 0.72 and parameters: {'stopwords_type': 'wstop', 'from_selection': False, 'pos_feature_type': 'none', 'tag_feature_type': 'none', 'word_count_feature_type': 'none'}. Best is trial 0 with value: 0.72.\u001b[0m\n"
     ]
    },
    {
     "name": "stdout",
     "output_type": "stream",
     "text": [
      "4\n"
     ]
    },
    {
     "name": "stderr",
     "output_type": "stream",
     "text": [
      "[nltk_data] Downloading package punkt to /home/jovyan/nltk_data...\n",
      "[nltk_data]   Package punkt is already up-to-date!\n",
      "\u001b[32m[I 2022-03-29 21:05:38,961]\u001b[0m Trial 1 finished with value: 0.8571428571428571 and parameters: {'stopwords_type': 'wstop', 'from_selection': True, 'pos_feature_type': 'onehot', 'tag_feature_type': 'sum', 'word_count_feature_type': 'none'}. Best is trial 1 with value: 0.8571428571428571.\u001b[0m\n"
     ]
    },
    {
     "name": "stdout",
     "output_type": "stream",
     "text": [
      "19\n",
      "49\n"
     ]
    },
    {
     "name": "stderr",
     "output_type": "stream",
     "text": [
      "[nltk_data] Downloading package punkt to /home/jovyan/nltk_data...\n",
      "[nltk_data]   Package punkt is already up-to-date!\n",
      "\u001b[32m[I 2022-03-29 21:07:51,880]\u001b[0m Trial 2 finished with value: 0.6578947368421053 and parameters: {'stopwords_type': 'wstop', 'from_selection': False, 'pos_feature_type': 'onehot', 'tag_feature_type': 'onehot', 'word_count_feature_type': 'none'}. Best is trial 1 with value: 0.8571428571428571.\u001b[0m\n"
     ]
    },
    {
     "name": "stdout",
     "output_type": "stream",
     "text": [
      "2\n"
     ]
    },
    {
     "name": "stderr",
     "output_type": "stream",
     "text": [
      "[nltk_data] Downloading package punkt to /home/jovyan/nltk_data...\n",
      "[nltk_data]   Package punkt is already up-to-date!\n",
      "\u001b[32m[I 2022-03-29 21:09:59,076]\u001b[0m Trial 3 finished with value: 0.9333333333333333 and parameters: {'stopwords_type': 'wostop', 'from_selection': True, 'pos_feature_type': 'onehot', 'tag_feature_type': 'sum', 'word_count_feature_type': 'none'}. Best is trial 3 with value: 0.9333333333333333.\u001b[0m\n"
     ]
    },
    {
     "name": "stdout",
     "output_type": "stream",
     "text": [
      "6\n"
     ]
    },
    {
     "name": "stderr",
     "output_type": "stream",
     "text": [
      "[nltk_data] Downloading package punkt to /home/jovyan/nltk_data...\n",
      "[nltk_data]   Package punkt is already up-to-date!\n",
      "\u001b[32m[I 2022-03-29 21:14:06,833]\u001b[0m Trial 4 finished with value: 0.6533333333333333 and parameters: {'stopwords_type': 'wstop', 'from_selection': True, 'pos_feature_type': 'sum', 'tag_feature_type': 'onehot', 'word_count_feature_type': 'none'}. Best is trial 3 with value: 0.9333333333333333.\u001b[0m\n"
     ]
    },
    {
     "name": "stdout",
     "output_type": "stream",
     "text": [
      "49\n"
     ]
    },
    {
     "name": "stderr",
     "output_type": "stream",
     "text": [
      "[nltk_data] Downloading package punkt to /home/jovyan/nltk_data...\n",
      "[nltk_data]   Package punkt is already up-to-date!\n",
      "\u001b[32m[I 2022-03-29 21:19:06,292]\u001b[0m Trial 5 finished with value: 0.7866666666666666 and parameters: {'stopwords_type': 'wstop', 'from_selection': False, 'pos_feature_type': 'sum', 'tag_feature_type': 'onehot', 'word_count_feature_type': 'none'}. Best is trial 3 with value: 0.9333333333333333.\u001b[0m\n",
      "[nltk_data] Downloading package punkt to /home/jovyan/nltk_data...\n",
      "[nltk_data]   Package punkt is already up-to-date!\n",
      "\u001b[32m[I 2022-03-29 21:22:07,254]\u001b[0m Trial 6 finished with value: 0.7792207792207793 and parameters: {'stopwords_type': 'wostop', 'from_selection': True, 'pos_feature_type': 'sum', 'tag_feature_type': 'none', 'word_count_feature_type': 'count_words'}. Best is trial 3 with value: 0.9333333333333333.\u001b[0m\n"
     ]
    },
    {
     "name": "stdout",
     "output_type": "stream",
     "text": [
      "6\n"
     ]
    },
    {
     "name": "stderr",
     "output_type": "stream",
     "text": [
      "[nltk_data] Downloading package punkt to /home/jovyan/nltk_data...\n",
      "[nltk_data]   Package punkt is already up-to-date!\n",
      "\u001b[32m[I 2022-03-29 21:24:58,874]\u001b[0m Trial 7 finished with value: 0.8533333333333334 and parameters: {'stopwords_type': 'wstop', 'from_selection': True, 'pos_feature_type': 'none', 'tag_feature_type': 'onehot', 'word_count_feature_type': 'count_words'}. Best is trial 3 with value: 0.9333333333333333.\u001b[0m\n",
      "[nltk_data] Downloading package punkt to /home/jovyan/nltk_data...\n",
      "[nltk_data]   Package punkt is already up-to-date!\n",
      "\u001b[32m[I 2022-03-29 21:28:26,009]\u001b[0m Trial 8 finished with value: 0.6710526315789473 and parameters: {'stopwords_type': 'wstop', 'from_selection': True, 'pos_feature_type': 'none', 'tag_feature_type': 'none', 'word_count_feature_type': 'count_words'}. Best is trial 3 with value: 0.9333333333333333.\u001b[0m\n",
      "[nltk_data] Downloading package punkt to /home/jovyan/nltk_data...\n",
      "[nltk_data]   Package punkt is already up-to-date!\n",
      "\u001b[32m[I 2022-03-29 21:31:54,509]\u001b[0m Trial 9 finished with value: 0.6666666666666666 and parameters: {'stopwords_type': 'wstop', 'from_selection': False, 'pos_feature_type': 'none', 'tag_feature_type': 'none', 'word_count_feature_type': 'count_words'}. Best is trial 3 with value: 0.9333333333333333.\u001b[0m\n"
     ]
    },
    {
     "name": "stdout",
     "output_type": "stream",
     "text": [
      "2\n",
      "2\n"
     ]
    },
    {
     "name": "stderr",
     "output_type": "stream",
     "text": [
      "[nltk_data] Downloading package punkt to /home/jovyan/nltk_data...\n",
      "[nltk_data]   Package punkt is already up-to-date!\n",
      "\u001b[32m[I 2022-03-29 21:35:01,747]\u001b[0m Trial 10 finished with value: 0.6493506493506493 and parameters: {'stopwords_type': 'wostop', 'from_selection': True, 'pos_feature_type': 'onehot', 'tag_feature_type': 'onehot', 'word_count_feature_type': 'none'}. Best is trial 3 with value: 0.9333333333333333.\u001b[0m\n"
     ]
    },
    {
     "name": "stdout",
     "output_type": "stream",
     "text": [
      "19\n",
      "49\n"
     ]
    },
    {
     "name": "stderr",
     "output_type": "stream",
     "text": [
      "[nltk_data] Downloading package punkt to /home/jovyan/nltk_data...\n",
      "[nltk_data]   Package punkt is already up-to-date!\n",
      "\u001b[32m[I 2022-03-29 21:37:39,179]\u001b[0m Trial 11 finished with value: 0.7368421052631579 and parameters: {'stopwords_type': 'wostop', 'from_selection': False, 'pos_feature_type': 'onehot', 'tag_feature_type': 'onehot', 'word_count_feature_type': 'count_words'}. Best is trial 3 with value: 0.9333333333333333.\u001b[0m\n",
      "[nltk_data] Downloading package punkt to /home/jovyan/nltk_data...\n",
      "[nltk_data]   Package punkt is already up-to-date!\n",
      "\u001b[32m[I 2022-03-29 21:40:46,607]\u001b[0m Trial 12 finished with value: 0.7733333333333333 and parameters: {'stopwords_type': 'wostop', 'from_selection': False, 'pos_feature_type': 'sum', 'tag_feature_type': 'sum', 'word_count_feature_type': 'count_words'}. Best is trial 3 with value: 0.9333333333333333.\u001b[0m\n",
      "[nltk_data] Downloading package punkt to /home/jovyan/nltk_data...\n",
      "[nltk_data]   Package punkt is already up-to-date!\n",
      "\u001b[32m[I 2022-03-29 21:43:30,841]\u001b[0m Trial 13 finished with value: 0.9090909090909091 and parameters: {'stopwords_type': 'wostop', 'from_selection': False, 'pos_feature_type': 'sum', 'tag_feature_type': 'none', 'word_count_feature_type': 'none'}. Best is trial 3 with value: 0.9333333333333333.\u001b[0m\n"
     ]
    },
    {
     "name": "stdout",
     "output_type": "stream",
     "text": [
      "6\n"
     ]
    },
    {
     "name": "stderr",
     "output_type": "stream",
     "text": [
      "[nltk_data] Downloading package punkt to /home/jovyan/nltk_data...\n",
      "[nltk_data]   Package punkt is already up-to-date!\n",
      "\u001b[32m[I 2022-03-29 21:45:36,921]\u001b[0m Trial 14 finished with value: 0.5866666666666667 and parameters: {'stopwords_type': 'wstop', 'from_selection': True, 'pos_feature_type': 'none', 'tag_feature_type': 'onehot', 'word_count_feature_type': 'none'}. Best is trial 3 with value: 0.9333333333333333.\u001b[0m\n"
     ]
    },
    {
     "name": "stdout",
     "output_type": "stream",
     "text": [
      "49\n"
     ]
    },
    {
     "name": "stderr",
     "output_type": "stream",
     "text": [
      "[nltk_data] Downloading package punkt to /home/jovyan/nltk_data...\n",
      "[nltk_data]   Package punkt is already up-to-date!\n",
      "\u001b[32m[I 2022-03-29 21:48:30,688]\u001b[0m Trial 15 finished with value: 0.7105263157894737 and parameters: {'stopwords_type': 'wostop', 'from_selection': False, 'pos_feature_type': 'sum', 'tag_feature_type': 'onehot', 'word_count_feature_type': 'none'}. Best is trial 3 with value: 0.9333333333333333.\u001b[0m\n"
     ]
    },
    {
     "name": "stdout",
     "output_type": "stream",
     "text": [
      "19\n"
     ]
    },
    {
     "name": "stderr",
     "output_type": "stream",
     "text": [
      "[nltk_data] Downloading package punkt to /home/jovyan/nltk_data...\n",
      "[nltk_data]   Package punkt is already up-to-date!\n",
      "\u001b[32m[I 2022-03-29 21:50:45,994]\u001b[0m Trial 16 finished with value: 0.922077922077922 and parameters: {'stopwords_type': 'wostop', 'from_selection': False, 'pos_feature_type': 'onehot', 'tag_feature_type': 'none', 'word_count_feature_type': 'count_words'}. Best is trial 3 with value: 0.9333333333333333.\u001b[0m\n"
     ]
    },
    {
     "name": "stdout",
     "output_type": "stream",
     "text": [
      "4\n"
     ]
    },
    {
     "name": "stderr",
     "output_type": "stream",
     "text": [
      "[nltk_data] Downloading package punkt to /home/jovyan/nltk_data...\n",
      "[nltk_data]   Package punkt is already up-to-date!\n",
      "\u001b[32m[I 2022-03-29 21:55:47,091]\u001b[0m Trial 17 finished with value: 0.7066666666666667 and parameters: {'stopwords_type': 'wstop', 'from_selection': True, 'pos_feature_type': 'onehot', 'tag_feature_type': 'sum', 'word_count_feature_type': 'count_words'}. Best is trial 3 with value: 0.9333333333333333.\u001b[0m\n",
      "[nltk_data] Downloading package punkt to /home/jovyan/nltk_data...\n",
      "[nltk_data]   Package punkt is already up-to-date!\n",
      "\u001b[32m[I 2022-03-29 21:58:23,531]\u001b[0m Trial 18 finished with value: 0.8 and parameters: {'stopwords_type': 'wostop', 'from_selection': True, 'pos_feature_type': 'sum', 'tag_feature_type': 'sum', 'word_count_feature_type': 'none'}. Best is trial 3 with value: 0.9333333333333333.\u001b[0m\n"
     ]
    },
    {
     "name": "stdout",
     "output_type": "stream",
     "text": [
      "19\n"
     ]
    },
    {
     "name": "stderr",
     "output_type": "stream",
     "text": [
      "[nltk_data] Downloading package punkt to /home/jovyan/nltk_data...\n",
      "[nltk_data]   Package punkt is already up-to-date!\n",
      "\u001b[32m[I 2022-03-29 22:00:29,772]\u001b[0m Trial 19 finished with value: 0.7105263157894737 and parameters: {'stopwords_type': 'wstop', 'from_selection': False, 'pos_feature_type': 'onehot', 'tag_feature_type': 'none', 'word_count_feature_type': 'count_words'}. Best is trial 3 with value: 0.9333333333333333.\u001b[0m\n"
     ]
    },
    {
     "name": "stdout",
     "output_type": "stream",
     "text": [
      "4\n"
     ]
    },
    {
     "name": "stderr",
     "output_type": "stream",
     "text": [
      "[nltk_data] Downloading package punkt to /home/jovyan/nltk_data...\n",
      "[nltk_data]   Package punkt is already up-to-date!\n",
      "\u001b[32m[I 2022-03-29 22:03:40,315]\u001b[0m Trial 20 finished with value: 0.8133333333333334 and parameters: {'stopwords_type': 'wstop', 'from_selection': True, 'pos_feature_type': 'onehot', 'tag_feature_type': 'none', 'word_count_feature_type': 'none'}. Best is trial 3 with value: 0.9333333333333333.\u001b[0m\n"
     ]
    },
    {
     "name": "stdout",
     "output_type": "stream",
     "text": [
      "4\n",
      "6\n"
     ]
    },
    {
     "name": "stderr",
     "output_type": "stream",
     "text": [
      "[nltk_data] Downloading package punkt to /home/jovyan/nltk_data...\n",
      "[nltk_data]   Package punkt is already up-to-date!\n",
      "\u001b[32m[I 2022-03-29 22:08:34,414]\u001b[0m Trial 21 finished with value: 0.8 and parameters: {'stopwords_type': 'wstop', 'from_selection': True, 'pos_feature_type': 'onehot', 'tag_feature_type': 'onehot', 'word_count_feature_type': 'count_words'}. Best is trial 3 with value: 0.9333333333333333.\u001b[0m\n"
     ]
    },
    {
     "name": "stdout",
     "output_type": "stream",
     "text": [
      "19\n"
     ]
    },
    {
     "name": "stderr",
     "output_type": "stream",
     "text": [
      "[nltk_data] Downloading package punkt to /home/jovyan/nltk_data...\n",
      "[nltk_data]   Package punkt is already up-to-date!\n",
      "\u001b[32m[I 2022-03-29 22:12:31,949]\u001b[0m Trial 22 finished with value: 0.8421052631578947 and parameters: {'stopwords_type': 'wstop', 'from_selection': False, 'pos_feature_type': 'onehot', 'tag_feature_type': 'none', 'word_count_feature_type': 'none'}. Best is trial 3 with value: 0.9333333333333333.\u001b[0m\n",
      "[nltk_data] Downloading package punkt to /home/jovyan/nltk_data...\n",
      "[nltk_data]   Package punkt is already up-to-date!\n",
      "\u001b[32m[I 2022-03-29 22:15:29,732]\u001b[0m Trial 23 finished with value: 0.6973684210526315 and parameters: {'stopwords_type': 'wostop', 'from_selection': True, 'pos_feature_type': 'none', 'tag_feature_type': 'sum', 'word_count_feature_type': 'count_words'}. Best is trial 3 with value: 0.9333333333333333.\u001b[0m\n",
      "[nltk_data] Downloading package punkt to /home/jovyan/nltk_data...\n",
      "[nltk_data]   Package punkt is already up-to-date!\n",
      "\u001b[32m[I 2022-03-29 22:19:42,294]\u001b[0m Trial 24 finished with value: 0.8961038961038961 and parameters: {'stopwords_type': 'wostop', 'from_selection': False, 'pos_feature_type': 'none', 'tag_feature_type': 'none', 'word_count_feature_type': 'count_words'}. Best is trial 3 with value: 0.9333333333333333.\u001b[0m\n",
      "[nltk_data] Downloading package punkt to /home/jovyan/nltk_data...\n",
      "[nltk_data]   Package punkt is already up-to-date!\n"
     ]
    }
   ],
   "source": [
    "# # optuna.logging.get_logger(\"optuna\").addHandler(logging.StreamHandler(sys.stdout))\n",
    "feature_search_space = {\n",
    "    'stopwords_type': ['wstop', 'wostop'],\n",
    "    'from_selection': [True, False],\n",
    "    'pos_feature_type': ['sum', 'onehot', 'none'],\n",
    "    'tag_feature_type': ['sum', 'onehot', 'none'],\n",
    "    'word_count_feature_type': ['count_words', 'none'],\n",
    "#     'word_level_feature_type': ['dep', 'triplet']\n",
    "}\n",
    "params = {\n",
    "    'batch_size': 16,\n",
    "    'dropout': 0.09,\n",
    "    'hidden_dim': 128,\n",
    "    'with_sequential_layer': False,\n",
    "    'learning_rate': 0.03698629814522988,\n",
    "    'optimizer_weigth_decay': 0.02355650972967366,\n",
    "    'pos_weight': 4.0042918454935625,\n",
    "    'embedding_model_name': 'all-mpnet-base-v2'\n",
    "}\n",
    "study = optuna.create_study(\n",
    "    study_name=f'sent_nn_featOptim_sGrid_pNone_df{dataset_frac}_wf{worthy_frac}',\n",
    "#     sampler=optuna.samplers.TPESampler(),\n",
    "    sampler=optuna.samplers.GridSampler(feature_search_space),\n",
    "    # pruner=optuna.pruners.MedianPruner(),\n",
    "    direction='maximize'\n",
    ")\n",
    "logf_path = p.join(LOG_DIR_PATH, f'{study.study_name}.log')\n",
    "study.optimize(objective, n_trials=150)\n",
    "\n",
    "study_path = os.path.join(optim_path, f'{study.study_name}.pkl')\n",
    "torch.save(study, study_path)\n",
    "torch.save(params, f'{os.path.join(optim_path, study.study_name)}_params.pkl')"
   ]
  },
  {
   "cell_type": "code",
   "execution_count": null,
   "metadata": {},
   "outputs": [],
   "source": [
    "loaded_study = torch.load(study_path)\n",
    "\n",
    "print(loaded_study.best_trial.params)\n",
    "print(loaded_study.best_trial)"
   ]
  }
 ],
 "metadata": {
  "interpreter": {
   "hash": "0566b9ebc7a58507829be3d77002d1a3a0910233c54c7888c127aa3b7af58774"
  },
  "kernelspec": {
   "display_name": "Python 3",
   "language": "python",
   "name": "python3"
  },
  "language_info": {
   "codemirror_mode": {
    "name": "ipython",
    "version": 3
   },
   "file_extension": ".py",
   "mimetype": "text/x-python",
   "name": "python",
   "nbconvert_exporter": "python",
   "pygments_lexer": "ipython3",
   "version": "3.7.4"
  }
 },
 "nbformat": 4,
 "nbformat_minor": 4
}
