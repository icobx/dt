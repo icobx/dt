{
 "cells": [
  {
   "cell_type": "code",
   "execution_count": 6,
   "metadata": {},
   "outputs": [],
   "source": [
    "import os.path as p\n",
    "import pandas as pd\n",
    "import nltk\n",
    "import pickle\n",
    "import spacy as s\n",
    "from spacy import displacy\n",
    "import plotly.express as px\n",
    "import plotly.graph_objects as go\n",
    "\n",
    "from nltk.tokenize import word_tokenize\n",
    "from definitions import *\n",
    "from dataset_helper_functions import *"
   ]
  },
  {
   "cell_type": "code",
   "execution_count": 7,
   "metadata": {},
   "outputs": [
    {
     "name": "stdout",
     "output_type": "stream",
     "text": [
      "We :  nsubj  | head:  invest\n",
      "must :  aux  | head:  invest\n",
      "invest :  ROOT  | head:  invest\n",
      "in :  prep  | head:  invest\n",
      "our :  poss  | head:  people\n",
      "people :  pobj  | head:  in\n",
      ". :  punct  | head:  invest\n"
     ]
    }
   ],
   "source": [
    "nlp = s.load('en_core_web_lg')\n",
    "\n",
    "sent = 'My car is faster than the other cars.'\n",
    "# sent = 'You have said that it would undermine who we are as Americans, shutting our doors.'\n",
    "# sent = 'There is a pretty excruciating process that refugees go through.'\n",
    "sent = 'There are two economic realities in America today.'\n",
    "sent = 'We must invest in our people.'\n",
    "# sent = 'I prefer the morning flight through Denver.'\n",
    "nlpd = nlp(sent)\n",
    "\n",
    "# for t in nlpd:\n",
    "#     print(t.text, ': ', t.pos_, ' | ', t.tag_)\n",
    "for t in nlpd:\n",
    "    print(t.text, ': ', t.dep_, ' | head: ', t.head.text)\n",
    "\n",
    "# displacy.serve(nlpd, style=\"dep\")\n"
   ]
  },
  {
   "cell_type": "code",
   "execution_count": 8,
   "metadata": {},
   "outputs": [
    {
     "name": "stdout",
     "output_type": "stream",
     "text": [
      "ROOT :  None\n",
      "acl :  clausal modifier of noun (adjectival clause)\n",
      "acomp :  adjectival complement\n",
      "advcl :  adverbial clause modifier\n",
      "advmod :  adverbial modifier\n",
      "agent :  agent\n",
      "amod :  adjectival modifier\n",
      "appos :  appositional modifier\n",
      "attr :  attribute\n",
      "aux :  auxiliary\n",
      "auxpass :  auxiliary (passive)\n",
      "case :  case marking\n",
      "cc :  coordinating conjunction\n",
      "ccomp :  clausal complement\n",
      "compound :  compound\n",
      "conj :  conjunct\n",
      "csubj :  clausal subject\n",
      "csubjpass :  clausal subject (passive)\n",
      "dative :  dative\n",
      "dep :  unclassified dependent\n",
      "det :  determiner\n",
      "dobj :  direct object\n",
      "expl :  expletive\n",
      "intj :  interjection\n",
      "mark :  marker\n",
      "meta :  meta modifier\n",
      "neg :  negation modifier\n",
      "nmod :  modifier of nominal\n",
      "npadvmod :  noun phrase as adverbial modifier\n",
      "nsubj :  nominal subject\n",
      "nsubjpass :  nominal subject (passive)\n",
      "nummod :  numeric modifier\n",
      "oprd :  object predicate\n",
      "parataxis :  parataxis\n",
      "pcomp :  complement of preposition\n",
      "pobj :  object of preposition\n",
      "poss :  possession modifier\n",
      "preconj :  pre-correlative conjunction\n",
      "predet :  None\n",
      "prep :  prepositional modifier\n",
      "prt :  particle\n",
      "punct :  punctuation\n",
      "quantmod :  modifier of quantifier\n",
      "relcl :  relative clause modifier\n",
      "xcomp :  open clausal complement\n"
     ]
    }
   ],
   "source": [
    "tags = nlp.get_pipe('parser').labels\n",
    "\n",
    "for t in tags:\n",
    "    print(t, ': ', s.explain(t))"
   ]
  },
  {
   "cell_type": "markdown",
   "metadata": {},
   "source": [
    "Global switches."
   ]
  },
  {
   "cell_type": "code",
   "execution_count": 9,
   "metadata": {},
   "outputs": [
    {
     "name": "stdout",
     "output_type": "stream",
     "text": [
      "440\n",
      "440\n"
     ]
    }
   ],
   "source": [
    "try:\n",
    "    IS_MASTER\n",
    "except: \n",
    "    IS_MASTER = False\n",
    "\n",
    "if not IS_MASTER:\n",
    "    dev_path = p.join(PROC_DATA_DIR_PATH, 'dev')\n",
    "    dev_tsv_path = p.join(dev_path, 'dev.tsv')\n",
    "    dev_pkl_path = p.join(dev_path, 'dev_spacy.pkl')\n",
    "\n",
    "    # if p.exists(dev_pkl_path):\n",
    "    #     dev = pd.read_pickle(dev_pkl_path)\n",
    "    # else:\n",
    "    #     if not p.exists(dev_tsv_path):\n",
    "    #         sample_development_set()\n",
    "    # # train_path = os.path.join(POLIT_DATA_DIR_PATH, 'train', 'after_leak_train_combined.tsv')\n",
    "    #     dev = pd.read_csv(dev_tsv_path, sep='\\t', index_col=False)\n",
    "    dev = sample_development_set(should_return=True, train_filename='after_leak_train_combined.tsv')\n",
    "\n",
    "print(len(dev[dev['label'] == 1]))\n",
    "print(len(dev[dev['label'] == 0]))"
   ]
  },
  {
   "cell_type": "markdown",
   "metadata": {},
   "source": [
    "Configure spacy, create nltk stopwords set.\n",
    "\n",
    "***might be interesting to try POS features with and without negation words like no, not, n't***"
   ]
  },
  {
   "cell_type": "code",
   "execution_count": 10,
   "metadata": {},
   "outputs": [],
   "source": [
    "spacy = s.load('en_core_web_lg') # en_core_web_trf for accuracy\n",
    "stopwords = set(nltk.corpus.stopwords.words('english'))\n",
    "# print(stopwords)"
   ]
  },
  {
   "cell_type": "markdown",
   "metadata": {},
   "source": [
    "Apply spacy to content tokenized with nltk and joined. Extra step is done to utilise more sensitive nltk tokenizer."
   ]
  },
  {
   "cell_type": "code",
   "execution_count": 11,
   "metadata": {},
   "outputs": [
    {
     "name": "stdout",
     "output_type": "stream",
     "text": [
      "Thirty-six years ago, Ronald Reagan and George H.W.\n",
      "9\n",
      "11\n"
     ]
    }
   ],
   "source": [
    "# print(spacy.get_pipe('parser').labels)\n",
    "# print(spacy.get_pipe('tagger').labels)\n",
    "\n",
    "sent = dev.loc[0, 'content']\n",
    "xx = spacy(sent)\n",
    "print(sent)\n",
    "print(len([t for t in xx if not t.is_punct]))\n",
    "print(len(xx))\n",
    "# x = [t.pos_ for t in spacy(sent)]\n",
    "# print(x)\n",
    "# y = [t.pos_ for t in spacy(' '.join([w for w in nltk.word_tokenize(sent) if w not in stopwords]))]\n",
    "# print(y)"
   ]
  },
  {
   "cell_type": "code",
   "execution_count": 12,
   "metadata": {},
   "outputs": [
    {
     "name": "stdout",
     "output_type": "stream",
     "text": [
      "temp\n"
     ]
    }
   ],
   "source": [
    "if 'spacy' not in dev.columns:\n",
    "    dev['spacy'] = dev['content'].apply(\n",
    "        lambda x: spacy(\n",
    "            ' '.join([t for t in word_tokenize(x)])\n",
    "        )\n",
    "    ).values\n",
    "    print('temp')\n",
    "    dev.to_pickle(p.join(dev_path, 'dev_spacy.pkl'))"
   ]
  },
  {
   "cell_type": "markdown",
   "metadata": {},
   "source": [
    "POS tags analysis\n",
    "- `pos_` represents coarse-grained POS tag described [here](https://universaldependencies.org/u/pos/)\n",
    "- `tag_` represents fine-grained POS tag\n",
    "\n",
    "Initialize pos and tag dataframes and dataframe holding number of sentences each tag appears in."
   ]
  },
  {
   "cell_type": "markdown",
   "metadata": {},
   "source": []
  },
  {
   "cell_type": "code",
   "execution_count": 13,
   "metadata": {},
   "outputs": [],
   "source": [
    "pos_df = pd.DataFrame(\n",
    "    index=pd.MultiIndex.from_product(\n",
    "        [\n",
    "            ['worthy', 'unworthy'],\n",
    "            ['wstop', 'wostop'],\n",
    "        ]\n",
    "    ),\n",
    ")\n",
    "tag_df = pd.DataFrame(\n",
    "    index=pd.MultiIndex.from_product(\n",
    "        [\n",
    "            ['worthy', 'unworthy'],\n",
    "            ['wstop', 'wostop'],\n",
    "        ]\n",
    "    ),\n",
    ")\n",
    "dep_df = pd.DataFrame(\n",
    "    index=pd.MultiIndex.from_product(\n",
    "        [\n",
    "            ['worthy', 'unworthy'],\n",
    "            ['wstop', 'wostop'],\n",
    "        ]\n",
    "    ),\n",
    ")\n",
    "\n",
    "# this might not make much sense since almost all sentences have most of the tags\n",
    "# TODO: ask about this\n",
    "# pos_sent_count = dict()\n",
    "# tag_sent_count = dict()\n",
    "# sent_count = pd.DataFrame(index=['pos', ''])"
   ]
  },
  {
   "cell_type": "markdown",
   "metadata": {},
   "source": [
    "Result of counting occurances of tags in sentences\n",
    "\n",
    "```\n",
    "{\n",
    "    'ADP': 654, 'NUM': 654, 'PROPN': 651, 'VERB': 654, \n",
    "    'SCONJ': 654, 'PRON': 654, 'NOUN': 654, 'AUX': 654, \n",
    "    'DET': 654, 'ADJ': 654, 'ADV': 652, 'PART': 653, \n",
    "    'CCONJ': 653, 'INTJ': 623, 'SYM': 643\n",
    "}\n",
    "```"
   ]
  },
  {
   "cell_type": "markdown",
   "metadata": {},
   "source": [
    "Fill pos and tag dataframes.\n",
    "\n",
    "To make `'wstop'` represent all the words including stopwords, `'wostop'` needs to be added."
   ]
  },
  {
   "cell_type": "code",
   "execution_count": 14,
   "metadata": {},
   "outputs": [],
   "source": [
    "# sentence_count = 1\n",
    "for _, sent, label in dev[['spacy', 'label']].itertuples():\n",
    "    worthiness = 'worthy' if label == 1 else 'unworthy'\n",
    "\n",
    "    for t in sent:\n",
    "        # ignore punctuation\n",
    "        if t.is_punct or t.pos_ == 'PUNCT' or t.pos_ == 'X':\n",
    "            continue\n",
    "\n",
    "        # pos_sent_count[t.pos_] = sentence_count\n",
    "        # tag_sent_count[t.tag_] = sentence_count\n",
    "\n",
    "        stop = 'wstop' if t.is_stop or t.lower_ in stopwords else 'wostop'\n",
    "\n",
    "        if t.pos_ in pos_df.columns:\n",
    "            pos_df.loc[(worthiness, stop), t.pos_] += 1\n",
    "        else:\n",
    "            pos_df.loc[:, t.pos_] = 0\n",
    "            pos_df.loc[(worthiness, stop), t.pos_] = 1\n",
    "\n",
    "        if t.tag_ in tag_df.columns:\n",
    "            tag_df.loc[(worthiness, stop), t.tag_] += 1\n",
    "        else:\n",
    "            tag_df.loc[:, t.tag_] = 0\n",
    "            tag_df.loc[(worthiness, stop), t.tag_] = 1\n",
    "\n",
    "        if t.dep_ in dep_df.columns:\n",
    "            dep_df.loc[(worthiness, stop), t.dep_] += 1\n",
    "        else:\n",
    "            dep_df.loc[:, t.dep_] = 0\n",
    "            dep_df.loc[(worthiness, stop), t.dep_] = 1\n",
    "    \n",
    "    # sentence_count += 1\n",
    "\n",
    "pos_df.loc['worthy', 'wstop'] = pos_df.loc['worthy', 'wstop'] + pos_df.loc['worthy', 'wostop']\n",
    "tag_df.loc['worthy', 'wstop'] = tag_df.loc['worthy', 'wstop'] + tag_df.loc['worthy', 'wostop']\n",
    "dep_df.loc['worthy', 'wstop'] = dep_df.loc['worthy', 'wstop'] + dep_df.loc['worthy', 'wostop']"
   ]
  },
  {
   "cell_type": "markdown",
   "metadata": {},
   "source": [
    "Create simple dataframe "
   ]
  },
  {
   "cell_type": "code",
   "execution_count": 15,
   "metadata": {},
   "outputs": [],
   "source": [
    "# print(set(pos_df.index.get_level_values(1)))"
   ]
  },
  {
   "cell_type": "markdown",
   "metadata": {},
   "source": [
    "Rearange data for easier usage for graphing."
   ]
  },
  {
   "cell_type": "code",
   "execution_count": 16,
   "metadata": {},
   "outputs": [],
   "source": [
    "comp_dfs = {'pos': pos_df, 'tag': tag_df, 'dep': dep_df}\n",
    "\n",
    "for cat, df in comp_dfs.items():\n",
    "    for cat_s in set(df.index.get_level_values(1)):\n",
    "        im_df = df.xs(cat_s, level=1, drop_level=True).T.reset_index(level=0).rename(columns={'index': cat})\n",
    "        im_df['sum'] = im_df['worthy'] + im_df['unworthy']\n",
    "        im_df['worthy_ratio'] = im_df['worthy'] / im_df['sum']\n",
    "        im_df['unworthy_ratio'] = im_df['unworthy'] / im_df['sum']\n",
    "        im_df = im_df.fillna(0)\n",
    "\n",
    "        if type(comp_dfs[cat]) != dict:\n",
    "            comp_dfs[cat] = {cat_s: im_df}\n",
    "        else:\n",
    "            comp_dfs[cat][cat_s] = im_df"
   ]
  },
  {
   "cell_type": "markdown",
   "metadata": {},
   "source": [
    "Select those POS tags which are the best discriminants between worthy and unworthy sentences.\n",
    "\n",
    "Conditions:\n",
    "- at least `min_occ` occurances\n",
    "- at least `min_ratio_diff` ratio difference"
   ]
  },
  {
   "cell_type": "code",
   "execution_count": 73,
   "metadata": {},
   "outputs": [],
   "source": [
    "selected_feats = {\n",
    "    'pos': {\n",
    "        'wstop': None,\n",
    "        'wostop': None,\n",
    "    },\n",
    "    'tag': {\n",
    "        'wstop': None,\n",
    "        'wostop': None,\n",
    "    },\n",
    "    'dep': {\n",
    "        'wstop': None,\n",
    "        'wostop': None,\n",
    "    }\n",
    "}\n",
    "thresholds = {\n",
    "    'min_occ': {\n",
    "        'wstop': .02,\n",
    "        'wostop': .005,\n",
    "    },\n",
    "    'min_ratio_diff': {\n",
    "        'wstop': .75,\n",
    "        'wostop': .5,\n",
    "    }\n",
    "}"
   ]
  },
  {
   "cell_type": "markdown",
   "metadata": {},
   "source": [
    "Create figures depicting counts and ratios of each coarse- and fine-grained POS tags in both worthy and unworthy sentences."
   ]
  },
  {
   "cell_type": "code",
   "execution_count": 85,
   "metadata": {},
   "outputs": [
    {
     "name": "stdout",
     "output_type": "stream",
     "text": [
      "      pos  worthy  unworthy   sum  worthy_ratio  unworthy_ratio  occ_frac  \\\n",
      "0     NUM     278        31   309      0.899676        0.100324  0.026280   \n",
      "1    NOUN    1503        21  1524      0.986220        0.013780  0.129614   \n",
      "2     ADV     426       223   649      0.656394        0.343606  0.055196   \n",
      "3   PROPN     516        14   530      0.973585        0.026415  0.045076   \n",
      "4   CCONJ     264       232   496      0.532258        0.467742  0.042184   \n",
      "5    PRON     886       805  1691      0.523950        0.476050  0.143817   \n",
      "6    VERB    1192       295  1487      0.801614        0.198386  0.126467   \n",
      "7     DET     818       536  1354      0.604136        0.395864  0.115156   \n",
      "8     AUX     509       418   927      0.549083        0.450917  0.078840   \n",
      "9     ADJ     535        57   592      0.903716        0.096284  0.050349   \n",
      "10    ADP     868       503  1371      0.633115        0.366885  0.116601   \n",
      "11   PART     207       228   435      0.475862        0.524138  0.036996   \n",
      "12    SYM      43         0    43      1.000000        0.000000  0.003657   \n",
      "13  SCONJ     198       112   310      0.638710        0.361290  0.026365   \n",
      "14   INTJ      22        18    40      0.550000        0.450000  0.003402   \n",
      "\n",
      "    Occurance Percentage POS tags POS Tags  Worthy Percentage  \\\n",
      "0               0.026280      NUM      NUM           0.899676   \n",
      "1               0.129614     NOUN     NOUN           0.986220   \n",
      "2               0.055196      ADV      ADV           0.656394   \n",
      "3               0.045076    PROPN    PROPN           0.973585   \n",
      "4               0.042184    CCONJ    CCONJ           0.532258   \n",
      "5               0.143817     PRON     PRON           0.523950   \n",
      "6               0.126467     VERB     VERB           0.801614   \n",
      "7               0.115156      DET      DET           0.604136   \n",
      "8               0.078840      AUX      AUX           0.549083   \n",
      "9               0.050349      ADJ      ADJ           0.903716   \n",
      "10              0.116601      ADP      ADP           0.633115   \n",
      "11              0.036996     PART     PART           0.475862   \n",
      "12              0.003657      SYM      SYM           1.000000   \n",
      "13              0.026365    SCONJ    SCONJ           0.638710   \n",
      "14              0.003402     INTJ     INTJ           0.550000   \n",
      "\n",
      "    Unworthy Percentage  Ratio Difference  ratio_diff  occurances  \\\n",
      "0              0.100324          0.799353    0.799353    0.026280   \n",
      "1              0.013780          0.972441    0.972441    0.129614   \n",
      "2              0.343606          0.312789    0.312789    0.055196   \n",
      "3              0.026415          0.947170    0.947170    0.045076   \n",
      "4              0.467742          0.064516    0.064516    0.042184   \n",
      "5              0.476050          0.047901    0.047901    0.143817   \n",
      "6              0.198386          0.603228    0.603228    0.126467   \n",
      "7              0.395864          0.208272    0.208272    0.115156   \n",
      "8              0.450917          0.098166    0.098166    0.078840   \n",
      "9              0.096284          0.807432    0.807432    0.050349   \n",
      "10             0.366885          0.266229    0.266229    0.116601   \n",
      "11             0.524138          0.048276    0.048276    0.036996   \n",
      "12             0.000000          1.000000    1.000000    0.003657   \n",
      "13             0.361290          0.277419    0.277419    0.026365   \n",
      "14             0.450000          0.100000    0.100000    0.003402   \n",
      "\n",
      "    Worthy/Unworthy Ratio Difference  Occurrence Percentage  \\\n",
      "0                           0.799353               0.026280   \n",
      "1                           0.972441               0.129614   \n",
      "2                           0.312789               0.055196   \n",
      "3                           0.947170               0.045076   \n",
      "4                           0.064516               0.042184   \n",
      "5                           0.047901               0.143817   \n",
      "6                           0.603228               0.126467   \n",
      "7                           0.208272               0.115156   \n",
      "8                           0.098166               0.078840   \n",
      "9                           0.807432               0.050349   \n",
      "10                          0.266229               0.116601   \n",
      "11                          0.048276               0.036996   \n",
      "12                          1.000000               0.003657   \n",
      "13                          0.277419               0.026365   \n",
      "14                          0.100000               0.003402   \n",
      "\n",
      "    Check-worthy and Check-unworthy Fractions Difference  \\\n",
      "0                                            0.799353      \n",
      "1                                            0.972441      \n",
      "2                                            0.312789      \n",
      "3                                            0.947170      \n",
      "4                                            0.064516      \n",
      "5                                            0.047901      \n",
      "6                                            0.603228      \n",
      "7                                            0.208272      \n",
      "8                                            0.098166      \n",
      "9                                            0.807432      \n",
      "10                                           0.266229      \n",
      "11                                           0.048276      \n",
      "12                                           1.000000      \n",
      "13                                           0.277419      \n",
      "14                                           0.100000      \n",
      "\n",
      "    Check-worthy/-unworthy Fractions Difference  \n",
      "0                                      0.799353  \n",
      "1                                      0.972441  \n",
      "2                                      0.312789  \n",
      "3                                      0.947170  \n",
      "4                                      0.064516  \n",
      "5                                      0.047901  \n",
      "6                                      0.603228  \n",
      "7                                      0.208272  \n",
      "8                                      0.098166  \n",
      "9                                      0.807432  \n",
      "10                                     0.266229  \n",
      "11                                     0.048276  \n",
      "12                                     1.000000  \n",
      "13                                     0.277419  \n",
      "14                                     0.100000  \n"
     ]
    },
    {
     "data": {
      "application/vnd.plotly.v1+json": {
       "config": {
        "plotlyServerURL": "https://plot.ly"
       },
       "data": [
        {
         "alignmentgroup": "True",
         "cliponaxis": false,
         "hovertemplate": "POS Tags=%{x}<br>Occurrence Percentage=%{y}<extra></extra>",
         "legendgroup": "",
         "marker": {
          "color": "#636efa",
          "pattern": {
           "shape": ""
          }
         },
         "name": "",
         "offsetgroup": "",
         "orientation": "v",
         "showlegend": false,
         "textangle": 0,
         "textfont": {
          "size": 12
         },
         "textposition": "outside",
         "texttemplate": "%{y:.3f}",
         "type": "bar",
         "x": [
          "NUM",
          "NOUN",
          "ADV",
          "PROPN",
          "CCONJ",
          "PRON",
          "VERB",
          "DET",
          "AUX",
          "ADJ",
          "ADP",
          "PART",
          "SYM",
          "SCONJ",
          "INTJ"
         ],
         "xaxis": "x",
         "y": [
          0.02627997958836537,
          0.12961387991154957,
          0.055196461983330496,
          0.0450756931450927,
          0.04218404490559619,
          0.14381697567613538,
          0.1264670862391563,
          0.11515563871406702,
          0.07883993876509611,
          0.050348698758292225,
          0.11660146283381527,
          0.03699608777002892,
          0.0036570845381867665,
          0.02636502806599762,
          0.0034019391052900155
         ],
         "yaxis": "y"
        }
       ],
       "layout": {
        "barmode": "relative",
        "legend": {
         "tracegroupgap": 0
        },
        "margin": {
         "t": 60
        },
        "shapes": [
         {
          "line": {
           "color": "DarkOrange",
           "dash": "dash",
           "width": 2
          },
          "type": "line",
          "x0": -0.5,
          "x1": 14.5,
          "y0": 0.02,
          "y1": 0.02
         }
        ],
        "showlegend": false,
        "template": {
         "data": {
          "bar": [
           {
            "error_x": {
             "color": "#2a3f5f"
            },
            "error_y": {
             "color": "#2a3f5f"
            },
            "marker": {
             "line": {
              "color": "#E5ECF6",
              "width": 0.5
             },
             "pattern": {
              "fillmode": "overlay",
              "size": 10,
              "solidity": 0.2
             }
            },
            "type": "bar"
           }
          ],
          "barpolar": [
           {
            "marker": {
             "line": {
              "color": "#E5ECF6",
              "width": 0.5
             },
             "pattern": {
              "fillmode": "overlay",
              "size": 10,
              "solidity": 0.2
             }
            },
            "type": "barpolar"
           }
          ],
          "carpet": [
           {
            "aaxis": {
             "endlinecolor": "#2a3f5f",
             "gridcolor": "white",
             "linecolor": "white",
             "minorgridcolor": "white",
             "startlinecolor": "#2a3f5f"
            },
            "baxis": {
             "endlinecolor": "#2a3f5f",
             "gridcolor": "white",
             "linecolor": "white",
             "minorgridcolor": "white",
             "startlinecolor": "#2a3f5f"
            },
            "type": "carpet"
           }
          ],
          "choropleth": [
           {
            "colorbar": {
             "outlinewidth": 0,
             "ticks": ""
            },
            "type": "choropleth"
           }
          ],
          "contour": [
           {
            "colorbar": {
             "outlinewidth": 0,
             "ticks": ""
            },
            "colorscale": [
             [
              0,
              "#0d0887"
             ],
             [
              0.1111111111111111,
              "#46039f"
             ],
             [
              0.2222222222222222,
              "#7201a8"
             ],
             [
              0.3333333333333333,
              "#9c179e"
             ],
             [
              0.4444444444444444,
              "#bd3786"
             ],
             [
              0.5555555555555556,
              "#d8576b"
             ],
             [
              0.6666666666666666,
              "#ed7953"
             ],
             [
              0.7777777777777778,
              "#fb9f3a"
             ],
             [
              0.8888888888888888,
              "#fdca26"
             ],
             [
              1,
              "#f0f921"
             ]
            ],
            "type": "contour"
           }
          ],
          "contourcarpet": [
           {
            "colorbar": {
             "outlinewidth": 0,
             "ticks": ""
            },
            "type": "contourcarpet"
           }
          ],
          "heatmap": [
           {
            "colorbar": {
             "outlinewidth": 0,
             "ticks": ""
            },
            "colorscale": [
             [
              0,
              "#0d0887"
             ],
             [
              0.1111111111111111,
              "#46039f"
             ],
             [
              0.2222222222222222,
              "#7201a8"
             ],
             [
              0.3333333333333333,
              "#9c179e"
             ],
             [
              0.4444444444444444,
              "#bd3786"
             ],
             [
              0.5555555555555556,
              "#d8576b"
             ],
             [
              0.6666666666666666,
              "#ed7953"
             ],
             [
              0.7777777777777778,
              "#fb9f3a"
             ],
             [
              0.8888888888888888,
              "#fdca26"
             ],
             [
              1,
              "#f0f921"
             ]
            ],
            "type": "heatmap"
           }
          ],
          "heatmapgl": [
           {
            "colorbar": {
             "outlinewidth": 0,
             "ticks": ""
            },
            "colorscale": [
             [
              0,
              "#0d0887"
             ],
             [
              0.1111111111111111,
              "#46039f"
             ],
             [
              0.2222222222222222,
              "#7201a8"
             ],
             [
              0.3333333333333333,
              "#9c179e"
             ],
             [
              0.4444444444444444,
              "#bd3786"
             ],
             [
              0.5555555555555556,
              "#d8576b"
             ],
             [
              0.6666666666666666,
              "#ed7953"
             ],
             [
              0.7777777777777778,
              "#fb9f3a"
             ],
             [
              0.8888888888888888,
              "#fdca26"
             ],
             [
              1,
              "#f0f921"
             ]
            ],
            "type": "heatmapgl"
           }
          ],
          "histogram": [
           {
            "marker": {
             "pattern": {
              "fillmode": "overlay",
              "size": 10,
              "solidity": 0.2
             }
            },
            "type": "histogram"
           }
          ],
          "histogram2d": [
           {
            "colorbar": {
             "outlinewidth": 0,
             "ticks": ""
            },
            "colorscale": [
             [
              0,
              "#0d0887"
             ],
             [
              0.1111111111111111,
              "#46039f"
             ],
             [
              0.2222222222222222,
              "#7201a8"
             ],
             [
              0.3333333333333333,
              "#9c179e"
             ],
             [
              0.4444444444444444,
              "#bd3786"
             ],
             [
              0.5555555555555556,
              "#d8576b"
             ],
             [
              0.6666666666666666,
              "#ed7953"
             ],
             [
              0.7777777777777778,
              "#fb9f3a"
             ],
             [
              0.8888888888888888,
              "#fdca26"
             ],
             [
              1,
              "#f0f921"
             ]
            ],
            "type": "histogram2d"
           }
          ],
          "histogram2dcontour": [
           {
            "colorbar": {
             "outlinewidth": 0,
             "ticks": ""
            },
            "colorscale": [
             [
              0,
              "#0d0887"
             ],
             [
              0.1111111111111111,
              "#46039f"
             ],
             [
              0.2222222222222222,
              "#7201a8"
             ],
             [
              0.3333333333333333,
              "#9c179e"
             ],
             [
              0.4444444444444444,
              "#bd3786"
             ],
             [
              0.5555555555555556,
              "#d8576b"
             ],
             [
              0.6666666666666666,
              "#ed7953"
             ],
             [
              0.7777777777777778,
              "#fb9f3a"
             ],
             [
              0.8888888888888888,
              "#fdca26"
             ],
             [
              1,
              "#f0f921"
             ]
            ],
            "type": "histogram2dcontour"
           }
          ],
          "mesh3d": [
           {
            "colorbar": {
             "outlinewidth": 0,
             "ticks": ""
            },
            "type": "mesh3d"
           }
          ],
          "parcoords": [
           {
            "line": {
             "colorbar": {
              "outlinewidth": 0,
              "ticks": ""
             }
            },
            "type": "parcoords"
           }
          ],
          "pie": [
           {
            "automargin": true,
            "type": "pie"
           }
          ],
          "scatter": [
           {
            "marker": {
             "colorbar": {
              "outlinewidth": 0,
              "ticks": ""
             }
            },
            "type": "scatter"
           }
          ],
          "scatter3d": [
           {
            "line": {
             "colorbar": {
              "outlinewidth": 0,
              "ticks": ""
             }
            },
            "marker": {
             "colorbar": {
              "outlinewidth": 0,
              "ticks": ""
             }
            },
            "type": "scatter3d"
           }
          ],
          "scattercarpet": [
           {
            "marker": {
             "colorbar": {
              "outlinewidth": 0,
              "ticks": ""
             }
            },
            "type": "scattercarpet"
           }
          ],
          "scattergeo": [
           {
            "marker": {
             "colorbar": {
              "outlinewidth": 0,
              "ticks": ""
             }
            },
            "type": "scattergeo"
           }
          ],
          "scattergl": [
           {
            "marker": {
             "colorbar": {
              "outlinewidth": 0,
              "ticks": ""
             }
            },
            "type": "scattergl"
           }
          ],
          "scattermapbox": [
           {
            "marker": {
             "colorbar": {
              "outlinewidth": 0,
              "ticks": ""
             }
            },
            "type": "scattermapbox"
           }
          ],
          "scatterpolar": [
           {
            "marker": {
             "colorbar": {
              "outlinewidth": 0,
              "ticks": ""
             }
            },
            "type": "scatterpolar"
           }
          ],
          "scatterpolargl": [
           {
            "marker": {
             "colorbar": {
              "outlinewidth": 0,
              "ticks": ""
             }
            },
            "type": "scatterpolargl"
           }
          ],
          "scatterternary": [
           {
            "marker": {
             "colorbar": {
              "outlinewidth": 0,
              "ticks": ""
             }
            },
            "type": "scatterternary"
           }
          ],
          "surface": [
           {
            "colorbar": {
             "outlinewidth": 0,
             "ticks": ""
            },
            "colorscale": [
             [
              0,
              "#0d0887"
             ],
             [
              0.1111111111111111,
              "#46039f"
             ],
             [
              0.2222222222222222,
              "#7201a8"
             ],
             [
              0.3333333333333333,
              "#9c179e"
             ],
             [
              0.4444444444444444,
              "#bd3786"
             ],
             [
              0.5555555555555556,
              "#d8576b"
             ],
             [
              0.6666666666666666,
              "#ed7953"
             ],
             [
              0.7777777777777778,
              "#fb9f3a"
             ],
             [
              0.8888888888888888,
              "#fdca26"
             ],
             [
              1,
              "#f0f921"
             ]
            ],
            "type": "surface"
           }
          ],
          "table": [
           {
            "cells": {
             "fill": {
              "color": "#EBF0F8"
             },
             "line": {
              "color": "white"
             }
            },
            "header": {
             "fill": {
              "color": "#C8D4E3"
             },
             "line": {
              "color": "white"
             }
            },
            "type": "table"
           }
          ]
         },
         "layout": {
          "annotationdefaults": {
           "arrowcolor": "#2a3f5f",
           "arrowhead": 0,
           "arrowwidth": 1
          },
          "autotypenumbers": "strict",
          "coloraxis": {
           "colorbar": {
            "outlinewidth": 0,
            "ticks": ""
           }
          },
          "colorscale": {
           "diverging": [
            [
             0,
             "#8e0152"
            ],
            [
             0.1,
             "#c51b7d"
            ],
            [
             0.2,
             "#de77ae"
            ],
            [
             0.3,
             "#f1b6da"
            ],
            [
             0.4,
             "#fde0ef"
            ],
            [
             0.5,
             "#f7f7f7"
            ],
            [
             0.6,
             "#e6f5d0"
            ],
            [
             0.7,
             "#b8e186"
            ],
            [
             0.8,
             "#7fbc41"
            ],
            [
             0.9,
             "#4d9221"
            ],
            [
             1,
             "#276419"
            ]
           ],
           "sequential": [
            [
             0,
             "#0d0887"
            ],
            [
             0.1111111111111111,
             "#46039f"
            ],
            [
             0.2222222222222222,
             "#7201a8"
            ],
            [
             0.3333333333333333,
             "#9c179e"
            ],
            [
             0.4444444444444444,
             "#bd3786"
            ],
            [
             0.5555555555555556,
             "#d8576b"
            ],
            [
             0.6666666666666666,
             "#ed7953"
            ],
            [
             0.7777777777777778,
             "#fb9f3a"
            ],
            [
             0.8888888888888888,
             "#fdca26"
            ],
            [
             1,
             "#f0f921"
            ]
           ],
           "sequentialminus": [
            [
             0,
             "#0d0887"
            ],
            [
             0.1111111111111111,
             "#46039f"
            ],
            [
             0.2222222222222222,
             "#7201a8"
            ],
            [
             0.3333333333333333,
             "#9c179e"
            ],
            [
             0.4444444444444444,
             "#bd3786"
            ],
            [
             0.5555555555555556,
             "#d8576b"
            ],
            [
             0.6666666666666666,
             "#ed7953"
            ],
            [
             0.7777777777777778,
             "#fb9f3a"
            ],
            [
             0.8888888888888888,
             "#fdca26"
            ],
            [
             1,
             "#f0f921"
            ]
           ]
          },
          "colorway": [
           "#636efa",
           "#EF553B",
           "#00cc96",
           "#ab63fa",
           "#FFA15A",
           "#19d3f3",
           "#FF6692",
           "#B6E880",
           "#FF97FF",
           "#FECB52"
          ],
          "font": {
           "color": "#2a3f5f"
          },
          "geo": {
           "bgcolor": "white",
           "lakecolor": "white",
           "landcolor": "#E5ECF6",
           "showlakes": true,
           "showland": true,
           "subunitcolor": "white"
          },
          "hoverlabel": {
           "align": "left"
          },
          "hovermode": "closest",
          "mapbox": {
           "style": "light"
          },
          "paper_bgcolor": "white",
          "plot_bgcolor": "#E5ECF6",
          "polar": {
           "angularaxis": {
            "gridcolor": "white",
            "linecolor": "white",
            "ticks": ""
           },
           "bgcolor": "#E5ECF6",
           "radialaxis": {
            "gridcolor": "white",
            "linecolor": "white",
            "ticks": ""
           }
          },
          "scene": {
           "xaxis": {
            "backgroundcolor": "#E5ECF6",
            "gridcolor": "white",
            "gridwidth": 2,
            "linecolor": "white",
            "showbackground": true,
            "ticks": "",
            "zerolinecolor": "white"
           },
           "yaxis": {
            "backgroundcolor": "#E5ECF6",
            "gridcolor": "white",
            "gridwidth": 2,
            "linecolor": "white",
            "showbackground": true,
            "ticks": "",
            "zerolinecolor": "white"
           },
           "zaxis": {
            "backgroundcolor": "#E5ECF6",
            "gridcolor": "white",
            "gridwidth": 2,
            "linecolor": "white",
            "showbackground": true,
            "ticks": "",
            "zerolinecolor": "white"
           }
          },
          "shapedefaults": {
           "line": {
            "color": "#2a3f5f"
           }
          },
          "ternary": {
           "aaxis": {
            "gridcolor": "white",
            "linecolor": "white",
            "ticks": ""
           },
           "baxis": {
            "gridcolor": "white",
            "linecolor": "white",
            "ticks": ""
           },
           "bgcolor": "#E5ECF6",
           "caxis": {
            "gridcolor": "white",
            "linecolor": "white",
            "ticks": ""
           }
          },
          "title": {
           "x": 0.05
          },
          "xaxis": {
           "automargin": true,
           "gridcolor": "white",
           "linecolor": "white",
           "ticks": "",
           "title": {
            "standoff": 15
           },
           "zerolinecolor": "white",
           "zerolinewidth": 2
          },
          "yaxis": {
           "automargin": true,
           "gridcolor": "white",
           "linecolor": "white",
           "ticks": "",
           "title": {
            "standoff": 15
           },
           "zerolinecolor": "white",
           "zerolinewidth": 2
          }
         }
        },
        "xaxis": {
         "anchor": "y",
         "domain": [
          0,
          1
         ],
         "title": {
          "text": "POS Tags"
         }
        },
        "yaxis": {
         "anchor": "x",
         "domain": [
          0,
          1
         ],
         "title": {
          "text": "Occurrence Percentage"
         }
        }
       }
      }
     },
     "metadata": {},
     "output_type": "display_data"
    },
    {
     "data": {
      "application/vnd.plotly.v1+json": {
       "config": {
        "plotlyServerURL": "https://plot.ly"
       },
       "data": [
        {
         "alignmentgroup": "True",
         "cliponaxis": false,
         "hovertemplate": "POS Tags=%{x}<br>Check-worthy/-unworthy Fractions Difference=%{y}<extra></extra>",
         "legendgroup": "",
         "marker": {
          "color": "#636efa",
          "pattern": {
           "shape": ""
          }
         },
         "name": "",
         "offsetgroup": "",
         "orientation": "v",
         "showlegend": false,
         "textangle": 0,
         "textfont": {
          "size": 12
         },
         "textposition": "outside",
         "texttemplate": "%{y:.2f}",
         "type": "bar",
         "x": [
          "NUM",
          "NOUN",
          "ADV",
          "PROPN",
          "CCONJ",
          "PRON",
          "VERB",
          "DET",
          "AUX",
          "ADJ",
          "ADP",
          "PART",
          "SYM",
          "SCONJ",
          "INTJ"
         ],
         "xaxis": "x",
         "y": [
          0.7993527508090614,
          0.9724409448818898,
          0.312788906009245,
          0.9471698113207547,
          0.06451612903225806,
          0.047900650502661124,
          0.6032279757901815,
          0.20827178729689805,
          0.09816612729234087,
          0.8074324324324325,
          0.26622902990517866,
          0.04827586206896556,
          1,
          0.27741935483870966,
          0.10000000000000003
         ],
         "yaxis": "y"
        }
       ],
       "layout": {
        "barmode": "relative",
        "legend": {
         "tracegroupgap": 0
        },
        "margin": {
         "t": 60
        },
        "shapes": [
         {
          "line": {
           "color": "DarkOrange",
           "dash": "dash",
           "width": 2
          },
          "type": "line",
          "x0": -0.5,
          "x1": 14.5,
          "y0": 0.75,
          "y1": 0.75
         }
        ],
        "template": {
         "data": {
          "bar": [
           {
            "error_x": {
             "color": "#2a3f5f"
            },
            "error_y": {
             "color": "#2a3f5f"
            },
            "marker": {
             "line": {
              "color": "#E5ECF6",
              "width": 0.5
             },
             "pattern": {
              "fillmode": "overlay",
              "size": 10,
              "solidity": 0.2
             }
            },
            "type": "bar"
           }
          ],
          "barpolar": [
           {
            "marker": {
             "line": {
              "color": "#E5ECF6",
              "width": 0.5
             },
             "pattern": {
              "fillmode": "overlay",
              "size": 10,
              "solidity": 0.2
             }
            },
            "type": "barpolar"
           }
          ],
          "carpet": [
           {
            "aaxis": {
             "endlinecolor": "#2a3f5f",
             "gridcolor": "white",
             "linecolor": "white",
             "minorgridcolor": "white",
             "startlinecolor": "#2a3f5f"
            },
            "baxis": {
             "endlinecolor": "#2a3f5f",
             "gridcolor": "white",
             "linecolor": "white",
             "minorgridcolor": "white",
             "startlinecolor": "#2a3f5f"
            },
            "type": "carpet"
           }
          ],
          "choropleth": [
           {
            "colorbar": {
             "outlinewidth": 0,
             "ticks": ""
            },
            "type": "choropleth"
           }
          ],
          "contour": [
           {
            "colorbar": {
             "outlinewidth": 0,
             "ticks": ""
            },
            "colorscale": [
             [
              0,
              "#0d0887"
             ],
             [
              0.1111111111111111,
              "#46039f"
             ],
             [
              0.2222222222222222,
              "#7201a8"
             ],
             [
              0.3333333333333333,
              "#9c179e"
             ],
             [
              0.4444444444444444,
              "#bd3786"
             ],
             [
              0.5555555555555556,
              "#d8576b"
             ],
             [
              0.6666666666666666,
              "#ed7953"
             ],
             [
              0.7777777777777778,
              "#fb9f3a"
             ],
             [
              0.8888888888888888,
              "#fdca26"
             ],
             [
              1,
              "#f0f921"
             ]
            ],
            "type": "contour"
           }
          ],
          "contourcarpet": [
           {
            "colorbar": {
             "outlinewidth": 0,
             "ticks": ""
            },
            "type": "contourcarpet"
           }
          ],
          "heatmap": [
           {
            "colorbar": {
             "outlinewidth": 0,
             "ticks": ""
            },
            "colorscale": [
             [
              0,
              "#0d0887"
             ],
             [
              0.1111111111111111,
              "#46039f"
             ],
             [
              0.2222222222222222,
              "#7201a8"
             ],
             [
              0.3333333333333333,
              "#9c179e"
             ],
             [
              0.4444444444444444,
              "#bd3786"
             ],
             [
              0.5555555555555556,
              "#d8576b"
             ],
             [
              0.6666666666666666,
              "#ed7953"
             ],
             [
              0.7777777777777778,
              "#fb9f3a"
             ],
             [
              0.8888888888888888,
              "#fdca26"
             ],
             [
              1,
              "#f0f921"
             ]
            ],
            "type": "heatmap"
           }
          ],
          "heatmapgl": [
           {
            "colorbar": {
             "outlinewidth": 0,
             "ticks": ""
            },
            "colorscale": [
             [
              0,
              "#0d0887"
             ],
             [
              0.1111111111111111,
              "#46039f"
             ],
             [
              0.2222222222222222,
              "#7201a8"
             ],
             [
              0.3333333333333333,
              "#9c179e"
             ],
             [
              0.4444444444444444,
              "#bd3786"
             ],
             [
              0.5555555555555556,
              "#d8576b"
             ],
             [
              0.6666666666666666,
              "#ed7953"
             ],
             [
              0.7777777777777778,
              "#fb9f3a"
             ],
             [
              0.8888888888888888,
              "#fdca26"
             ],
             [
              1,
              "#f0f921"
             ]
            ],
            "type": "heatmapgl"
           }
          ],
          "histogram": [
           {
            "marker": {
             "pattern": {
              "fillmode": "overlay",
              "size": 10,
              "solidity": 0.2
             }
            },
            "type": "histogram"
           }
          ],
          "histogram2d": [
           {
            "colorbar": {
             "outlinewidth": 0,
             "ticks": ""
            },
            "colorscale": [
             [
              0,
              "#0d0887"
             ],
             [
              0.1111111111111111,
              "#46039f"
             ],
             [
              0.2222222222222222,
              "#7201a8"
             ],
             [
              0.3333333333333333,
              "#9c179e"
             ],
             [
              0.4444444444444444,
              "#bd3786"
             ],
             [
              0.5555555555555556,
              "#d8576b"
             ],
             [
              0.6666666666666666,
              "#ed7953"
             ],
             [
              0.7777777777777778,
              "#fb9f3a"
             ],
             [
              0.8888888888888888,
              "#fdca26"
             ],
             [
              1,
              "#f0f921"
             ]
            ],
            "type": "histogram2d"
           }
          ],
          "histogram2dcontour": [
           {
            "colorbar": {
             "outlinewidth": 0,
             "ticks": ""
            },
            "colorscale": [
             [
              0,
              "#0d0887"
             ],
             [
              0.1111111111111111,
              "#46039f"
             ],
             [
              0.2222222222222222,
              "#7201a8"
             ],
             [
              0.3333333333333333,
              "#9c179e"
             ],
             [
              0.4444444444444444,
              "#bd3786"
             ],
             [
              0.5555555555555556,
              "#d8576b"
             ],
             [
              0.6666666666666666,
              "#ed7953"
             ],
             [
              0.7777777777777778,
              "#fb9f3a"
             ],
             [
              0.8888888888888888,
              "#fdca26"
             ],
             [
              1,
              "#f0f921"
             ]
            ],
            "type": "histogram2dcontour"
           }
          ],
          "mesh3d": [
           {
            "colorbar": {
             "outlinewidth": 0,
             "ticks": ""
            },
            "type": "mesh3d"
           }
          ],
          "parcoords": [
           {
            "line": {
             "colorbar": {
              "outlinewidth": 0,
              "ticks": ""
             }
            },
            "type": "parcoords"
           }
          ],
          "pie": [
           {
            "automargin": true,
            "type": "pie"
           }
          ],
          "scatter": [
           {
            "marker": {
             "colorbar": {
              "outlinewidth": 0,
              "ticks": ""
             }
            },
            "type": "scatter"
           }
          ],
          "scatter3d": [
           {
            "line": {
             "colorbar": {
              "outlinewidth": 0,
              "ticks": ""
             }
            },
            "marker": {
             "colorbar": {
              "outlinewidth": 0,
              "ticks": ""
             }
            },
            "type": "scatter3d"
           }
          ],
          "scattercarpet": [
           {
            "marker": {
             "colorbar": {
              "outlinewidth": 0,
              "ticks": ""
             }
            },
            "type": "scattercarpet"
           }
          ],
          "scattergeo": [
           {
            "marker": {
             "colorbar": {
              "outlinewidth": 0,
              "ticks": ""
             }
            },
            "type": "scattergeo"
           }
          ],
          "scattergl": [
           {
            "marker": {
             "colorbar": {
              "outlinewidth": 0,
              "ticks": ""
             }
            },
            "type": "scattergl"
           }
          ],
          "scattermapbox": [
           {
            "marker": {
             "colorbar": {
              "outlinewidth": 0,
              "ticks": ""
             }
            },
            "type": "scattermapbox"
           }
          ],
          "scatterpolar": [
           {
            "marker": {
             "colorbar": {
              "outlinewidth": 0,
              "ticks": ""
             }
            },
            "type": "scatterpolar"
           }
          ],
          "scatterpolargl": [
           {
            "marker": {
             "colorbar": {
              "outlinewidth": 0,
              "ticks": ""
             }
            },
            "type": "scatterpolargl"
           }
          ],
          "scatterternary": [
           {
            "marker": {
             "colorbar": {
              "outlinewidth": 0,
              "ticks": ""
             }
            },
            "type": "scatterternary"
           }
          ],
          "surface": [
           {
            "colorbar": {
             "outlinewidth": 0,
             "ticks": ""
            },
            "colorscale": [
             [
              0,
              "#0d0887"
             ],
             [
              0.1111111111111111,
              "#46039f"
             ],
             [
              0.2222222222222222,
              "#7201a8"
             ],
             [
              0.3333333333333333,
              "#9c179e"
             ],
             [
              0.4444444444444444,
              "#bd3786"
             ],
             [
              0.5555555555555556,
              "#d8576b"
             ],
             [
              0.6666666666666666,
              "#ed7953"
             ],
             [
              0.7777777777777778,
              "#fb9f3a"
             ],
             [
              0.8888888888888888,
              "#fdca26"
             ],
             [
              1,
              "#f0f921"
             ]
            ],
            "type": "surface"
           }
          ],
          "table": [
           {
            "cells": {
             "fill": {
              "color": "#EBF0F8"
             },
             "line": {
              "color": "white"
             }
            },
            "header": {
             "fill": {
              "color": "#C8D4E3"
             },
             "line": {
              "color": "white"
             }
            },
            "type": "table"
           }
          ]
         },
         "layout": {
          "annotationdefaults": {
           "arrowcolor": "#2a3f5f",
           "arrowhead": 0,
           "arrowwidth": 1
          },
          "autotypenumbers": "strict",
          "coloraxis": {
           "colorbar": {
            "outlinewidth": 0,
            "ticks": ""
           }
          },
          "colorscale": {
           "diverging": [
            [
             0,
             "#8e0152"
            ],
            [
             0.1,
             "#c51b7d"
            ],
            [
             0.2,
             "#de77ae"
            ],
            [
             0.3,
             "#f1b6da"
            ],
            [
             0.4,
             "#fde0ef"
            ],
            [
             0.5,
             "#f7f7f7"
            ],
            [
             0.6,
             "#e6f5d0"
            ],
            [
             0.7,
             "#b8e186"
            ],
            [
             0.8,
             "#7fbc41"
            ],
            [
             0.9,
             "#4d9221"
            ],
            [
             1,
             "#276419"
            ]
           ],
           "sequential": [
            [
             0,
             "#0d0887"
            ],
            [
             0.1111111111111111,
             "#46039f"
            ],
            [
             0.2222222222222222,
             "#7201a8"
            ],
            [
             0.3333333333333333,
             "#9c179e"
            ],
            [
             0.4444444444444444,
             "#bd3786"
            ],
            [
             0.5555555555555556,
             "#d8576b"
            ],
            [
             0.6666666666666666,
             "#ed7953"
            ],
            [
             0.7777777777777778,
             "#fb9f3a"
            ],
            [
             0.8888888888888888,
             "#fdca26"
            ],
            [
             1,
             "#f0f921"
            ]
           ],
           "sequentialminus": [
            [
             0,
             "#0d0887"
            ],
            [
             0.1111111111111111,
             "#46039f"
            ],
            [
             0.2222222222222222,
             "#7201a8"
            ],
            [
             0.3333333333333333,
             "#9c179e"
            ],
            [
             0.4444444444444444,
             "#bd3786"
            ],
            [
             0.5555555555555556,
             "#d8576b"
            ],
            [
             0.6666666666666666,
             "#ed7953"
            ],
            [
             0.7777777777777778,
             "#fb9f3a"
            ],
            [
             0.8888888888888888,
             "#fdca26"
            ],
            [
             1,
             "#f0f921"
            ]
           ]
          },
          "colorway": [
           "#636efa",
           "#EF553B",
           "#00cc96",
           "#ab63fa",
           "#FFA15A",
           "#19d3f3",
           "#FF6692",
           "#B6E880",
           "#FF97FF",
           "#FECB52"
          ],
          "font": {
           "color": "#2a3f5f"
          },
          "geo": {
           "bgcolor": "white",
           "lakecolor": "white",
           "landcolor": "#E5ECF6",
           "showlakes": true,
           "showland": true,
           "subunitcolor": "white"
          },
          "hoverlabel": {
           "align": "left"
          },
          "hovermode": "closest",
          "mapbox": {
           "style": "light"
          },
          "paper_bgcolor": "white",
          "plot_bgcolor": "#E5ECF6",
          "polar": {
           "angularaxis": {
            "gridcolor": "white",
            "linecolor": "white",
            "ticks": ""
           },
           "bgcolor": "#E5ECF6",
           "radialaxis": {
            "gridcolor": "white",
            "linecolor": "white",
            "ticks": ""
           }
          },
          "scene": {
           "xaxis": {
            "backgroundcolor": "#E5ECF6",
            "gridcolor": "white",
            "gridwidth": 2,
            "linecolor": "white",
            "showbackground": true,
            "ticks": "",
            "zerolinecolor": "white"
           },
           "yaxis": {
            "backgroundcolor": "#E5ECF6",
            "gridcolor": "white",
            "gridwidth": 2,
            "linecolor": "white",
            "showbackground": true,
            "ticks": "",
            "zerolinecolor": "white"
           },
           "zaxis": {
            "backgroundcolor": "#E5ECF6",
            "gridcolor": "white",
            "gridwidth": 2,
            "linecolor": "white",
            "showbackground": true,
            "ticks": "",
            "zerolinecolor": "white"
           }
          },
          "shapedefaults": {
           "line": {
            "color": "#2a3f5f"
           }
          },
          "ternary": {
           "aaxis": {
            "gridcolor": "white",
            "linecolor": "white",
            "ticks": ""
           },
           "baxis": {
            "gridcolor": "white",
            "linecolor": "white",
            "ticks": ""
           },
           "bgcolor": "#E5ECF6",
           "caxis": {
            "gridcolor": "white",
            "linecolor": "white",
            "ticks": ""
           }
          },
          "title": {
           "x": 0.05
          },
          "xaxis": {
           "automargin": true,
           "gridcolor": "white",
           "linecolor": "white",
           "ticks": "",
           "title": {
            "standoff": 15
           },
           "zerolinecolor": "white",
           "zerolinewidth": 2
          },
          "yaxis": {
           "automargin": true,
           "gridcolor": "white",
           "linecolor": "white",
           "ticks": "",
           "title": {
            "standoff": 15
           },
           "zerolinecolor": "white",
           "zerolinewidth": 2
          }
         }
        },
        "xaxis": {
         "anchor": "y",
         "domain": [
          0,
          1
         ],
         "title": {
          "text": "POS Tags"
         }
        },
        "yaxis": {
         "anchor": "x",
         "domain": [
          0,
          1
         ],
         "title": {
          "text": "Check-worthy/-unworthy Fractions Difference"
         }
        }
       }
      }
     },
     "metadata": {},
     "output_type": "display_data"
    }
   ],
   "source": [
    "x = comp_dfs['pos']['wstop']\n",
    "x['Worthy Percentage'] = x['worthy_ratio']\n",
    "x['Unworthy Percentage'] = x['unworthy_ratio']\n",
    "x['Check-worthy/-unworthy Fractions Difference'] = (x['worthy_ratio'] - x['unworthy_ratio']).abs()\n",
    "print(x)\n",
    "x['Occurrence Percentage'] = x['occ_frac']\n",
    "# for feat_type, stop_dict in comp_dfs.items():\n",
    "#     # for stop_type, df in stop_dict.items():\n",
    "#     df = stop_dict['wstop']\n",
    "min_occ = thresholds['min_occ']['wstop']\n",
    "min_ratio_diff = thresholds['min_ratio_diff']['wstop']\n",
    "fig_count = px.bar(\n",
    "    x,\n",
    "    x='POS Tags',\n",
    "    y='Occurrence Percentage',\n",
    "    title=None,\n",
    "    text_auto='.3f'\n",
    ") # title=f'{feat_type} - {stop_type} count'\n",
    "fig_ratio = px.bar(\n",
    "    x,\n",
    "    x='POS Tags',\n",
    "    # y=['unworthy_ratio', 'worthy_ratio'],\n",
    "    y='Check-worthy/-unworthy Fractions Difference', #['Unworthy Percentage', 'Worthy Percentage'],\n",
    "    title=None,\n",
    "    text_auto='.2f'\n",
    ")\n",
    "fig_count.add_shape(type=\"line\",\n",
    "    x0=-0.5, y0=min_occ, x1=14.5, y1=min_occ,\n",
    "    line=dict(\n",
    "        color=\"DarkOrange\",\n",
    "        width=2,\n",
    "        dash=\"dash\",\n",
    "    )\n",
    ")\n",
    "fig_ratio.add_shape(type=\"line\",\n",
    "    x0=-0.5, y0=min_ratio_diff, x1=14.5, y1=min_ratio_diff,\n",
    "    line=dict(\n",
    "        color=\"DarkOrange\",\n",
    "        width=2,\n",
    "        dash=\"dash\",\n",
    "    )\n",
    ")\n",
    "fig_count.update_traces(textfont_size=12, textangle=0, textposition=\"outside\", cliponaxis=False)\n",
    "fig_ratio.update_traces(textfont_size=12, textangle=0, textposition=\"outside\", cliponaxis=False)\n",
    "fig_count.update(layout_title_text=None,#'Class imbalance in political debates data.',\n",
    "           layout_showlegend=False)\n",
    "fig_count.show()\n",
    "fig_ratio.show()\n",
    "#         # break\n",
    "#     break\n",
    "# fig_w_sum = px.bar(comp_dfs['pos']['wstop'], x='pos', y=['worthy', 'unworthy', 'sum'], title='pos tags')\n",
    "# fig_percent = \n",
    "# # fig_w_sum.show()\n",
    "# fig_percent.show()"
   ]
  },
  {
   "cell_type": "markdown",
   "metadata": {},
   "source": [
    "results `r` for thresholds `t`:\n",
    "- `t`:\n",
    "```json\n",
    "    {\n",
    "        'min_occ': {\n",
    "            'wstop': .01,\n",
    "            'wostop': .005,\n",
    "        },\n",
    "        'min_ratio_diff': {\n",
    "            'wstop': .8,\n",
    "            'wostop': .5,\n",
    "        }\n",
    "    }\n",
    "```\n",
    "- `r`:\n",
    "```py\n",
    "    pos\n",
    "        wstop\n",
    "            ['NUM', 'PROPN', 'NOUN', 'ADJ']\n",
    "        wostop\n",
    "            ['NUM', 'SYM']\n",
    "    tag\n",
    "        wstop\n",
    "            ['CD', 'NNP', 'VBG', 'NN', 'NNS', 'JJ']\n",
    "        wostop\n",
    "            ['CD', '$']\n",
    "    dep\n",
    "        wstop\n",
    "            ['pobj', 'compound', 'amod', 'nummod']\n",
    "        wostop\n",
    "            ['pcomp', 'quantmod', 'nummod', 'nsubjpass']\n",
    "```\n"
   ]
  },
  {
   "cell_type": "code",
   "execution_count": 74,
   "metadata": {},
   "outputs": [
    {
     "name": "stdout",
     "output_type": "stream",
     "text": [
      "{'pos': {'wstop': array(['NUM', 'NOUN', 'PROPN', 'ADJ'], dtype=object), 'wostop': array(['NUM', 'SYM'], dtype=object)}, 'tag': {'wstop': array(['CD', 'NNS', 'NNP', 'NN', 'JJ'], dtype=object), 'wostop': array(['CD', 'JJS', '$'], dtype=object)}, 'dep': {'wstop': array(['compound', 'amod', 'pobj'], dtype=object), 'wostop': array(['nummod', 'quantmod', 'nsubjpass', 'acl'], dtype=object)}}\n"
     ]
    }
   ],
   "source": [
    "for pos_type, stop_dict in comp_dfs.items():\n",
    "    for stop_type, df in stop_dict.items():\n",
    "        df['ratio_diff'] = np.abs(df['worthy_ratio'] - df['unworthy_ratio'])\n",
    "        df['occurances'] = df['sum'] / (df['sum'].sum())\n",
    "\n",
    "        selected_feats[pos_type][stop_type] = df.loc[\n",
    "            (df['ratio_diff'] >= thresholds['min_ratio_diff'][stop_type]) & \n",
    "            (df['occurances'] >= thresholds['min_occ'][stop_type]),\n",
    "            pos_type\n",
    "        ].values\n",
    "\n",
    "# for k, v in selected_feats.items():\n",
    "#     print(k)\n",
    "#     for key, value in v.items():\n",
    "#         print(key)\n",
    "#         print(list(value))\n",
    "print(selected_feats)\n",
    "# with open(p.join(PROC_DATA_DIR_PATH, 'selected_spacy_features.pkl'), 'wb') as f:\n",
    "#     pickle.dump(selected_feats, f)"
   ]
  },
  {
   "cell_type": "markdown",
   "metadata": {},
   "source": [
    "***dep should be analyzed more indepth***"
   ]
  },
  {
   "cell_type": "code",
   "execution_count": 23,
   "metadata": {},
   "outputs": [
    {
     "name": "stdout",
     "output_type": "stream",
     "text": [
      "ADP IN\n",
      "NUM CD\n",
      "PUNCT ,\n",
      "PROPN NNP\n",
      "VERB VBD\n",
      "PROPN NNP\n",
      "PROPN NNP\n",
      "PUNCT ,\n",
      "VERB VBG\n",
      "SCONJ IN\n",
      "PROPN NNP\n",
      "VERB VBD\n",
      "PRON PRP$\n",
      "NOUN NN\n",
      "SCONJ IN\n",
      "ADP IN\n",
      "NOUN NN\n",
      "PUNCT HYPH\n",
      "NOUN NN\n",
      "PUNCT .\n"
     ]
    }
   ],
   "source": [
    "for _, sent, label in dev[['spacy', 'label']].itertuples():\n",
    "    for token in sent:\n",
    "        print(token.pos_, token.tag_)\n",
    "        # print(token.head.pos_, token.dep_, token.pos_)\n",
    "        # print(token.head.pos, token.dep, token.pos)\n",
    "        # print([int(b) if b != ' ' else 0 for b in f'{token.dep:10b}'])\n",
    "        # print([int(b) if b != ' ' else 0 for b in f\"{int(f'{token.dep}'[-3:]):10b}\"])\n",
    "        # print(type(token.dep))\n",
    "\n",
    "    break\n"
   ]
  },
  {
   "cell_type": "code",
   "execution_count": 28,
   "metadata": {},
   "outputs": [
    {
     "name": "stdout",
     "output_type": "stream",
     "text": [
      "45\n"
     ]
    },
    {
     "ename": "AttributeError",
     "evalue": "'OneHotEncoder' object has no attribute 'fit_transorm'",
     "output_type": "error",
     "traceback": [
      "\u001b[0;31m---------------------------------------------------------------------------\u001b[0m",
      "\u001b[0;31mAttributeError\u001b[0m                            Traceback (most recent call last)",
      "\u001b[0;32m/var/folders/dx/kzks528913555h6584x5x4140000gn/T/ipykernel_73526/3221706456.py\u001b[0m in \u001b[0;36m<module>\u001b[0;34m\u001b[0m\n\u001b[1;32m     13\u001b[0m         \u001b[0;31m# print(lb.transform([token.dep_]))\u001b[0m\u001b[0;34m\u001b[0m\u001b[0;34m\u001b[0m\u001b[0m\n\u001b[1;32m     14\u001b[0m     \u001b[0mprint\u001b[0m\u001b[0;34m(\u001b[0m\u001b[0mlen\u001b[0m\u001b[0;34m(\u001b[0m\u001b[0mlb\u001b[0m\u001b[0;34m.\u001b[0m\u001b[0mtransform\u001b[0m\u001b[0;34m(\u001b[0m\u001b[0mtokens_deps\u001b[0m\u001b[0;34m)\u001b[0m\u001b[0;34m[\u001b[0m\u001b[0;36m0\u001b[0m\u001b[0;34m]\u001b[0m\u001b[0;34m)\u001b[0m\u001b[0;34m)\u001b[0m\u001b[0;34m\u001b[0m\u001b[0;34m\u001b[0m\u001b[0m\n\u001b[0;32m---> 15\u001b[0;31m     \u001b[0mprint\u001b[0m\u001b[0;34m(\u001b[0m\u001b[0moh\u001b[0m\u001b[0;34m.\u001b[0m\u001b[0mfit_transorm\u001b[0m\u001b[0;34m(\u001b[0m\u001b[0mtokens_deps\u001b[0m\u001b[0;34m)\u001b[0m\u001b[0;34m)\u001b[0m\u001b[0;34m\u001b[0m\u001b[0;34m\u001b[0m\u001b[0m\n\u001b[0m\u001b[1;32m     16\u001b[0m     \u001b[0mprint\u001b[0m\u001b[0;34m(\u001b[0m\u001b[0mlen\u001b[0m\u001b[0;34m(\u001b[0m\u001b[0msent\u001b[0m\u001b[0;34m)\u001b[0m\u001b[0;34m)\u001b[0m\u001b[0;34m\u001b[0m\u001b[0;34m\u001b[0m\u001b[0m\n\u001b[1;32m     17\u001b[0m     \u001b[0;32mbreak\u001b[0m\u001b[0;34m\u001b[0m\u001b[0;34m\u001b[0m\u001b[0m\n",
      "\u001b[0;31mAttributeError\u001b[0m: 'OneHotEncoder' object has no attribute 'fit_transorm'"
     ]
    }
   ],
   "source": [
    "from sklearn.preprocessing import LabelBinarizer, OneHotEncoder\n",
    "\n",
    "lb = LabelBinarizer()\n",
    "oh = OneHotEncoder()\n",
    "lb.fit(spacy.get_pipe('parser').labels)\n",
    "# oh.fit(spacy.get_pipe('parser').labels)\n",
    "i = 0\n",
    "for _, sent, label in dev[['spacy', 'label']].itertuples():\n",
    "\n",
    "    tokens_deps = []\n",
    "    for token in sent:\n",
    "        tokens_deps.append(token.dep_)\n",
    "        # print(lb.transform([token.dep_]))\n",
    "    print(len(lb.transform(tokens_deps)[0]))\n",
    "    print(oh.fit(tokens_deps))\n",
    "    print(len(sent))\n",
    "    break\n",
    "    # if i == 2:\n",
    "    #     break\n",
    "\n",
    "    # i += 1\n"
   ]
  },
  {
   "cell_type": "code",
   "execution_count": 31,
   "metadata": {},
   "outputs": [
    {
     "name": "stdout",
     "output_type": "stream",
     "text": [
      "<class 'numpy.ndarray'>\n",
      "<class 'numpy.ndarray'>\n"
     ]
    }
   ],
   "source": [
    "x = np.asarray([i for i in range(10)])\n",
    "\n",
    "print(type(x))\n",
    "print(type(x + 2))"
   ]
  }
 ],
 "metadata": {
  "interpreter": {
   "hash": "0566b9ebc7a58507829be3d77002d1a3a0910233c54c7888c127aa3b7af58774"
  },
  "kernelspec": {
   "display_name": "Python 3.9.7 ('venv_dp')",
   "language": "python",
   "name": "python3"
  },
  "language_info": {
   "codemirror_mode": {
    "name": "ipython",
    "version": 3
   },
   "file_extension": ".py",
   "mimetype": "text/x-python",
   "name": "python",
   "nbconvert_exporter": "python",
   "pygments_lexer": "ipython3",
   "version": "3.9.7"
  },
  "orig_nbformat": 4
 },
 "nbformat": 4,
 "nbformat_minor": 2
}
