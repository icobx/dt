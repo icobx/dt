{
 "cells": [
  {
   "cell_type": "code",
   "execution_count": 1,
   "metadata": {},
   "outputs": [],
   "source": [
    "import pandas as pd\n",
    "import print_n_log\n",
    "\n",
    "from definitions import *"
   ]
  },
  {
   "cell_type": "markdown",
   "metadata": {},
   "source": [
    "Set global variables."
   ]
  },
  {
   "cell_type": "code",
   "execution_count": 2,
   "metadata": {},
   "outputs": [],
   "source": [
    "IS_MASTER = True\n",
    "ANALYZE = True"
   ]
  },
  {
   "cell_type": "markdown",
   "metadata": {},
   "source": [
    "Load data."
   ]
  },
  {
   "cell_type": "code",
   "execution_count": null,
   "metadata": {},
   "outputs": [],
   "source": [
    "train_path = p.join(POLIT_DATA_DIR_PATH, 'train')\n",
    "dev = pd.read_csv(p.join(train_path, 'dev.tsv'), sep='\\t', index_col=False)"
   ]
  },
  {
   "cell_type": "markdown",
   "metadata": {},
   "source": [
    "Set up logging."
   ]
  },
  {
   "cell_type": "code",
   "execution_count": 3,
   "metadata": {},
   "outputs": [],
   "source": [
    "og_print = print\n",
    "print = print_n_log.run('preproc', './log/preprocess.log', 'DEBUG')"
   ]
  },
  {
   "cell_type": "markdown",
   "metadata": {},
   "source": [
    "Run `preprocess.ipynb`."
   ]
  },
  {
   "cell_type": "code",
   "execution_count": 4,
   "metadata": {},
   "outputs": [
    {
     "name": "stderr",
     "output_type": "stream",
     "text": [
      "2022-02-07 15:18:18,303 - preproc - INFO:\n",
      "True\n",
      "2022-02-07 15:18:38,587 - preproc - INFO:\n",
      "                 PROPN   AUX   DET  ADJ  NOUN  ADV   ADP  PRON  VERB  PART  \\\n",
      "worthy   wstop      45    50    64   43   133   28    80    75    96    20   \n",
      "         wostop     45     1     0   40   130    8     1     0    72     0   \n",
      "unworthy wstop       6  1107  1371  174    42  672  1238  2076   740   594   \n",
      "         wostop    763     7     0  659  2034  214    26    18  1629     0   \n",
      "\n",
      "                 CCONJ  NUM  SCONJ  INTJ  SYM  X  SPACE  PUNCT  \n",
      "worthy   wstop      27   14     17     0    3  0      0      0  \n",
      "         wostop      0    7      0     0    3  0      0      0  \n",
      "unworthy wstop     589   61    259    38    0  2      0      6  \n",
      "         wostop      0   95      2    48   19  2      4      0  \n"
     ]
    }
   ],
   "source": [
    "%run 'preprocess.ipynb'"
   ]
  },
  {
   "cell_type": "markdown",
   "metadata": {},
   "source": [
    "Reset `print` function."
   ]
  },
  {
   "cell_type": "code",
   "execution_count": 5,
   "metadata": {},
   "outputs": [],
   "source": [
    "print = og_print"
   ]
  }
 ],
 "metadata": {
  "interpreter": {
   "hash": "0566b9ebc7a58507829be3d77002d1a3a0910233c54c7888c127aa3b7af58774"
  },
  "kernelspec": {
   "display_name": "Python 3.9.7 ('venv_dp')",
   "language": "python",
   "name": "python3"
  },
  "language_info": {
   "codemirror_mode": {
    "name": "ipython",
    "version": 3
   },
   "file_extension": ".py",
   "mimetype": "text/x-python",
   "name": "python",
   "nbconvert_exporter": "python",
   "pygments_lexer": "ipython3",
   "version": "3.9.7"
  },
  "orig_nbformat": 4
 },
 "nbformat": 4,
 "nbformat_minor": 2
}
