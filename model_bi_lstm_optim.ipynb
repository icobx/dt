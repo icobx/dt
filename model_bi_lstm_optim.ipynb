{
 "cells": [
  {
   "cell_type": "code",
   "execution_count": 1,
   "metadata": {},
   "outputs": [],
   "source": [
    "import sys\n",
    "import logging\n",
    "import os.path as p\n",
    "import pandas as pd\n",
    "import torch\n",
    "import torch.nn as nn\n",
    "import torch.optim as optim\n",
    "import optuna\n",
    "\n",
    "from sklearn.metrics import classification_report, confusion_matrix\n",
    "from torch.utils.data.dataloader import DataLoader\n",
    "from definitions import *\n",
    "from model_helper_functions import *\n",
    "from dataset_helper_functions import *\n",
    "from bi_lstm import BiLSTM\n",
    "from bert_embedding_model import BertEmbeddingModel\n",
    "from debates_dataset import DebatesDataset\n",
    "from optuna.trial import TrialState\n",
    "from torchvision import transforms\n",
    "# my transforms\n",
    "from transforms import *"
   ]
  },
  {
   "cell_type": "code",
   "execution_count": 2,
   "metadata": {},
   "outputs": [],
   "source": [
    "data = {}\n",
    "device = torch.device('cuda' if torch.cuda.is_available() else 'cpu')\n",
    "train_uw_ratio = 0\n",
    "dataset_frac = 0.1\n",
    "worthy_frac = 0.2\n",
    "rs = 22"
   ]
  },
  {
   "cell_type": "markdown",
   "metadata": {},
   "source": [
    "Function for loading data."
   ]
  },
  {
   "cell_type": "code",
   "execution_count": 4,
   "metadata": {},
   "outputs": [],
   "source": [
    "def load_data():\n",
    "    dev_path = p.join(PROC_DATA_DIR_PATH, 'dev')\n",
    "\n",
    "    data_paths = {\n",
    "        'dev': [\n",
    "            p.join(dev_path, 'dev.tsv'),\n",
    "        ],\n",
    "        'test': [\n",
    "            p.join(POLIT_DATA_DIR_PATH, 'test', 'test_combined.tsv'),\n",
    "        ],\n",
    "        'train': [\n",
    "            p.join(POLIT_DATA_DIR_PATH, 'train', 'train_combined.tsv'),\n",
    "        ],\n",
    "        'val': [\n",
    "            p.join(POLIT_DATA_DIR_PATH, 'val', 'val_combined.tsv'),\n",
    "        ],\n",
    "    }\n",
    "\n",
    "    for dtype, dpaths in data_paths.items():\n",
    "        try:\n",
    "            data[dtype] = pd.read_csv(dpaths[0], sep='\\t', index_col=False)\n",
    "\n",
    "        except Exception as e:\n",
    "            print(e.args)\n",
    "            exit()"
   ]
  },
  {
   "cell_type": "markdown",
   "metadata": {},
   "source": [
    "Datasets and DataLoaders, takes trial as input to be able to suggest values for variables."
   ]
  },
  {
   "cell_type": "code",
   "execution_count": null,
   "metadata": {},
   "outputs": [],
   "source": [
    "def get_loaders(trial):\n",
    "    # dev_df, test_df, train_df, val_df = data.values()\n",
    "    subsets = {}\n",
    "    for k, df in data.values():\n",
    "\n",
    "        n_subset = len(df)*dataset_frac\n",
    "\n",
    "        worthy_df = df.loc[df['label'] == 1]\n",
    "        n_worthy = min(n_subset*worthy_frac, len(worthy_df))\n",
    "        worthy_df = worthy_df.sample(n=n_worthy, random_state=rs)\n",
    "\n",
    "        unworthy_df = df.loc[df['label'] == 0].sample(\n",
    "            n=n_subset-n_worthy,\n",
    "            random_state=rs\n",
    "        )\n",
    "        if k == 'train':\n",
    "            train_uw_ratio = len(unworthy_df) / len(worthy_df)\n",
    "        # sample(frac=1.0) -> shuffle\n",
    "        subsets[k] = worthy_df.append(unworthy_df).sample(frac=1.0, random_state=rs, ignore_index=True)\n",
    "    \n",
    "\n",
    "\n",
    "    # transform_pipeline = transforms.Compose([\n",
    "    #     Sum('pos', stopwords='wostop'),\n",
    "    #     Sum('tag', stopwords='wostop'),\n",
    "    #     ToBinary(6),\n",
    "    #     ToTensor()\n",
    "    # ])\n",
    "    transform_pipeline = None\n",
    "\n",
    "    train_dd = DebatesDataset(data=subsets['train'], transform=transform_pipeline)\n",
    "    val_dd = DebatesDataset(data=subsets['val'], transform=transform_pipeline)\n",
    "    test_dd = DebatesDataset(data=subsets['test'], transform=transform_pipeline)\n",
    "\n",
    "    batch_size = trial.suggest_categorical('batch_size', [16, 32, 64, 128])\n",
    "\n",
    "    train_loader = DataLoader(train_dd, batch_size=batch_size, shuffle=True)\n",
    "    val_loader = DataLoader(val_dd, batch_size=batch_size, shuffle=True)\n",
    "    test_loader = DataLoader(test_dd, batch_size=batch_size, shuffle=True)\n",
    "\n",
    "    return train_loader, val_loader, test_loader"
   ]
  },
  {
   "cell_type": "markdown",
   "metadata": {},
   "source": [
    "Model setup + training loop"
   ]
  },
  {
   "cell_type": "code",
   "execution_count": null,
   "metadata": {},
   "outputs": [],
   "source": [
    "def objective(trial):\n",
    "    train_loader, val_loader, test_loader = get_loaders(trial)\n",
    "\n",
    "    # hyperparams opt\n",
    "    pooling_strategy = trial.suggest_categorical('pooling_strategy', ['last_four', 'last_four_sum', 'second_last'])\n",
    "    should_scale_emb = trial.suggest_categorical('should_scale_emb', [True, False])\n",
    "    embedding_model = BertEmbeddingModel(\n",
    "        device=device,\n",
    "        pooling_strat=pooling_strategy,\n",
    "        scale=should_scale_emb\n",
    "    )\n",
    "    \n",
    "    dropout = trial.suggest_float('dropout', 0.0, 0.5, step=0.01)\n",
    "    lstm_dropout = trial.suggest_float('lstm_dropout', 0.0, 0.3, step=0.05)\n",
    "    hidden_dim = trial.suggest_categorical('hidden_dim', [64, 128, 256])\n",
    "    model = BiLSTM(\n",
    "        dropout=dropout,\n",
    "        lstm_dropout=lstm_dropout,\n",
    "        hidden_dim=hidden_dim,\n",
    "        embedding_dim=embedding_model.dim,\n",
    "        sent_level_feature_dim=0\n",
    "    ).to(device)    \n",
    "\n",
    "    lr = trial.suggest_float('learning_rate', 1e-5, 1e-1, log=True)\n",
    "    opt_weight_decay = trial.suggest_float('optimizer_weigth_decay', 0, 0.1, log=True)\n",
    "    optimizer = optim.Adam(model.parameters(), lr=lr, weight_decay=opt_weight_decay)\n",
    "\n",
    "    pos_weight = trial.suggest_categorical('pos_weight', [1.0, train_uw_ratio])\n",
    "    criterion = nn.BCEWithLogitsLoss(pos_weight=torch.tensor([pos_weight]).to(device))\n",
    "\n",
    "    n_epochs = 10\n",
    "    threshold = 0.5\n",
    "    # training\n",
    "    for epoch in range(n_epochs):\n",
    "        model.train()\n",
    "        for ids, sentences, labels, features in train_loader:\n",
    "            labels = labels.float().to(device)\n",
    "\n",
    "            optimizer.zero_grad()\n",
    "\n",
    "            output = model(sentences)\n",
    "            loss = criterion(output, labels)\n",
    "\n",
    "            loss.backward()\n",
    "            optimizer.step()\n",
    "\n",
    "        model.eval()\n",
    "        y_pred, y_true = [], []\n",
    "        with torch.no_grad():\n",
    "            for val_ids, val_sentences, val_labels, val_features in val_loader:\n",
    "                val_labels = val_labels.float().to(device)\n",
    "                pred = model(val_sentences)\n",
    "                pred = torch.sigmoid(pred)\n",
    "\n",
    "                pred = (pred > threshold).int()\n",
    "                y_pred.extend(pred.tolist())\n",
    "                y_true.extend(val_labels.tolist())\n",
    "\n",
    "        cr = classification_report(y_true, y_pred, output_dict=True)\n",
    "        recall_p = cr['1.0']['recall']\n",
    "\n",
    "        trial.report(recall_p, epoch)\n",
    "\n",
    "        # Handle pruning based on the intermediate value.\n",
    "        if trial.should_prune():\n",
    "            raise optuna.exceptions.TrialPruned()\n",
    "\n",
    "    \"Done.\"\n",
    "    return recall_p"
   ]
  },
  {
   "cell_type": "code",
   "execution_count": 5,
   "metadata": {},
   "outputs": [],
   "source": [
    "load_data()"
   ]
  },
  {
   "cell_type": "code",
   "execution_count": null,
   "metadata": {},
   "outputs": [],
   "source": [
    "optuna.logging.get_logger(\"optuna\").addHandler(logging.StreamHandler(sys.stdout))\n",
    "study = optuna.create_study(\n",
    "    study_name=f'bi-lstm_df{dataset_frac}_wf{worthy_frac}',\n",
    "    sampler=optuna.samplers.RandomSampler(rs),\n",
    "    pruner=optuna.pruners.MedianPruner(),\n",
    "    direction='maximize'\n",
    ")\n",
    "study.optimize(objective, n_trials=100)\n",
    "\n",
    "torch.save(study, os.path.join(EXP_DIR_PATH, 'bi-lstm', 'optimization', f'{study.study_name}.pkl'))"
   ]
  }
 ],
 "metadata": {
  "interpreter": {
   "hash": "0566b9ebc7a58507829be3d77002d1a3a0910233c54c7888c127aa3b7af58774"
  },
  "kernelspec": {
   "display_name": "Python 3.9.7 ('venv_dp')",
   "language": "python",
   "name": "python3"
  },
  "language_info": {
   "codemirror_mode": {
    "name": "ipython",
    "version": 3
   },
   "file_extension": ".py",
   "mimetype": "text/x-python",
   "name": "python",
   "nbconvert_exporter": "python",
   "pygments_lexer": "ipython3",
   "version": "3.9.7"
  },
  "orig_nbformat": 4
 },
 "nbformat": 4,
 "nbformat_minor": 2
}
