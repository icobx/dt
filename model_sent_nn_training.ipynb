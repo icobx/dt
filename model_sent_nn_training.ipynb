{
 "cells": [
  {
   "cell_type": "code",
   "execution_count": 1,
   "metadata": {},
   "outputs": [],
   "source": [
    "import sys\n",
    "import logging\n",
    "import os.path as p\n",
    "import pandas as pd\n",
    "import numpy as np\n",
    "import torch\n",
    "import torch.nn as nn\n",
    "import torch.optim as optim\n",
    "import optuna\n",
    "import print_n_log\n",
    "\n",
    "from sklearn.metrics import classification_report, confusion_matrix\n",
    "from torch.utils.data.dataloader import DataLoader\n",
    "from definitions import *\n",
    "from model_helper_functions import *\n",
    "from dataset_helper_functions import *\n",
    "from sent_nn import SentNN\n",
    "\n",
    "from sentence_transformers import SentenceTransformer\n",
    "\n",
    "from debates_dataset import DebatesDataset\n",
    "from early_stopping import EarlyStopping\n",
    "from optuna.trial import TrialState\n",
    "from torchvision import transforms\n",
    "# my transforms\n",
    "from transforms import *\n",
    "from scorer.task5 import evaluate_v2"
   ]
  },
  {
   "cell_type": "code",
   "execution_count": 2,
   "metadata": {},
   "outputs": [],
   "source": [
    "data = {}\n",
    "optim_path = os.path.join(EXP_DIR_PATH, 'sent-nn', 'optimization')\n",
    "# bi-lstm\n",
    "# - no_feat\n",
    "# - sent_feat\n",
    "# - word_feat\n",
    "training_path = os.path.join(EXP_DIR_PATH, 'sent-nn', 'training')\n",
    "device = torch.device('cuda' if torch.cuda.is_available() else 'cpu')\n",
    "train_uw_ratio = 0\n",
    "slf_dim = 0\n"
   ]
  },
  {
   "cell_type": "code",
   "execution_count": null,
   "metadata": {},
   "outputs": [],
   "source": []
  },
  {
   "cell_type": "code",
   "execution_count": null,
   "metadata": {},
   "outputs": [],
   "source": []
  },
  {
   "cell_type": "code",
   "execution_count": 3,
   "metadata": {},
   "outputs": [],
   "source": [
    "# studies = [m for m in os.listdir(optim_path) if m.split('_')[-1] != 'params.pkl']\n",
    "# models_directories = []\n",
    "# for m in studies:\n",
    "#     sp = m.split('_')[1:]\n",
    "#     xx = '_'.join([s for s in sp if s not in {'pNone', 'df0.2', 'wf0.2.pkl'}])\n",
    "#     if len(xx):\n",
    "#         models_directories.append(xx)\n",
    "\n",
    "# for c in models_directories:\n",
    "#     try:\n",
    "#         os.mkdir(os.path.join(training_path, c))\n",
    "#     except Exception as e:\n",
    "#         print(e.args)"
   ]
  },
  {
   "cell_type": "markdown",
   "metadata": {},
   "source": [
    "Function for loading data."
   ]
  },
  {
   "cell_type": "code",
   "execution_count": 4,
   "metadata": {},
   "outputs": [],
   "source": [
    "def load_data():\n",
    "    dev_path = p.join(PROC_DATA_DIR_PATH, 'dev')\n",
    "\n",
    "    data_paths = {\n",
    "        'dev': [\n",
    "            p.join(dev_path, 'dev.tsv'),\n",
    "        ],\n",
    "        'test': [\n",
    "            p.join(POLIT_DATA_DIR_PATH, 'test', 'test_combined.tsv'),\n",
    "        ],\n",
    "        'train': [\n",
    "            p.join(POLIT_DATA_DIR_PATH, 'train', 'train_combined.tsv'),\n",
    "        ],\n",
    "        'val': [\n",
    "            p.join(POLIT_DATA_DIR_PATH, 'val', 'val_combined.tsv'),\n",
    "        ],\n",
    "    }\n",
    "\n",
    "    for dtype, dpaths in data_paths.items():\n",
    "        try:\n",
    "            data[dtype] = pd.read_csv(dpaths[0], sep='\\t', index_col=False)\n",
    "\n",
    "        except Exception as e:\n",
    "            print(e.args)\n",
    "            exit()"
   ]
  },
  {
   "cell_type": "markdown",
   "metadata": {},
   "source": [
    "Datasets and DataLoaders, takes trial as input to be able to suggest values for variables."
   ]
  },
  {
   "cell_type": "code",
   "execution_count": 5,
   "metadata": {},
   "outputs": [],
   "source": [
    "def get_loaders(batch_size, transforms_params=None, stopwords_type=None):\n",
    "    global train_uw_ratio, slf_dim\n",
    "\n",
    "    transform_pipeline = None\n",
    "\n",
    "    if transforms_params is not None:\n",
    "        transforms_map = {\n",
    "            'sum': Sum,\n",
    "            'onehot': OneHot,\n",
    "            'none': NoTransform\n",
    "        }\n",
    "        cw_map = {\n",
    "            'count_words': CountWords,\n",
    "            'none': NoTransform\n",
    "        }\n",
    "\n",
    "        from_sel = transforms_params['from_selection']\n",
    "  \n",
    "        pos_feat = transforms_map[transforms_params['pos_feature_type']]\n",
    "        pos_feat = pos_feat(\n",
    "            'pos', from_selection=from_sel, stopwords=stopwords_type\n",
    "        )\n",
    "\n",
    "        tag_feat = transforms_map[transforms_params['tag_feature_type']]\n",
    "        tag_feat = tag_feat(\n",
    "            'tag', from_selection=from_sel, stopwords=stopwords_type\n",
    "        )\n",
    "        \n",
    "        dep_feat = transforms_map[transforms_params['dep_feature_type']]\n",
    "        dep_feat = dep_feat(\n",
    "            'dep', from_selection=from_sel, stopwords=stopwords_type\n",
    "        )\n",
    "\n",
    "        cw_feat = cw_map[transforms_params['word_count_feature_type']]\n",
    "        cw_feat = cw_feat()\n",
    "        \n",
    "        transform_pipeline = transforms.Compose([\n",
    "            HandleStopwords(stopwords=stopwords_type),\n",
    "            pos_feat,\n",
    "            tag_feat,\n",
    "            dep_feat,\n",
    "            cw_feat,\n",
    "            ToBinary(6),\n",
    "            ToTensor()\n",
    "        ])\n",
    "    \n",
    "    print(transform_pipeline)\n",
    "    train = data['train']\n",
    "    worthy_train = train[train['label'] == 1]\n",
    "    train_uw_ratio = (len(train) - len(worthy_train)) / len(worthy_train)\n",
    "    \n",
    "    train_dd = DebatesDataset(data=data['train'], transform=transform_pipeline)\n",
    "    val_dd = DebatesDataset(data=data['val'], transform=transform_pipeline)\n",
    "    test_dd = DebatesDataset(data=data['test'], transform=transform_pipeline)\n",
    "    \n",
    "    if transform_pipeline:\n",
    "        slf_dim = train_dd[0][-1].size()[0]\n",
    "\n",
    "    train_loader = DataLoader(train_dd, batch_size=batch_size, shuffle=True, drop_last=True)\n",
    "    val_loader = DataLoader(val_dd, batch_size=batch_size, shuffle=True, drop_last=True)\n",
    "    test_loader = DataLoader(test_dd, batch_size=batch_size, shuffle=True, drop_last=True)\n",
    "\n",
    "    return train_loader, val_loader, test_loader"
   ]
  },
  {
   "cell_type": "markdown",
   "metadata": {},
   "source": [
    "Model setup + training loop"
   ]
  },
  {
   "cell_type": "code",
   "execution_count": 6,
   "metadata": {},
   "outputs": [],
   "source": [
    "def train_model(params, features_params=None, model_checkpoint_path=None):\n",
    "    global logf_path\n",
    "    # this is here so that it can be accessed here and in get_loaders()\n",
    "    stopwords_type = None\n",
    "    if features_params:\n",
    "        stopwords_type = features_params['stopwords_type'] if 'stopwords_type' in features_params else None\n",
    "\n",
    "    train_loader, val_loader, test_loader = get_loaders(\n",
    "        params['batch_size'],\n",
    "        transforms_params=features_params,\n",
    "        stopwords_type=stopwords_type\n",
    "    )\n",
    "\n",
    "    # best for given trial\n",
    "#     pooling_strategy = params['pooling_strategy']\n",
    "    dropout = params['dropout']\n",
    "#     hidden_dim = params['hidden_dim']\n",
    "#     n_hidden_layers = params['n_hidden_layers']\n",
    "    lr = params['learning_rate']\n",
    "    opt_weight_decay = params['optimizer_weigth_decay']\n",
    "    pos_weight = train_uw_ratio if params['pos_weight'] > 1.0 else 1.0\n",
    "    \n",
    "#     fnn_hidden_dim = params['fnn_hidden_dim']\n",
    "#     fnn_n_layers = params['fnn_n_hidden_layers']\n",
    "#     fnn_dropout = params['fnn_dropout']\n",
    "    \n",
    "#     pnn_hidden_dim = params['pnn_hidden_dim']\n",
    "#     pnn_dropout = params['pnn_dropout']\n",
    "       \n",
    "    emb_model_name = params['embedding_model_name']\n",
    "    emb_size_map = {\n",
    "        'all-mpnet-base-v2': 768,\n",
    "        'all-MiniLM-L6-v2': 384,\n",
    "        'multi-qa-mpnet-base-dot-v1': 768\n",
    "    }\n",
    "    # emb_model_name = 'all-MiniLM-L6-v2'\n",
    "    embedding_model = SentenceTransformer(emb_model_name, device=device, cache_folder=SBERT_MODEL_PATH)\n",
    "    \n",
    "    model = SentNN(\n",
    "        embeddings_dim=emb_size_map[emb_model_name],\n",
    "        sentence_level_feature_dim=slf_dim,\n",
    "        dropout=dropout,\n",
    "    ).to(device)    \n",
    "\n",
    "    optimizer = optim.Adam(model.parameters(), lr=lr, weight_decay=opt_weight_decay)\n",
    "\n",
    "    criterion = nn.BCEWithLogitsLoss(pos_weight=torch.tensor([pos_weight]).to(device))\n",
    "#     criterion = nn.SmoothL1Loss(reduction='sum')\n",
    "\n",
    "    early_stopping = EarlyStopping(\n",
    "        patience=6,\n",
    "        path=model_checkpoint_path,\n",
    "        verbose=False,\n",
    "        trace_func=print_n_log.run('early_stopping', logf_path, 'DEBUG')\n",
    "    )\n",
    "\n",
    "    n_epochs = 30\n",
    "    threshold = 0.5\n",
    "    val_losses, train_losses, val_clf_reports, train_clf_reports = [], [], [], []\n",
    "\n",
    "    for epoch in range(n_epochs):\n",
    "        epoch_val_losses, epoch_train_losses = [], []\n",
    "\n",
    "        model.train()\n",
    "        y_pred, y_true = [], []\n",
    "        for ids, sentences, labels, features in train_loader:\n",
    "            labels = labels.float().to(device)\n",
    "            features = features.to(device)\n",
    "            \n",
    "            embeddings = embedding_model.encode(sentences, convert_to_tensor=True).float()\n",
    "            output = model(embeddings, sent_level_features=features)\n",
    "            loss = criterion(output, labels)\n",
    "        \n",
    "            loss.backward()\n",
    "            epoch_train_losses.append(loss.item())\n",
    "\n",
    "            pred = torch.sigmoid(output)\n",
    "            pred = (pred > threshold).int()\n",
    "            y_pred.extend(pred.tolist())\n",
    "            y_true.extend(labels.tolist())\n",
    "            \n",
    "            optimizer.step()\n",
    "            optimizer.zero_grad()\n",
    "            \n",
    "        cr = classification_report(y_true, y_pred, digits=6, output_dict=True, zero_division=0)\n",
    "        train_clf_reports.append(cr)\n",
    "        \n",
    "        \n",
    "        model.eval()\n",
    "        y_pred, y_true = [], []\n",
    "        with torch.no_grad():\n",
    "            for val_ids, val_sentences, val_labels, val_features in val_loader:\n",
    "                val_labels = val_labels.float().to(device)\n",
    "                val_features = val_features.to(device)\n",
    "                \n",
    "                val_embeddings = embedding_model.encode(val_sentences, convert_to_tensor=True).float()\n",
    "                pred = model(val_embeddings, sent_level_features=val_features)\n",
    "                val_loss = criterion(pred, val_labels)\n",
    "                epoch_val_losses.append(val_loss.item())\n",
    "                \n",
    "                pred = torch.sigmoid(pred)\n",
    "                \n",
    "                pred = (pred > threshold).int()\n",
    "                y_pred.extend(pred.tolist())\n",
    "                y_true.extend(val_labels.tolist())\n",
    "        \n",
    "        val_losses.append(np.average(epoch_val_losses))\n",
    "        train_losses.append(np.average(epoch_train_losses))\n",
    "        avg_val_loss = np.average(val_losses)\n",
    "        print(\n",
    "            'epoch ==> ', epoch,\n",
    "            ' | avg train loss ==> ', np.average(train_losses),\n",
    "            ' | avg val loss ==> ', avg_val_loss\n",
    "        )\n",
    "        print(classification_report(y_true, y_pred, digits=6, zero_division=0))\n",
    "        cr = classification_report(y_true, y_pred, digits=6, output_dict=True, zero_division=0)\n",
    "        val_clf_reports.append(cr)\n",
    "        \n",
    "        early_stopping(\n",
    "            val_loss=avg_val_loss,\n",
    "            model=model,\n",
    "            optimizer=optimizer,\n",
    "            train_losses=train_losses,\n",
    "            val_losses=val_losses,\n",
    "            train_clf_reports=train_clf_reports,\n",
    "            val_clf_reports=val_clf_reports,\n",
    "            acomp_metrics=('f1_p', cr['1.0']['f1-score'])\n",
    "        )\n",
    "        \n",
    "        if early_stopping.early_stop:\n",
    "            print('early stopping...')\n",
    "            break\n",
    "\n",
    "    # recall_p = early_stopping.acomp_metrics['recall_p'] if early_stopping.acomp_metrics else 0.0\n",
    "    \"Done.\"\n",
    "#     return model, "
   ]
  },
  {
   "cell_type": "code",
   "execution_count": 7,
   "metadata": {},
   "outputs": [],
   "source": [
    "def split_id(item: str):\n",
    "    item = str(int(item))\n",
    "    return int(item[:8]), int(item[8:])\n",
    "\n",
    "def evaluate_model(params, features_params=None, load_path=None, bam=''):\n",
    "    stopwords_type = None\n",
    "    if features_params:\n",
    "        stopwords_type = features_params['stopwords_type'] if 'stopwords_type' in features_params else None\n",
    "        \n",
    "    train_loader, val_loader, test_loader = get_loaders(\n",
    "        params['batch_size'],\n",
    "        transforms_params=features_params,\n",
    "        stopwords_type=stopwords_type\n",
    "    )\n",
    "\n",
    "    # best for given trial\n",
    "#     pooling_strategy = params['pooling_strategy']\n",
    "    dropout = params['dropout']\n",
    "#     hidden_dim = params['hidden_dim']\n",
    "#     n_hidden_layers = params['n_hidden_layers']\n",
    "    lr = params['learning_rate']\n",
    "    opt_weight_decay = params['optimizer_weigth_decay']\n",
    "    pos_weight = train_uw_ratio if params['pos_weight'] > 1.0 else 1.0\n",
    "    \n",
    "#     fnn_hidden_dim = params['fnn_hidden_dim']\n",
    "#     fnn_n_layers = params['fnn_n_hidden_layers']\n",
    "#     fnn_dropout = params['fnn_dropout']\n",
    "    \n",
    "#     pnn_hidden_dim = params['pnn_hidden_dim']\n",
    "#     pnn_dropout = params['pnn_dropout']\n",
    "    \n",
    "    emb_model_name = params['embedding_model_name']\n",
    "\n",
    "    \n",
    "    emb_size_map = {\n",
    "        'all-mpnet-base-v2': 768,\n",
    "        'all-MiniLM-L6-v2': 384,\n",
    "        'multi-qa-mpnet-base-dot-v1': 768\n",
    "    }\n",
    "    # emb_model_name = 'all-MiniLM-L6-v2'\n",
    "    embedding_model = SentenceTransformer(emb_model_name, device=device, cache_folder=SBERT_MODEL_PATH)\n",
    "    \n",
    "    model = SentNN(\n",
    "        embeddings_dim=emb_size_map[emb_model_name],\n",
    "        sentence_level_feature_dim=slf_dim,\n",
    "        dropout=dropout\n",
    "    ).to(device)\n",
    "    \n",
    "    optimizer = optim.Adam(model.parameters(), lr=lr, weight_decay=opt_weight_decay)\n",
    "    criterion = nn.BCEWithLogitsLoss(pos_weight=torch.tensor([pos_weight]).to(device))\n",
    "#     criterion = nn.SmoothL1Loss(reduction='sum')\n",
    "    \n",
    "    load_checkpoint(load_path, model, optimizer, device, bam=bam)\n",
    "    \n",
    "    threshold = 0.5\n",
    "    y_pred = []\n",
    "    y_true = []\n",
    "    scores = []\n",
    "    ids = []\n",
    "\n",
    "    model.eval()\n",
    "    with torch.no_grad():\n",
    "        for test_ids, test_sentences, test_labels, test_features in test_loader:           \n",
    "            test_labels = test_labels.float().to(device)\n",
    "            test_features = test_features.to(device)\n",
    "\n",
    "            embeddings = embedding_model.encode(test_sentences, convert_to_tensor=True)\n",
    "            output = torch.sigmoid(model(embeddings, sent_level_features=test_features))\n",
    "            \n",
    "            ids.extend(test_ids.tolist())\n",
    "            scores.extend(output.tolist())\n",
    "            output = (output > threshold).int()\n",
    "            y_pred.extend(output.tolist())\n",
    "            y_true.extend(test_labels.tolist())\n",
    "    \n",
    "#     df_scorer = pd.DataFrame(data=list(zip(ids, scores)), columns=['id', 'score'])\n",
    "#     df_date_index = df_scorer.apply(lambda row: split_id(row.id), axis=1, result_type='expand')\n",
    "#     df_scorer = pd.concat([df_date_index, df_scorer], axis=1) \\\n",
    "#         .rename(columns={0: 'date', 1: 'index'}) \\\n",
    "#         .sort_values(by=['date', 'index'], axis=0) \\\n",
    "#         .reset_index(drop=True)\n",
    "    predictions = list(zip(ids, scores))\n",
    "    predictions = sorted(\n",
    "        predictions, \n",
    "        key=lambda x: x[0]\n",
    "    )\n",
    "    _, _, avg_precision, rr, num_relevant = evaluate_v2(predictions)\n",
    "    print('Avg. precision: ', avg_precision)\n",
    "    print('Classification Report:')\n",
    "    print(classification_report(y_true, y_pred, digits=4)) #"
   ]
  },
  {
   "cell_type": "code",
   "execution_count": 8,
   "metadata": {},
   "outputs": [],
   "source": [
    "load_data()"
   ]
  },
  {
   "cell_type": "code",
   "execution_count": 11,
   "metadata": {},
   "outputs": [
    {
     "name": "stdout",
     "output_type": "stream",
     "text": [
      "{'batch_size': 64, 'dropout': 0.02, 'learning_rate': 0.00687658226159879, 'optimizer_weigth_decay': 0.00015098895105608427, 'pos_weight': 32.81159420289855, 'embedding_model_name': 'all-mpnet-base-v2'}\n",
      "{'stopwords_type': 'wstop', 'from_selection': False, 'tag_feature_type': 'sum', 'word_count_feature_type': 'count_words'}\n",
      "{'stopwords_type': 'wstop', 'from_selection': False, 'tag_feature_type': 'sum', 'word_count_feature_type': 'count_words'}\n"
     ]
    },
    {
     "name": "stderr",
     "output_type": "stream",
     "text": [
      "/opt/conda/lib/python3.7/site-packages/spacy/util.py:1635: UserWarning: [W111] Jupyter notebook detected: if using `prefer_gpu()` or `require_gpu()`, include it in the same cell right before `spacy.load()` to ensure that the model is loaded on the correct device. More information: http://spacy.io/usage/v3#jupyter-notebook-gpu\n",
      "  warnings.warn(Warnings.W111)\n",
      "[nltk_data] Downloading package punkt to /home/jovyan/nltk_data...\n",
      "[nltk_data]   Package punkt is already up-to-date!\n",
      "INFO : Load pretrained SentenceTransformer: all-mpnet-base-v2\n"
     ]
    },
    {
     "name": "stdout",
     "output_type": "stream",
     "text": [
      "Compose(\n",
      "    HandleStopwords()\n",
      "    NoTransform()\n",
      "    Sum()\n",
      "    NoTransform()\n",
      "    CountWords()\n",
      "    ToBinary()\n",
      "    ToTensor()\n",
      ")\n",
      "Model loaded from <== /home/jovyan/sharedstorage/s12b3v/dp/dt/exp/sent-nn/training/w_feat/best_f1_p_checkpoint.pt\n"
     ]
    },
    {
     "data": {
      "application/vnd.jupyter.widget-view+json": {
       "model_id": "ed9d4273baae4e5881453dccb486fa01",
       "version_major": 2,
       "version_minor": 0
      },
      "text/plain": [
       "Batches:   0%|          | 0/2 [00:00<?, ?it/s]"
      ]
     },
     "metadata": {},
     "output_type": "display_data"
    },
    {
     "data": {
      "application/vnd.jupyter.widget-view+json": {
       "model_id": "09d6b36c10d746b0926196d79835622d",
       "version_major": 2,
       "version_minor": 0
      },
      "text/plain": [
       "Batches:   0%|          | 0/2 [00:00<?, ?it/s]"
      ]
     },
     "metadata": {},
     "output_type": "display_data"
    },
    {
     "data": {
      "application/vnd.jupyter.widget-view+json": {
       "model_id": "1a952e67621f42b0beea060e74434357",
       "version_major": 2,
       "version_minor": 0
      },
      "text/plain": [
       "Batches:   0%|          | 0/2 [00:00<?, ?it/s]"
      ]
     },
     "metadata": {},
     "output_type": "display_data"
    },
    {
     "data": {
      "application/vnd.jupyter.widget-view+json": {
       "model_id": "8c229e4411a34f7aaa29aff5d15b2a90",
       "version_major": 2,
       "version_minor": 0
      },
      "text/plain": [
       "Batches:   0%|          | 0/2 [00:00<?, ?it/s]"
      ]
     },
     "metadata": {},
     "output_type": "display_data"
    },
    {
     "data": {
      "application/vnd.jupyter.widget-view+json": {
       "model_id": "6898bf81d275409c8751b7448d962d63",
       "version_major": 2,
       "version_minor": 0
      },
      "text/plain": [
       "Batches:   0%|          | 0/2 [00:00<?, ?it/s]"
      ]
     },
     "metadata": {},
     "output_type": "display_data"
    },
    {
     "data": {
      "application/vnd.jupyter.widget-view+json": {
       "model_id": "061f778733344e329d9592da65bfaa11",
       "version_major": 2,
       "version_minor": 0
      },
      "text/plain": [
       "Batches:   0%|          | 0/2 [00:00<?, ?it/s]"
      ]
     },
     "metadata": {},
     "output_type": "display_data"
    },
    {
     "data": {
      "application/vnd.jupyter.widget-view+json": {
       "model_id": "3a3317d19d294cf6b02a08a605b8e500",
       "version_major": 2,
       "version_minor": 0
      },
      "text/plain": [
       "Batches:   0%|          | 0/2 [00:00<?, ?it/s]"
      ]
     },
     "metadata": {},
     "output_type": "display_data"
    },
    {
     "data": {
      "application/vnd.jupyter.widget-view+json": {
       "model_id": "621999f54c1d4bdfaeb375fbccf5d682",
       "version_major": 2,
       "version_minor": 0
      },
      "text/plain": [
       "Batches:   0%|          | 0/2 [00:00<?, ?it/s]"
      ]
     },
     "metadata": {},
     "output_type": "display_data"
    },
    {
     "data": {
      "application/vnd.jupyter.widget-view+json": {
       "model_id": "652094d0ccd94924a733348166c9cbbc",
       "version_major": 2,
       "version_minor": 0
      },
      "text/plain": [
       "Batches:   0%|          | 0/2 [00:00<?, ?it/s]"
      ]
     },
     "metadata": {},
     "output_type": "display_data"
    },
    {
     "data": {
      "application/vnd.jupyter.widget-view+json": {
       "model_id": "caacc3f43d4847b79aec01731f24b5cb",
       "version_major": 2,
       "version_minor": 0
      },
      "text/plain": [
       "Batches:   0%|          | 0/2 [00:00<?, ?it/s]"
      ]
     },
     "metadata": {},
     "output_type": "display_data"
    },
    {
     "data": {
      "application/vnd.jupyter.widget-view+json": {
       "model_id": "6112eb681b8849ea92d4b37aba6d3bca",
       "version_major": 2,
       "version_minor": 0
      },
      "text/plain": [
       "Batches:   0%|          | 0/2 [00:00<?, ?it/s]"
      ]
     },
     "metadata": {},
     "output_type": "display_data"
    },
    {
     "data": {
      "application/vnd.jupyter.widget-view+json": {
       "model_id": "4d03bcb86ff849008a37a1edaed1f790",
       "version_major": 2,
       "version_minor": 0
      },
      "text/plain": [
       "Batches:   0%|          | 0/2 [00:00<?, ?it/s]"
      ]
     },
     "metadata": {},
     "output_type": "display_data"
    },
    {
     "data": {
      "application/vnd.jupyter.widget-view+json": {
       "model_id": "cb2ac290f559474888defc08154ad4fb",
       "version_major": 2,
       "version_minor": 0
      },
      "text/plain": [
       "Batches:   0%|          | 0/2 [00:00<?, ?it/s]"
      ]
     },
     "metadata": {},
     "output_type": "display_data"
    },
    {
     "data": {
      "application/vnd.jupyter.widget-view+json": {
       "model_id": "749941a5c3e243d7b9fbb67c00671ef6",
       "version_major": 2,
       "version_minor": 0
      },
      "text/plain": [
       "Batches:   0%|          | 0/2 [00:00<?, ?it/s]"
      ]
     },
     "metadata": {},
     "output_type": "display_data"
    },
    {
     "data": {
      "application/vnd.jupyter.widget-view+json": {
       "model_id": "ee0b90e0972946cbbe46eea2b9b2b281",
       "version_major": 2,
       "version_minor": 0
      },
      "text/plain": [
       "Batches:   0%|          | 0/2 [00:00<?, ?it/s]"
      ]
     },
     "metadata": {},
     "output_type": "display_data"
    },
    {
     "data": {
      "application/vnd.jupyter.widget-view+json": {
       "model_id": "03c2c868d9f74b809652831eca34e9fb",
       "version_major": 2,
       "version_minor": 0
      },
      "text/plain": [
       "Batches:   0%|          | 0/2 [00:00<?, ?it/s]"
      ]
     },
     "metadata": {},
     "output_type": "display_data"
    },
    {
     "data": {
      "application/vnd.jupyter.widget-view+json": {
       "model_id": "4e031687081f41eebd4f11e9c3a1b850",
       "version_major": 2,
       "version_minor": 0
      },
      "text/plain": [
       "Batches:   0%|          | 0/2 [00:00<?, ?it/s]"
      ]
     },
     "metadata": {},
     "output_type": "display_data"
    },
    {
     "data": {
      "application/vnd.jupyter.widget-view+json": {
       "model_id": "27e7ee0cf5914c488643435b26f24725",
       "version_major": 2,
       "version_minor": 0
      },
      "text/plain": [
       "Batches:   0%|          | 0/2 [00:00<?, ?it/s]"
      ]
     },
     "metadata": {},
     "output_type": "display_data"
    },
    {
     "data": {
      "application/vnd.jupyter.widget-view+json": {
       "model_id": "af7acca2b0cd4336acb9d5a21db5938d",
       "version_major": 2,
       "version_minor": 0
      },
      "text/plain": [
       "Batches:   0%|          | 0/2 [00:00<?, ?it/s]"
      ]
     },
     "metadata": {},
     "output_type": "display_data"
    },
    {
     "data": {
      "application/vnd.jupyter.widget-view+json": {
       "model_id": "609514e3c6654206ad64c756f7597176",
       "version_major": 2,
       "version_minor": 0
      },
      "text/plain": [
       "Batches:   0%|          | 0/2 [00:00<?, ?it/s]"
      ]
     },
     "metadata": {},
     "output_type": "display_data"
    },
    {
     "data": {
      "application/vnd.jupyter.widget-view+json": {
       "model_id": "3cc28da658034fa496a69a1b17f58870",
       "version_major": 2,
       "version_minor": 0
      },
      "text/plain": [
       "Batches:   0%|          | 0/2 [00:00<?, ?it/s]"
      ]
     },
     "metadata": {},
     "output_type": "display_data"
    },
    {
     "data": {
      "application/vnd.jupyter.widget-view+json": {
       "model_id": "ad3715f718d34e0f99171870bd0e4f9a",
       "version_major": 2,
       "version_minor": 0
      },
      "text/plain": [
       "Batches:   0%|          | 0/2 [00:00<?, ?it/s]"
      ]
     },
     "metadata": {},
     "output_type": "display_data"
    },
    {
     "data": {
      "application/vnd.jupyter.widget-view+json": {
       "model_id": "6a1816c38c714b838521e57b98046fb3",
       "version_major": 2,
       "version_minor": 0
      },
      "text/plain": [
       "Batches:   0%|          | 0/2 [00:00<?, ?it/s]"
      ]
     },
     "metadata": {},
     "output_type": "display_data"
    },
    {
     "data": {
      "application/vnd.jupyter.widget-view+json": {
       "model_id": "79d2f59c2b5a4273ac9c4fde550a1db4",
       "version_major": 2,
       "version_minor": 0
      },
      "text/plain": [
       "Batches:   0%|          | 0/2 [00:00<?, ?it/s]"
      ]
     },
     "metadata": {},
     "output_type": "display_data"
    },
    {
     "data": {
      "application/vnd.jupyter.widget-view+json": {
       "model_id": "496ef85b275044f8b47f82eb60d70133",
       "version_major": 2,
       "version_minor": 0
      },
      "text/plain": [
       "Batches:   0%|          | 0/2 [00:00<?, ?it/s]"
      ]
     },
     "metadata": {},
     "output_type": "display_data"
    },
    {
     "data": {
      "application/vnd.jupyter.widget-view+json": {
       "model_id": "dacbf35b213a4f38880d8669253ca720",
       "version_major": 2,
       "version_minor": 0
      },
      "text/plain": [
       "Batches:   0%|          | 0/2 [00:00<?, ?it/s]"
      ]
     },
     "metadata": {},
     "output_type": "display_data"
    },
    {
     "data": {
      "application/vnd.jupyter.widget-view+json": {
       "model_id": "5d495833fdf54c1b9a625e03afaff217",
       "version_major": 2,
       "version_minor": 0
      },
      "text/plain": [
       "Batches:   0%|          | 0/2 [00:00<?, ?it/s]"
      ]
     },
     "metadata": {},
     "output_type": "display_data"
    },
    {
     "data": {
      "application/vnd.jupyter.widget-view+json": {
       "model_id": "3f5a12e19a5d429c8afb3123a7850c4b",
       "version_major": 2,
       "version_minor": 0
      },
      "text/plain": [
       "Batches:   0%|          | 0/2 [00:00<?, ?it/s]"
      ]
     },
     "metadata": {},
     "output_type": "display_data"
    },
    {
     "data": {
      "application/vnd.jupyter.widget-view+json": {
       "model_id": "30d93138c8e54e09b684bf2fbf04e935",
       "version_major": 2,
       "version_minor": 0
      },
      "text/plain": [
       "Batches:   0%|          | 0/2 [00:00<?, ?it/s]"
      ]
     },
     "metadata": {},
     "output_type": "display_data"
    },
    {
     "data": {
      "application/vnd.jupyter.widget-view+json": {
       "model_id": "9ebc769170d54f8b8e4666c670fc5b72",
       "version_major": 2,
       "version_minor": 0
      },
      "text/plain": [
       "Batches:   0%|          | 0/2 [00:00<?, ?it/s]"
      ]
     },
     "metadata": {},
     "output_type": "display_data"
    },
    {
     "data": {
      "application/vnd.jupyter.widget-view+json": {
       "model_id": "43f15a926a204c33b3ed74e154915956",
       "version_major": 2,
       "version_minor": 0
      },
      "text/plain": [
       "Batches:   0%|          | 0/2 [00:00<?, ?it/s]"
      ]
     },
     "metadata": {},
     "output_type": "display_data"
    },
    {
     "data": {
      "application/vnd.jupyter.widget-view+json": {
       "model_id": "a9a274cb875048c796c97735f529a749",
       "version_major": 2,
       "version_minor": 0
      },
      "text/plain": [
       "Batches:   0%|          | 0/2 [00:00<?, ?it/s]"
      ]
     },
     "metadata": {},
     "output_type": "display_data"
    },
    {
     "data": {
      "application/vnd.jupyter.widget-view+json": {
       "model_id": "ff04f83eca8f4ba1bdff57533bd376d8",
       "version_major": 2,
       "version_minor": 0
      },
      "text/plain": [
       "Batches:   0%|          | 0/2 [00:00<?, ?it/s]"
      ]
     },
     "metadata": {},
     "output_type": "display_data"
    },
    {
     "data": {
      "application/vnd.jupyter.widget-view+json": {
       "model_id": "24604318c9484c15add915af9035db04",
       "version_major": 2,
       "version_minor": 0
      },
      "text/plain": [
       "Batches:   0%|          | 0/2 [00:00<?, ?it/s]"
      ]
     },
     "metadata": {},
     "output_type": "display_data"
    },
    {
     "data": {
      "application/vnd.jupyter.widget-view+json": {
       "model_id": "271116b6a19944e7bf8a2492c778b8c0",
       "version_major": 2,
       "version_minor": 0
      },
      "text/plain": [
       "Batches:   0%|          | 0/2 [00:00<?, ?it/s]"
      ]
     },
     "metadata": {},
     "output_type": "display_data"
    },
    {
     "data": {
      "application/vnd.jupyter.widget-view+json": {
       "model_id": "8bb613cb8ca4440aa9380a735ab54e0f",
       "version_major": 2,
       "version_minor": 0
      },
      "text/plain": [
       "Batches:   0%|          | 0/2 [00:00<?, ?it/s]"
      ]
     },
     "metadata": {},
     "output_type": "display_data"
    },
    {
     "data": {
      "application/vnd.jupyter.widget-view+json": {
       "model_id": "eaf6ff0851fc4984ad50b82af72245d2",
       "version_major": 2,
       "version_minor": 0
      },
      "text/plain": [
       "Batches:   0%|          | 0/2 [00:00<?, ?it/s]"
      ]
     },
     "metadata": {},
     "output_type": "display_data"
    },
    {
     "data": {
      "application/vnd.jupyter.widget-view+json": {
       "model_id": "0091e128d3104ce68ac4afb22fd7a0fc",
       "version_major": 2,
       "version_minor": 0
      },
      "text/plain": [
       "Batches:   0%|          | 0/2 [00:00<?, ?it/s]"
      ]
     },
     "metadata": {},
     "output_type": "display_data"
    },
    {
     "data": {
      "application/vnd.jupyter.widget-view+json": {
       "model_id": "68b29ece421a4b37ab2004918988ebc9",
       "version_major": 2,
       "version_minor": 0
      },
      "text/plain": [
       "Batches:   0%|          | 0/2 [00:00<?, ?it/s]"
      ]
     },
     "metadata": {},
     "output_type": "display_data"
    },
    {
     "data": {
      "application/vnd.jupyter.widget-view+json": {
       "model_id": "a938f825e7384ccb873420f83356a335",
       "version_major": 2,
       "version_minor": 0
      },
      "text/plain": [
       "Batches:   0%|          | 0/2 [00:00<?, ?it/s]"
      ]
     },
     "metadata": {},
     "output_type": "display_data"
    },
    {
     "data": {
      "application/vnd.jupyter.widget-view+json": {
       "model_id": "e8cb790531b840eca22fe7fca50d8020",
       "version_major": 2,
       "version_minor": 0
      },
      "text/plain": [
       "Batches:   0%|          | 0/2 [00:00<?, ?it/s]"
      ]
     },
     "metadata": {},
     "output_type": "display_data"
    },
    {
     "data": {
      "application/vnd.jupyter.widget-view+json": {
       "model_id": "11806c1f87654a15a915b7f76c34da29",
       "version_major": 2,
       "version_minor": 0
      },
      "text/plain": [
       "Batches:   0%|          | 0/2 [00:00<?, ?it/s]"
      ]
     },
     "metadata": {},
     "output_type": "display_data"
    },
    {
     "data": {
      "application/vnd.jupyter.widget-view+json": {
       "model_id": "089c5d7e7ac4425489ecd2b59a3bb7dc",
       "version_major": 2,
       "version_minor": 0
      },
      "text/plain": [
       "Batches:   0%|          | 0/2 [00:00<?, ?it/s]"
      ]
     },
     "metadata": {},
     "output_type": "display_data"
    },
    {
     "data": {
      "application/vnd.jupyter.widget-view+json": {
       "model_id": "8b3181a479ba443d9061158bb3b58d28",
       "version_major": 2,
       "version_minor": 0
      },
      "text/plain": [
       "Batches:   0%|          | 0/2 [00:00<?, ?it/s]"
      ]
     },
     "metadata": {},
     "output_type": "display_data"
    },
    {
     "data": {
      "application/vnd.jupyter.widget-view+json": {
       "model_id": "b421ec89a36b44fc986be67dcae6012f",
       "version_major": 2,
       "version_minor": 0
      },
      "text/plain": [
       "Batches:   0%|          | 0/2 [00:00<?, ?it/s]"
      ]
     },
     "metadata": {},
     "output_type": "display_data"
    },
    {
     "data": {
      "application/vnd.jupyter.widget-view+json": {
       "model_id": "6ed0d64c760a43c3a56c95328db81f60",
       "version_major": 2,
       "version_minor": 0
      },
      "text/plain": [
       "Batches:   0%|          | 0/2 [00:00<?, ?it/s]"
      ]
     },
     "metadata": {},
     "output_type": "display_data"
    },
    {
     "data": {
      "application/vnd.jupyter.widget-view+json": {
       "model_id": "954d62c933eb4fa8b7a3df49be5c5589",
       "version_major": 2,
       "version_minor": 0
      },
      "text/plain": [
       "Batches:   0%|          | 0/2 [00:00<?, ?it/s]"
      ]
     },
     "metadata": {},
     "output_type": "display_data"
    },
    {
     "data": {
      "application/vnd.jupyter.widget-view+json": {
       "model_id": "10ff79b7248c43e88d7b04478e4f2668",
       "version_major": 2,
       "version_minor": 0
      },
      "text/plain": [
       "Batches:   0%|          | 0/2 [00:00<?, ?it/s]"
      ]
     },
     "metadata": {},
     "output_type": "display_data"
    },
    {
     "data": {
      "application/vnd.jupyter.widget-view+json": {
       "model_id": "7ba39c8195ec4b9d86e3549a5be71209",
       "version_major": 2,
       "version_minor": 0
      },
      "text/plain": [
       "Batches:   0%|          | 0/2 [00:00<?, ?it/s]"
      ]
     },
     "metadata": {},
     "output_type": "display_data"
    },
    {
     "data": {
      "application/vnd.jupyter.widget-view+json": {
       "model_id": "f411a61d8bf54749ab56a928b2958016",
       "version_major": 2,
       "version_minor": 0
      },
      "text/plain": [
       "Batches:   0%|          | 0/2 [00:00<?, ?it/s]"
      ]
     },
     "metadata": {},
     "output_type": "display_data"
    },
    {
     "data": {
      "application/vnd.jupyter.widget-view+json": {
       "model_id": "574fddfdc93d4452bbf51fe3406cbbc9",
       "version_major": 2,
       "version_minor": 0
      },
      "text/plain": [
       "Batches:   0%|          | 0/2 [00:00<?, ?it/s]"
      ]
     },
     "metadata": {},
     "output_type": "display_data"
    },
    {
     "data": {
      "application/vnd.jupyter.widget-view+json": {
       "model_id": "715675d7365c4a0bb9e127051dc1b45c",
       "version_major": 2,
       "version_minor": 0
      },
      "text/plain": [
       "Batches:   0%|          | 0/2 [00:00<?, ?it/s]"
      ]
     },
     "metadata": {},
     "output_type": "display_data"
    },
    {
     "data": {
      "application/vnd.jupyter.widget-view+json": {
       "model_id": "fc3a5d06bcde4cb8af5956202820eceb",
       "version_major": 2,
       "version_minor": 0
      },
      "text/plain": [
       "Batches:   0%|          | 0/2 [00:00<?, ?it/s]"
      ]
     },
     "metadata": {},
     "output_type": "display_data"
    },
    {
     "data": {
      "application/vnd.jupyter.widget-view+json": {
       "model_id": "1c5ec0e96eca4556a82f07dae4bfc2a6",
       "version_major": 2,
       "version_minor": 0
      },
      "text/plain": [
       "Batches:   0%|          | 0/2 [00:00<?, ?it/s]"
      ]
     },
     "metadata": {},
     "output_type": "display_data"
    },
    {
     "data": {
      "application/vnd.jupyter.widget-view+json": {
       "model_id": "7cf6b6ccc2c8441e910f9fbfda25a970",
       "version_major": 2,
       "version_minor": 0
      },
      "text/plain": [
       "Batches:   0%|          | 0/2 [00:00<?, ?it/s]"
      ]
     },
     "metadata": {},
     "output_type": "display_data"
    },
    {
     "data": {
      "application/vnd.jupyter.widget-view+json": {
       "model_id": "e6a5bbb20f1140329d4dbbec90f372e2",
       "version_major": 2,
       "version_minor": 0
      },
      "text/plain": [
       "Batches:   0%|          | 0/2 [00:00<?, ?it/s]"
      ]
     },
     "metadata": {},
     "output_type": "display_data"
    },
    {
     "data": {
      "application/vnd.jupyter.widget-view+json": {
       "model_id": "1f898e6c8b4c4f25b60f8d23845a3b79",
       "version_major": 2,
       "version_minor": 0
      },
      "text/plain": [
       "Batches:   0%|          | 0/2 [00:00<?, ?it/s]"
      ]
     },
     "metadata": {},
     "output_type": "display_data"
    },
    {
     "data": {
      "application/vnd.jupyter.widget-view+json": {
       "model_id": "7e724b77d4094587ac0c4f708ddf6b24",
       "version_major": 2,
       "version_minor": 0
      },
      "text/plain": [
       "Batches:   0%|          | 0/2 [00:00<?, ?it/s]"
      ]
     },
     "metadata": {},
     "output_type": "display_data"
    },
    {
     "data": {
      "application/vnd.jupyter.widget-view+json": {
       "model_id": "a8c404c5049e45b7a538d7f76b8c0fe9",
       "version_major": 2,
       "version_minor": 0
      },
      "text/plain": [
       "Batches:   0%|          | 0/2 [00:00<?, ?it/s]"
      ]
     },
     "metadata": {},
     "output_type": "display_data"
    },
    {
     "data": {
      "application/vnd.jupyter.widget-view+json": {
       "model_id": "c2746e70636f4cde9e440cabe993a5bf",
       "version_major": 2,
       "version_minor": 0
      },
      "text/plain": [
       "Batches:   0%|          | 0/2 [00:00<?, ?it/s]"
      ]
     },
     "metadata": {},
     "output_type": "display_data"
    },
    {
     "data": {
      "application/vnd.jupyter.widget-view+json": {
       "model_id": "62c1b5a2a6014f01aa7472a265f936a8",
       "version_major": 2,
       "version_minor": 0
      },
      "text/plain": [
       "Batches:   0%|          | 0/2 [00:00<?, ?it/s]"
      ]
     },
     "metadata": {},
     "output_type": "display_data"
    },
    {
     "data": {
      "application/vnd.jupyter.widget-view+json": {
       "model_id": "62d4fbd37fa84a598182b316d2436251",
       "version_major": 2,
       "version_minor": 0
      },
      "text/plain": [
       "Batches:   0%|          | 0/2 [00:00<?, ?it/s]"
      ]
     },
     "metadata": {},
     "output_type": "display_data"
    },
    {
     "data": {
      "application/vnd.jupyter.widget-view+json": {
       "model_id": "acf4e0c487d94b14931fda572827d588",
       "version_major": 2,
       "version_minor": 0
      },
      "text/plain": [
       "Batches:   0%|          | 0/2 [00:00<?, ?it/s]"
      ]
     },
     "metadata": {},
     "output_type": "display_data"
    },
    {
     "data": {
      "application/vnd.jupyter.widget-view+json": {
       "model_id": "8c1cc16f22dc452798073cb6256e3440",
       "version_major": 2,
       "version_minor": 0
      },
      "text/plain": [
       "Batches:   0%|          | 0/2 [00:00<?, ?it/s]"
      ]
     },
     "metadata": {},
     "output_type": "display_data"
    },
    {
     "data": {
      "application/vnd.jupyter.widget-view+json": {
       "model_id": "68c77c89943a4ad5b2aa64cf4f9d1108",
       "version_major": 2,
       "version_minor": 0
      },
      "text/plain": [
       "Batches:   0%|          | 0/2 [00:00<?, ?it/s]"
      ]
     },
     "metadata": {},
     "output_type": "display_data"
    },
    {
     "data": {
      "application/vnd.jupyter.widget-view+json": {
       "model_id": "284de3afa76e4f00bb1854573ba1d955",
       "version_major": 2,
       "version_minor": 0
      },
      "text/plain": [
       "Batches:   0%|          | 0/2 [00:00<?, ?it/s]"
      ]
     },
     "metadata": {},
     "output_type": "display_data"
    },
    {
     "data": {
      "application/vnd.jupyter.widget-view+json": {
       "model_id": "17a5cc50d0034e0e9e40dd2be6a0e1db",
       "version_major": 2,
       "version_minor": 0
      },
      "text/plain": [
       "Batches:   0%|          | 0/2 [00:00<?, ?it/s]"
      ]
     },
     "metadata": {},
     "output_type": "display_data"
    },
    {
     "data": {
      "application/vnd.jupyter.widget-view+json": {
       "model_id": "c80d385a2a27422ba76105226b76040c",
       "version_major": 2,
       "version_minor": 0
      },
      "text/plain": [
       "Batches:   0%|          | 0/2 [00:00<?, ?it/s]"
      ]
     },
     "metadata": {},
     "output_type": "display_data"
    },
    {
     "data": {
      "application/vnd.jupyter.widget-view+json": {
       "model_id": "25c257363e2940beba3578ce92df3d9b",
       "version_major": 2,
       "version_minor": 0
      },
      "text/plain": [
       "Batches:   0%|          | 0/2 [00:00<?, ?it/s]"
      ]
     },
     "metadata": {},
     "output_type": "display_data"
    },
    {
     "data": {
      "application/vnd.jupyter.widget-view+json": {
       "model_id": "b4b5074de2d24c838ffc53bd27fe23f2",
       "version_major": 2,
       "version_minor": 0
      },
      "text/plain": [
       "Batches:   0%|          | 0/2 [00:00<?, ?it/s]"
      ]
     },
     "metadata": {},
     "output_type": "display_data"
    },
    {
     "data": {
      "application/vnd.jupyter.widget-view+json": {
       "model_id": "d4148ff0055c4474be8763a41751690a",
       "version_major": 2,
       "version_minor": 0
      },
      "text/plain": [
       "Batches:   0%|          | 0/2 [00:00<?, ?it/s]"
      ]
     },
     "metadata": {},
     "output_type": "display_data"
    },
    {
     "data": {
      "application/vnd.jupyter.widget-view+json": {
       "model_id": "99f5628a4ed74205864d55cafa391d60",
       "version_major": 2,
       "version_minor": 0
      },
      "text/plain": [
       "Batches:   0%|          | 0/2 [00:00<?, ?it/s]"
      ]
     },
     "metadata": {},
     "output_type": "display_data"
    },
    {
     "data": {
      "application/vnd.jupyter.widget-view+json": {
       "model_id": "ef4b61b4762d47e9ab28c0410a27e4df",
       "version_major": 2,
       "version_minor": 0
      },
      "text/plain": [
       "Batches:   0%|          | 0/2 [00:00<?, ?it/s]"
      ]
     },
     "metadata": {},
     "output_type": "display_data"
    },
    {
     "data": {
      "application/vnd.jupyter.widget-view+json": {
       "model_id": "9f60543a2dee4eb58c83002b5257c078",
       "version_major": 2,
       "version_minor": 0
      },
      "text/plain": [
       "Batches:   0%|          | 0/2 [00:00<?, ?it/s]"
      ]
     },
     "metadata": {},
     "output_type": "display_data"
    },
    {
     "data": {
      "application/vnd.jupyter.widget-view+json": {
       "model_id": "6b736fe55dc54c1da6d50d40679a9294",
       "version_major": 2,
       "version_minor": 0
      },
      "text/plain": [
       "Batches:   0%|          | 0/2 [00:00<?, ?it/s]"
      ]
     },
     "metadata": {},
     "output_type": "display_data"
    },
    {
     "data": {
      "application/vnd.jupyter.widget-view+json": {
       "model_id": "8e065e7f082d41119d8f3b976916c777",
       "version_major": 2,
       "version_minor": 0
      },
      "text/plain": [
       "Batches:   0%|          | 0/2 [00:00<?, ?it/s]"
      ]
     },
     "metadata": {},
     "output_type": "display_data"
    },
    {
     "data": {
      "application/vnd.jupyter.widget-view+json": {
       "model_id": "017493eaca4e41128ac29f8d7b4de800",
       "version_major": 2,
       "version_minor": 0
      },
      "text/plain": [
       "Batches:   0%|          | 0/2 [00:00<?, ?it/s]"
      ]
     },
     "metadata": {},
     "output_type": "display_data"
    },
    {
     "data": {
      "application/vnd.jupyter.widget-view+json": {
       "model_id": "49adcb9a4d184d79aa7571a7dea1b2b0",
       "version_major": 2,
       "version_minor": 0
      },
      "text/plain": [
       "Batches:   0%|          | 0/2 [00:00<?, ?it/s]"
      ]
     },
     "metadata": {},
     "output_type": "display_data"
    },
    {
     "data": {
      "application/vnd.jupyter.widget-view+json": {
       "model_id": "d8521f10e2a647aa8327a0f0cd7ca39b",
       "version_major": 2,
       "version_minor": 0
      },
      "text/plain": [
       "Batches:   0%|          | 0/2 [00:00<?, ?it/s]"
      ]
     },
     "metadata": {},
     "output_type": "display_data"
    },
    {
     "data": {
      "application/vnd.jupyter.widget-view+json": {
       "model_id": "0afb2e8020d44c048b8ed080f1bc5038",
       "version_major": 2,
       "version_minor": 0
      },
      "text/plain": [
       "Batches:   0%|          | 0/2 [00:00<?, ?it/s]"
      ]
     },
     "metadata": {},
     "output_type": "display_data"
    },
    {
     "data": {
      "application/vnd.jupyter.widget-view+json": {
       "model_id": "23a1bf0f72574f74b01471f1a057153c",
       "version_major": 2,
       "version_minor": 0
      },
      "text/plain": [
       "Batches:   0%|          | 0/2 [00:00<?, ?it/s]"
      ]
     },
     "metadata": {},
     "output_type": "display_data"
    },
    {
     "data": {
      "application/vnd.jupyter.widget-view+json": {
       "model_id": "33f9c4d2bdfd4423ab1032d5607f68db",
       "version_major": 2,
       "version_minor": 0
      },
      "text/plain": [
       "Batches:   0%|          | 0/2 [00:00<?, ?it/s]"
      ]
     },
     "metadata": {},
     "output_type": "display_data"
    },
    {
     "data": {
      "application/vnd.jupyter.widget-view+json": {
       "model_id": "5d8642e1ff3549f197289a24e6b26a1d",
       "version_major": 2,
       "version_minor": 0
      },
      "text/plain": [
       "Batches:   0%|          | 0/2 [00:00<?, ?it/s]"
      ]
     },
     "metadata": {},
     "output_type": "display_data"
    },
    {
     "data": {
      "application/vnd.jupyter.widget-view+json": {
       "model_id": "5cb3b29bfde948a98cb91dcd804fbf75",
       "version_major": 2,
       "version_minor": 0
      },
      "text/plain": [
       "Batches:   0%|          | 0/2 [00:00<?, ?it/s]"
      ]
     },
     "metadata": {},
     "output_type": "display_data"
    },
    {
     "data": {
      "application/vnd.jupyter.widget-view+json": {
       "model_id": "91411598174b45de87a236d6e18589c2",
       "version_major": 2,
       "version_minor": 0
      },
      "text/plain": [
       "Batches:   0%|          | 0/2 [00:00<?, ?it/s]"
      ]
     },
     "metadata": {},
     "output_type": "display_data"
    },
    {
     "data": {
      "application/vnd.jupyter.widget-view+json": {
       "model_id": "f0ac32308f334117bc15beb79dbbd10a",
       "version_major": 2,
       "version_minor": 0
      },
      "text/plain": [
       "Batches:   0%|          | 0/2 [00:00<?, ?it/s]"
      ]
     },
     "metadata": {},
     "output_type": "display_data"
    },
    {
     "data": {
      "application/vnd.jupyter.widget-view+json": {
       "model_id": "a2485678594f4328b7d85b4da849fae6",
       "version_major": 2,
       "version_minor": 0
      },
      "text/plain": [
       "Batches:   0%|          | 0/2 [00:00<?, ?it/s]"
      ]
     },
     "metadata": {},
     "output_type": "display_data"
    },
    {
     "data": {
      "application/vnd.jupyter.widget-view+json": {
       "model_id": "8afb5f4d078a494d99c4dab38b674994",
       "version_major": 2,
       "version_minor": 0
      },
      "text/plain": [
       "Batches:   0%|          | 0/2 [00:00<?, ?it/s]"
      ]
     },
     "metadata": {},
     "output_type": "display_data"
    },
    {
     "data": {
      "application/vnd.jupyter.widget-view+json": {
       "model_id": "33f2440f877c4f15a0cc7267e45fc881",
       "version_major": 2,
       "version_minor": 0
      },
      "text/plain": [
       "Batches:   0%|          | 0/2 [00:00<?, ?it/s]"
      ]
     },
     "metadata": {},
     "output_type": "display_data"
    },
    {
     "data": {
      "application/vnd.jupyter.widget-view+json": {
       "model_id": "1476c13722f841b3963061ecdcc305dc",
       "version_major": 2,
       "version_minor": 0
      },
      "text/plain": [
       "Batches:   0%|          | 0/2 [00:00<?, ?it/s]"
      ]
     },
     "metadata": {},
     "output_type": "display_data"
    },
    {
     "data": {
      "application/vnd.jupyter.widget-view+json": {
       "model_id": "cb655284d9574a38abfc45219510747e",
       "version_major": 2,
       "version_minor": 0
      },
      "text/plain": [
       "Batches:   0%|          | 0/2 [00:00<?, ?it/s]"
      ]
     },
     "metadata": {},
     "output_type": "display_data"
    },
    {
     "data": {
      "application/vnd.jupyter.widget-view+json": {
       "model_id": "a7293e4bdc7846d2b76797f569b10109",
       "version_major": 2,
       "version_minor": 0
      },
      "text/plain": [
       "Batches:   0%|          | 0/2 [00:00<?, ?it/s]"
      ]
     },
     "metadata": {},
     "output_type": "display_data"
    },
    {
     "data": {
      "application/vnd.jupyter.widget-view+json": {
       "model_id": "0eea15b968a74601b17532362721cc35",
       "version_major": 2,
       "version_minor": 0
      },
      "text/plain": [
       "Batches:   0%|          | 0/2 [00:00<?, ?it/s]"
      ]
     },
     "metadata": {},
     "output_type": "display_data"
    },
    {
     "data": {
      "application/vnd.jupyter.widget-view+json": {
       "model_id": "e67edf77ddda483fb9abf8c3ea2334a3",
       "version_major": 2,
       "version_minor": 0
      },
      "text/plain": [
       "Batches:   0%|          | 0/2 [00:00<?, ?it/s]"
      ]
     },
     "metadata": {},
     "output_type": "display_data"
    },
    {
     "data": {
      "application/vnd.jupyter.widget-view+json": {
       "model_id": "ed485111fef04e9b8ebde009f9b0df13",
       "version_major": 2,
       "version_minor": 0
      },
      "text/plain": [
       "Batches:   0%|          | 0/2 [00:00<?, ?it/s]"
      ]
     },
     "metadata": {},
     "output_type": "display_data"
    },
    {
     "data": {
      "application/vnd.jupyter.widget-view+json": {
       "model_id": "f0000f1077084b239c9f3f333704853b",
       "version_major": 2,
       "version_minor": 0
      },
      "text/plain": [
       "Batches:   0%|          | 0/2 [00:00<?, ?it/s]"
      ]
     },
     "metadata": {},
     "output_type": "display_data"
    },
    {
     "data": {
      "application/vnd.jupyter.widget-view+json": {
       "model_id": "cceb36b6e25047a0b990727a33ea4ee9",
       "version_major": 2,
       "version_minor": 0
      },
      "text/plain": [
       "Batches:   0%|          | 0/2 [00:00<?, ?it/s]"
      ]
     },
     "metadata": {},
     "output_type": "display_data"
    },
    {
     "data": {
      "application/vnd.jupyter.widget-view+json": {
       "model_id": "67087ac79f9e4fffb74b0364f8f3b3f0",
       "version_major": 2,
       "version_minor": 0
      },
      "text/plain": [
       "Batches:   0%|          | 0/2 [00:00<?, ?it/s]"
      ]
     },
     "metadata": {},
     "output_type": "display_data"
    },
    {
     "data": {
      "application/vnd.jupyter.widget-view+json": {
       "model_id": "d39801e1657746568c33f9e7c62c3d45",
       "version_major": 2,
       "version_minor": 0
      },
      "text/plain": [
       "Batches:   0%|          | 0/2 [00:00<?, ?it/s]"
      ]
     },
     "metadata": {},
     "output_type": "display_data"
    },
    {
     "data": {
      "application/vnd.jupyter.widget-view+json": {
       "model_id": "218a7ab20f9a49d48841450641b2f23e",
       "version_major": 2,
       "version_minor": 0
      },
      "text/plain": [
       "Batches:   0%|          | 0/2 [00:00<?, ?it/s]"
      ]
     },
     "metadata": {},
     "output_type": "display_data"
    },
    {
     "data": {
      "application/vnd.jupyter.widget-view+json": {
       "model_id": "f4f6d853a0d7406a9094666e1a90fe0b",
       "version_major": 2,
       "version_minor": 0
      },
      "text/plain": [
       "Batches:   0%|          | 0/2 [00:00<?, ?it/s]"
      ]
     },
     "metadata": {},
     "output_type": "display_data"
    },
    {
     "name": "stdout",
     "output_type": "stream",
     "text": [
      "[(201603111143, 0.555993914604187), (201603111104, 0.3152369260787964), (201512191208, 0.16939584910869598), (20190205179, 0.6938319802284241), (201512191287, 0.19079327583312988)]\n",
      "[(201512191, 0.04219644144177437), (201512192, 0.1603640913963318), (201512193, 0.13512475788593292), (201512194, 0.20726995170116425), (201512195, 0.4506719708442688)]\n",
      "Ranking:\n",
      "Avg. precision:  0.12333415169590956\n",
      "Classification Report:\n",
      "              precision    recall  f1-score   support\n",
      "\n",
      "         0.0     0.9912    0.8148    0.8944      6328\n",
      "         1.0     0.0713    0.6618    0.1288       136\n",
      "\n",
      "    accuracy                         0.8116      6464\n",
      "   macro avg     0.5312    0.7383    0.5116      6464\n",
      "weighted avg     0.9718    0.8116    0.8783      6464\n",
      "\n"
     ]
    }
   ],
   "source": [
    "# study_path = os.path.join(optim_path, 'bi-lstm_wAtt_sTPE_pNone_df0.2_wf0.2.pkl')\n",
    "# params_path = os.path.join(optim_path, 'bi-lstm_featOptim_wAtt_sTPE_pNone_df0.2_wf0.2_params.pkl')\n",
    "# model_checkpoint_path = os.path.join(training_path, 'wAtt_sTPE')\n",
    "# sent_nn_mF1_sTPE_pNone_df0.2_wf0.03\n",
    "# sent_nn_paramOptAfter_sentFeat_mF1_sTPE_pNone_df0.2_wf0.03\n",
    "model_optim_path = os.path.join(optim_path, 'sent_nn_NO_FEAT_V2_mF1_sTPE_pNone_df0.2_wf0.03')\n",
    "# feature_params_path = f'{model_optim_path}_featureParams.pkl'\n",
    "# params_path = f'{model_optim_path}_params.pkl'\n",
    "study_path = f'{model_optim_path}.pkl'\n",
    "\n",
    "# TODO: DOKONCIT EVAL NO FEAT (*&@!%$(*&@!$%!#!@(^#!#@*&#^!)))\n",
    "# for now ignore features \n",
    "# studies = [s for s in studies if '_params' not in s and 'featOptim' not in s]\n",
    "is_training = False\n",
    "bam = 'best_f1_p_'\n",
    "# bam = ''\n",
    "# for study_name in studies[:1]:\n",
    "# TODO: check whether all of these exist\n",
    "study = torch.load(os.path.join(optim_path, study_path))\n",
    "params = study.best_params\n",
    "print(params)\n",
    "features_params = None\n",
    "\n",
    "features_params =  {'stopwords_type': 'wstop', 'from_selection': False, 'tag_feature_type': 'sum', 'word_count_feature_type': 'count_words'}\n",
    "# features_params = {}\n",
    "print(features_params)\n",
    "# todo: tu treba este w_feat!! 15:32 21.04.\n",
    "# del features_params['tag_feature_type']\n",
    "# del features_params['word_count_feature_type']\n",
    "print(features_params)\n",
    "\n",
    "checkpoint_dir = 'w_feat'\n",
    "# checkpoint_dir = [d for d in models_directories if d in study_name][0]\n",
    "study_log_name = 'sent-nn_wFeat'\n",
    "# params = study.best_params\n",
    "logf_path = p.join(LOG_DIR_PATH, f'training_{study_log_name}.log')\n",
    "\n",
    "\n",
    "if features_params:\n",
    "    for ft in ['pos', 'tag', 'dep', 'word_count', 'word_level']:\n",
    "        feature_type = f'{ft}_feature_type'\n",
    "        if feature_type not in features_params:\n",
    "            features_params[feature_type] = 'none'\n",
    "\n",
    "if 'with_sequential_layer' not in params:\n",
    "    params['with_sequential_layer'] = False\n",
    "\n",
    "if isinstance(params['pos_weight'], bool):\n",
    "    params['pos_weight'] = 2.0 if params['pos_weight'] else 1.0\n",
    "\n",
    "checkpoint_path = os.path.join(training_path, checkpoint_dir)\n",
    "if is_training:\n",
    "    train_model(params, features_params, checkpoint_path)\n",
    "else:\n",
    "    evaluate_model(params, features_params, checkpoint_path, bam=bam)"
   ]
  },
  {
   "cell_type": "markdown",
   "metadata": {},
   "source": [
    "### results\n",
    "- ***no_feat:***\n",
    "    - **last checkpoint:**\n",
    "    ```\n",
    "        Avg. precision:  0.13700088844162206\n",
    "        Classification Report:\n",
    "                      precision    recall  f1-score   support\n",
    "\n",
    "                 0.0     0.9927    0.8118    0.8932      6328\n",
    "                 1.0     0.0760    0.7206    0.1375       136\n",
    "\n",
    "            accuracy                         0.8099      6464\n",
    "           macro avg     0.5343    0.7662    0.5154      6464\n",
    "        weighted avg     0.9734    0.8099    0.8773      6464\n",
    "    ```\n",
    "    - **best f1 checkpoint:**\n",
    "    ```\n",
    "        Avg. precision:  0.15217500236398074\n",
    "        Classification Report:\n",
    "                      precision    recall  f1-score   support\n",
    "\n",
    "                 0.0     0.9930    0.8271    0.9025      6329\n",
    "                 1.0     0.0822    0.7259    0.1477       135\n",
    "\n",
    "            accuracy                         0.8250      6464\n",
    "           macro avg     0.5376    0.7765    0.5251      6464\n",
    "        weighted avg     0.9740    0.8250    0.8867      6464\n",
    "    ```\n",
    "    \n",
    "- ***w_feat:***\n",
    "    - **last checkpoint:**\n",
    "    ```\n",
    "        Avg. precision:  0.12910844453372206\n",
    "        Classification Report:\n",
    "                      precision    recall  f1-score   support\n",
    "\n",
    "                 0.0     0.9911    0.8110    0.8921      6328\n",
    "                 1.0     0.0700    0.6618    0.1266       136\n",
    "\n",
    "            accuracy                         0.8079      6464\n",
    "           macro avg     0.5306    0.7364    0.5093      6464\n",
    "        weighted avg     0.9717    0.8079    0.8760      6464\n",
    "    ```\n",
    "    \n",
    "    - **best f1 checkpoint:**\n",
    "    ```\n",
    "        Avg. precision:  0.12333415169590956\n",
    "        Classification Report:\n",
    "                      precision    recall  f1-score   support\n",
    "\n",
    "                 0.0     0.9912    0.8151    0.8946      6328\n",
    "                 1.0     0.0714    0.6618    0.1289       136\n",
    "\n",
    "            accuracy                         0.8119      6464\n",
    "           macro avg     0.5313    0.7384    0.5117      6464\n",
    "        weighted avg     0.9718    0.8119    0.8784      6464\n",
    "    ```\n",
    "\n"
   ]
  },
  {
   "cell_type": "code",
   "execution_count": 10,
   "metadata": {},
   "outputs": [],
   "source": [
    "# TODO: this is kept here just in case\n",
    "# optuna.logging.get_logger(\"optuna\").addHandler(logging.StreamHandler(sys.stdout))\n",
    "\n",
    "# needed for GridSampler\n",
    "# search_space = {\n",
    "#     'batch_size': [16, 32, 64],\n",
    "#     'pooling_strategy': ['last_four', 'last_four_sum', 'second_last'],\n",
    "# #     'should_scale_emb': [False, True],\n",
    "#     'dropout': [i/100 for i in range(0, 51, 5)],\n",
    "#     'hidden_dim': [128, 256, 512],\n",
    "#     'optimizer_weigth_decay': [i/10000 for i in range(11)],\n",
    "#     'learning_rate': round_to_first_non_zero([i/100000 for i in range_inc(0, 100000, 1, 10)]),\n",
    "#     'pos_weight': [1.0, train_uw_ratio]\n",
    "# }\n",
    "# feature_search_space = {\n",
    "#     'stopwords_type': ['wstop', 'wostop'],\n",
    "#     'from_selection': [True, False],\n",
    "#     'pos_feature_type': ['sum', 'onehot', 'none'],\n",
    "#     'tag_feature_type': ['sum', 'onehot', 'none'],\n",
    "#     'word_count_feature_type': ['count_words', 'none'],\n",
    "# #     'word_level_feature_type': ['dep', 'triplet']\n",
    "# }\n",
    "# # print(search_space)\n",
    "# params = {\n",
    "#     'batch_size': 32,\n",
    "#     'pooling_strategy': 'second_last',\n",
    "#     'dropout': 0.39,\n",
    "#     'hidden_dim': 256,\n",
    "#     'w_seq': True,\n",
    "#     'lr': 0.004118121,\n",
    "#     'opt_weight_decay': 0.024460049,\n",
    "#     'pos_weight': train_uw_ratio,\n",
    "# }"
   ]
  },
  {
   "cell_type": "code",
   "execution_count": null,
   "metadata": {},
   "outputs": [],
   "source": []
  }
 ],
 "metadata": {
  "interpreter": {
   "hash": "0566b9ebc7a58507829be3d77002d1a3a0910233c54c7888c127aa3b7af58774"
  },
  "kernelspec": {
   "display_name": "Python [conda env:root] *",
   "language": "python",
   "name": "conda-root-py"
  },
  "language_info": {
   "codemirror_mode": {
    "name": "ipython",
    "version": 3
   },
   "file_extension": ".py",
   "mimetype": "text/x-python",
   "name": "python",
   "nbconvert_exporter": "python",
   "pygments_lexer": "ipython3",
   "version": "3.7.4"
  }
 },
 "nbformat": 4,
 "nbformat_minor": 4
}
