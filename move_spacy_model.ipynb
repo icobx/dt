{
 "cells": [
  {
   "cell_type": "code",
   "execution_count": 1,
   "id": "c1bcbd0c-d930-42b7-b388-a135cf484fbd",
   "metadata": {},
   "outputs": [],
   "source": [
    "import spacy\n",
    "\n",
    "nlp = spacy.load('en_core_web_lg')\n",
    "nlp.to_disk('/home/jovyan/sharedstorage/s12b3v/dp/dt/spacy_models/en_core_web_lg')"
   ]
  },
  {
   "cell_type": "code",
   "execution_count": null,
   "id": "964ab029-db53-4688-8cc7-c83ae6d45387",
   "metadata": {},
   "outputs": [],
   "source": []
  }
 ],
 "metadata": {
  "kernelspec": {
   "display_name": "Python [conda env:root] *",
   "language": "python",
   "name": "conda-root-py"
  },
  "language_info": {
   "codemirror_mode": {
    "name": "ipython",
    "version": 3
   },
   "file_extension": ".py",
   "mimetype": "text/x-python",
   "name": "python",
   "nbconvert_exporter": "python",
   "pygments_lexer": "ipython3",
   "version": "3.7.4"
  }
 },
 "nbformat": 4,
 "nbformat_minor": 5
}
