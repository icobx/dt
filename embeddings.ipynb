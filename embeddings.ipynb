{
 "cells": [
  {
   "cell_type": "code",
   "execution_count": 3,
   "metadata": {},
   "outputs": [],
   "source": [
    "import os.path as p\n",
    "import pandas as pd\n",
    "\n",
    "from sentence_transformers import SentenceTransformer\n",
    "from definitions import *\n",
    "from dataset_helper_functions import *"
   ]
  },
  {
   "cell_type": "markdown",
   "metadata": {},
   "source": [
    "Load devset."
   ]
  },
  {
   "cell_type": "code",
   "execution_count": 7,
   "metadata": {},
   "outputs": [],
   "source": [
    "try:\n",
    "    IS_MASTER\n",
    "except: \n",
    "    IS_MASTER = False\n",
    "\n",
    "if not IS_MASTER:\n",
    "    # train_path = p.join(POLIT_dev_DIR_PATH, 'train')\n",
    "    dev_path = p.join(PROC_DATA_DIR_PATH, 'dev')\n",
    "    dev_tsv_path = p.join(dev_path, 'dev.tsv')\n",
    "    dev_pkl_path = p.join(dev_path, 'dev_spacy.pkl')\n",
    "\n",
    "    if p.exists(dev_pkl_path):\n",
    "        dev = pd.read_pickle(dev_pkl_path)\n",
    "    else:\n",
    "        if not p.exists(dev_tsv_path):\n",
    "            sample_development_set()\n",
    "\n",
    "        dev = pd.read_csv(dev_tsv_path, sep='\\t', index_col=False)"
   ]
  },
  {
   "cell_type": "markdown",
   "metadata": {},
   "source": []
  },
  {
   "cell_type": "code",
   "execution_count": 31,
   "metadata": {},
   "outputs": [],
   "source": [
    "embeddings_path = p.join(PROC_DATA_DIR_PATH, 'embeddings')\n",
    "if not p.exists(embeddings_path):\n",
    "    os.mkdir(embeddings_path)"
   ]
  },
  {
   "cell_type": "markdown",
   "metadata": {},
   "source": [
    "Load model.\n",
    "\n",
    "3 models to try:\n",
    "- `all-mpnet-base-v2`: best performance overall, slow\n",
    "- `multi-qa-mpnet-base-dot-v1`: tuned for semantic search, good performance, slow \n",
    "- `all-MiniLM-L6-v2`: smallest with moderately good performance, fast; **dev done with this due to it's speed**"
   ]
  },
  {
   "cell_type": "code",
   "execution_count": 11,
   "metadata": {},
   "outputs": [],
   "source": [
    "model_name = 'all-MiniLM-L6-v2'\n",
    "model = SentenceTransformer(model_name)"
   ]
  },
  {
   "cell_type": "markdown",
   "metadata": {},
   "source": [
    "Get sentences from devset.\n",
    "\n",
    "Models accept list of sentences to encode."
   ]
  },
  {
   "cell_type": "code",
   "execution_count": 14,
   "metadata": {},
   "outputs": [
    {
     "name": "stdout",
     "output_type": "stream",
     "text": [
      "(654, 384)\n",
      "(384,)\n"
     ]
    }
   ],
   "source": [
    "sentences = dev['content'].values\n",
    "embeddings = model.encode(sentences)"
   ]
  },
  {
   "cell_type": "markdown",
   "metadata": {},
   "source": [
    "Create devframe with sentences ids and embeddings and save it."
   ]
  },
  {
   "cell_type": "code",
   "execution_count": 37,
   "metadata": {},
   "outputs": [],
   "source": [
    "embeddings_df = dev.loc[:, ['id']].merge(pd.DataFrame(embeddings), left_index=True, right_index=True)\n",
    "\n",
    "embeddings_df.to_csv(p.join(embeddings_path, f'dev_emb_{model_name}.tsv'), sep='\\t', index=False)"
   ]
  }
 ],
 "metadata": {
  "interpreter": {
   "hash": "0566b9ebc7a58507829be3d77002d1a3a0910233c54c7888c127aa3b7af58774"
  },
  "kernelspec": {
   "display_name": "Python 3.9.7 ('venv_dp')",
   "language": "python",
   "name": "python3"
  },
  "language_info": {
   "codemirror_mode": {
    "name": "ipython",
    "version": 3
   },
   "file_extension": ".py",
   "mimetype": "text/x-python",
   "name": "python",
   "nbconvert_exporter": "python",
   "pygments_lexer": "ipython3",
   "version": "3.9.7"
  },
  "orig_nbformat": 4
 },
 "nbformat": 4,
 "nbformat_minor": 2
}
