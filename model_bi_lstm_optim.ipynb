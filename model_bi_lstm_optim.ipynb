{
   "cells": [
      {
         "cell_type": "code",
         "execution_count": 11,
         "metadata": {},
         "outputs": [],
         "source": [
            "import sys\n",
            "import logging\n",
            "import os.path as p\n",
            "import pandas as pd\n",
            "import numpy as np\n",
            "import torch\n",
            "import torch.nn as nn\n",
            "import torch.optim as optim\n",
            "import optuna\n",
            "import print_n_log\n",
            "\n",
            "from sklearn.metrics import classification_report, confusion_matrix\n",
            "from torch.utils.data.dataloader import DataLoader\n",
            "from definitions import *\n",
            "from model_helper_functions import *\n",
            "from dataset_helper_functions import *\n",
            "from bi_lstm import BiLSTM\n",
            "from bert_embedding_model import BertEmbeddingModel\n",
            "from debates_dataset import DebatesDataset\n",
            "from early_stopping import EarlyStopping\n",
            "from optuna.trial import TrialState\n",
            "from torchvision import transforms\n",
            "# my transforms\n",
            "from transforms import *"
         ]
      },
      {
         "cell_type": "code",
         "execution_count": 13,
         "metadata": {},
         "outputs": [],
         "source": [
            "data = {}\n",
            "optim_path = os.path.join(EXP_DIR_PATH, 'bi-lstm', 'optimization')\n",
            "device = torch.device('cuda' if torch.cuda.is_available() else 'cpu')\n",
            "train_uw_ratio = 0\n",
            "dataset_frac = 0.2\n",
            "worthy_frac = 0.2\n",
            "slf_dim = 0\n",
            "# stopwords_type = 'wstop'\n",
            "rs = 22"
         ]
      },
      {
         "cell_type": "markdown",
         "metadata": {},
         "source": [
            "Function for loading data."
         ]
      },
      {
         "cell_type": "code",
         "execution_count": 17,
         "metadata": {},
         "outputs": [
            {
               "name": "stdout",
               "output_type": "stream",
               "text": [
                  "11665\n",
                  "train p ratio:  0.028975567938276898\n",
                  "val p ratio:  0.026227822062226794\n",
                  "Empty DataFrame\n",
                  "Columns: [i, id, src, content, label]\n",
                  "Index: []\n"
               ]
            }
         ],
         "source": [
            "def load_data():\n",
            "    global data\n",
            "    dev_path = p.join(PROC_DATA_DIR_PATH, 'dev')\n",
            "\n",
            "    data_paths = {\n",
            "        'dev': [\n",
            "            p.join(dev_path, 'dev.tsv'),\n",
            "        ],\n",
            "        'test': [\n",
            "            p.join(POLIT_DATA_DIR_PATH, 'test', 'test_combined.tsv'),\n",
            "        ],\n",
            "        'train': [\n",
            "            p.join(POLIT_DATA_DIR_PATH, 'train', 'train_combined.tsv'),\n",
            "        ],\n",
            "        'val': [\n",
            "            p.join(POLIT_DATA_DIR_PATH, 'val', 'val_combined.tsv'),\n",
            "        ],\n",
            "    }\n",
            "\n",
            "    for dtype, dpaths in data_paths.items():\n",
            "        try:\n",
            "            data[dtype] = pd.read_csv(dpaths[0], sep='\\t', index_col=False)\n",
            "\n",
            "        except Exception as e:\n",
            "            print(e.args)\n",
            "            exit()\n",
            "\n"
         ]
      },
      {
         "cell_type": "code",
         "execution_count": 5,
         "metadata": {},
         "outputs": [],
         "source": [
            "# stopwords_type = 'wostop'\n",
            "# from_sel = True\n",
            "# transform_pipeline = transforms.Compose([\n",
            "#     HandleStopwords(stopwords=stopwords_type),\n",
            "#     NoTransform('pos', from_selection=from_sel, stopwords=stopwords_type),\n",
            "#     OneHot('tag', from_selection=from_sel, stopwords=stopwords_type),\n",
            "#     NoTransform(),\n",
            "#     ToBinary(6),\n",
            "#     ToTensor()\n",
            "# ])\n",
            "# dd = DebatesDataset(data=filter_by_length(data['train']), transform=transform_pipeline)\n",
            "# # dd = pad_features(dd)\n",
            "# # for ids, content, label, feature in dd:\n",
            "# #     print(content)\n",
            "# #     print(feature.size())\n",
            "# dl = DataLoader(dd, batch_size=32, shuffle=True, drop_last=True)\n",
            "\n",
            "# for ids, sentences, labels, features in dl:\n",
            "# #     print(features.size())\n",
            "#     pass\n",
            "# print('done')"
         ]
      },
      {
         "cell_type": "markdown",
         "metadata": {},
         "source": [
            "Datasets and DataLoaders, takes trial as input to be able to suggest values for variables."
         ]
      },
      {
         "cell_type": "code",
         "execution_count": 6,
         "metadata": {},
         "outputs": [],
         "source": [
            "def get_loaders(trial, stopwords_type):\n",
            "    global train_uw_ratio, slf_dim\n",
            "    # dev_df, test_df, train_df, val_df = data.values()\n",
            "    subsets = {}\n",
            "    for k, df in data.items():\n",
            "\n",
            "        n_subset = int(len(df)*dataset_frac)\n",
            "\n",
            "        worthy_df = df.loc[df['label'] == 1]\n",
            "        n_worthy = min(int(n_subset*worthy_frac), len(worthy_df))\n",
            "        worthy_df = worthy_df.sample(n=n_worthy, random_state=rs)\n",
            "\n",
            "        unworthy_df = df.loc[df['label'] == 0].sample(\n",
            "            n=n_subset-n_worthy,\n",
            "            random_state=rs\n",
            "        )\n",
            "        if k == 'train':\n",
            "            train_uw_ratio = len(unworthy_df) / len(worthy_df)\n",
            "        # sample(frac=1.0) -> shuffle\n",
            "        subsets[k] = worthy_df.append(unworthy_df).sample(frac=1.0, random_state=rs, ignore_index=True)\n",
            "    \n",
            "\n",
            "    transforms_map = {\n",
            "        'sum': Sum,\n",
            "        'onehot': OneHot,\n",
            "        'none': NoTransform\n",
            "    }\n",
            "    transforms_options = list(transforms_map.keys())\n",
            "    cw_map = {\n",
            "        'count_words': CountWords,\n",
            "        'none': NoTransform\n",
            "    }\n",
            "    cw_options = list(cw_map.keys())\n",
            "\n",
            "    from_sel = trial.suggest_categorical('from_selection', [True, False])\n",
            "\n",
            "    # trial.suggest_categorical returns one of the keys of transforms_map, which then return Transform or None\n",
            "    # if transform --> initialize\n",
            "    pos_feat = transforms_map[trial.suggest_categorical('pos_feature_type', transforms_options)]\n",
            "    pos_feat = pos_feat(\n",
            "        'pos', from_selection=from_sel, stopwords=stopwords_type\n",
            "    )\n",
            "\n",
            "    tag_feat = transforms_map[trial.suggest_categorical('tag_feature_type', transforms_options)]\n",
            "    tag_feat = tag_feat(\n",
            "        'tag', from_selection=from_sel, stopwords=stopwords_type\n",
            "    )\n",
            "\n",
            "    cw_feat = cw_map[trial.suggest_categorical('word_count_feature_type', cw_options)]\n",
            "    cw_feat = cw_feat()\n",
            "    \n",
            "    transform_pipeline = transforms.Compose([\n",
            "        HandleStopwords(stopwords=stopwords_type),\n",
            "        pos_feat,\n",
            "        tag_feat,\n",
            "        cw_feat,\n",
            "        ToBinary(6),\n",
            "        ToTensor()\n",
            "    ])\n",
            "    # transform_pipeline = None\n",
            "\n",
            "    train_dd = DebatesDataset(data=subsets['train'], transform=transform_pipeline)\n",
            "    val_dd = DebatesDataset(data=subsets['val'], transform=transform_pipeline)\n",
            "    test_dd = DebatesDataset(data=subsets['test'], transform=transform_pipeline)\n",
            "\n",
            "    slf_dim = train_dd[0][-1].size()[0]\n",
            "    # batch_size = trial.suggest_categorical('batch_size', [16, 32, 64])\n",
            "    batch_size = 32\n",
            "\n",
            "    train_loader = DataLoader(train_dd, batch_size=batch_size, shuffle=True, drop_last=True)\n",
            "    val_loader = DataLoader(val_dd, batch_size=batch_size, shuffle=True, drop_last=True)\n",
            "    test_loader = DataLoader(test_dd, batch_size=batch_size, shuffle=True, drop_last=True)\n",
            "\n",
            "    return train_loader, val_loader, test_loader"
         ]
      },
      {
         "cell_type": "markdown",
         "metadata": {},
         "source": [
            "Model setup + training loop"
         ]
      },
      {
         "cell_type": "code",
         "execution_count": 7,
         "metadata": {},
         "outputs": [],
         "source": [
            "def objective(trial):\n",
            "    global logf_path\n",
            "    # this is here so that it can be accessed here and in get_loaders()\n",
            "    stopwords_type = trial.suggest_categorical('stopwords_type', ['wstop', 'wostop'])\n",
            "\n",
            "    train_loader, val_loader, test_loader = get_loaders(trial, stopwords_type)\n",
            "\n",
            "    # hyperparams opt\n",
            "    # pooling_strategy = trial.suggest_categorical('pooling_strategy', ['last_four', 'last_four_sum', 'second_last'])\n",
            "    # dropout = trial.suggest_float('dropout', 0.0, 0.5, step=0.01)\n",
            "    # hidden_dim = trial.suggest_categorical('hidden_dim', [128, 256, 512])\n",
            "    # w_seq = trial.suggest_categorical('with_sequential_layer', [True, False])\n",
            "    # lr = trial.suggest_float('learning_rate', 1e-5, 1e-1, log=True)\n",
            "    # opt_weight_decay = trial.suggest_float('optimizer_weigth_decay', 1e-6, 0.1, log=True)\n",
            "    # pos_weight = trial.suggest_categorical('pos_weight', [1.0, train_uw_ratio])\n",
            "\n",
            "    # temp_best\n",
            "    pooling_strategy = 'second_last'\n",
            "    dropout = 0.39\n",
            "    hidden_dim = 256\n",
            "    w_seq = True\n",
            "    lr = 0.004118121\n",
            "    opt_weight_decay = 0.024460049\n",
            "    pos_weight = train_uw_ratio\n",
            "    \n",
            "\n",
            "    # should_scale_emb = trial.suggest_categorical('should_scale_emb', [True, False])\n",
            "#     pooling_strategy = 'second_last'\n",
            "\n",
            "    # TODO: test these as well\n",
            "    # remove_stopwords = stopwords_type != 'wstop'\n",
            "    # dep_feat = trial.suggest_categorical('word_level_dep_features', [True, False])\n",
            "    # triplet_feat = trial.suggest_categorical('word_level_triplet_features', [True, False])\n",
            "#     word_level_feat = trial.suggest_categorical('word_level_feature_type', ['dep', 'triplet'])\n",
            "    embedding_model = BertEmbeddingModel(\n",
            "        device=device,\n",
            "        pooling_strat=pooling_strategy,\n",
            "        scale=False,\n",
            "        dep_features=False,#word_level_feat == 'dep',\n",
            "        triplet_features=False,#word_level_feat == 'triplet',\n",
            "        remove_stopwords=False,#stopwords_type == 'wostop'\n",
            "    )\n",
            "    \n",
            "#     lstm dropout only works with multiple lstm layers\n",
            "#     lstm_dropout = trial.suggest_float('lstm_dropout', 0.0, 0.3, step=0.05)\n",
            "#     dropout = 0.4\n",
            "#     lstm_dropout = 0.0\n",
            "#     hidden_dim = 128\n",
            "    model = BiLSTM(\n",
            "        dropout=dropout,\n",
            "        hidden_dim=hidden_dim,\n",
            "        embedding_dim=embedding_model.dim,\n",
            "        sent_level_feature_dim=slf_dim,\n",
            "        device=device,\n",
            "        w_seq=w_seq,\n",
            "    ).to(device)    \n",
            "\n",
            "#     lr = 0.001\n",
            "#     opt_weight_decay = 0\n",
            "    optimizer = optim.Adam(model.parameters(), lr=lr, weight_decay=opt_weight_decay)\n",
            "\n",
            "#     pos_weight = train_uw_ratio\n",
            "    criterion = nn.BCEWithLogitsLoss(pos_weight=torch.tensor([pos_weight]).to(device))\n",
            "\n",
            "    n_epochs = 16\n",
            "    threshold = 0.5\n",
            "    early_stopping = EarlyStopping(\n",
            "        patience=5,\n",
            "        path=None,\n",
            "        verbose=False,\n",
            "        trace_func=print_n_log.run('early_stopping', logf_path, 'DEBUG')\n",
            "    )\n",
            "    \n",
            "    # training\n",
            "    for epoch in range(n_epochs):\n",
            "        print(epoch)\n",
            "        losses, val_losses = [], []\n",
            "\n",
            "        model.train()\n",
            "        for ids, sentences, labels, features in train_loader:\n",
            "            labels = labels.float().to(device)\n",
            "            features = features.to(device)\n",
            "            \n",
            "            embeddings, lengths = embedding_model(sentences)\n",
            "            output = model(embeddings, lengths, sent_level_features=features)\n",
            "            loss = criterion(output, labels)\n",
            "            \n",
            "            loss.backward()\n",
            "            losses.append(loss.item())\n",
            "\n",
            "            optimizer.step()\n",
            "            optimizer.zero_grad()\n",
            "\n",
            "        model.eval()\n",
            "        y_pred, y_true = [], []\n",
            "        with torch.no_grad():\n",
            "            for val_ids, val_sentences, val_labels, val_features in val_loader:\n",
            "                val_labels = val_labels.float().to(device)\n",
            "                val_features = val_features.to(device)\n",
            "                \n",
            "                val_embeddings, val_lengths = embedding_model(val_sentences)\n",
            "                pred = model(val_embeddings, val_lengths, sent_level_features=val_features)\n",
            "                val_loss = criterion(pred, val_labels)\n",
            "                val_losses.append(val_loss.item())\n",
            "                \n",
            "                pred = torch.sigmoid(pred)\n",
            "                \n",
            "                pred = (pred > threshold).int()\n",
            "                y_pred.extend(pred.tolist())\n",
            "                y_true.extend(val_labels.tolist())\n",
            "        \n",
            "#         print('epoch: ', epoch)\n",
            "#         print('avg train loss: ', sum(losses) / len(losses))\n",
            "#         print('avg val loss: ', sum(val_losses) / len(val_losses))\n",
            "#         print(classification_report(y_true, y_pred, digits=6))\n",
            "        cr = classification_report(y_true, y_pred, digits=6, output_dict=True, zero_division=0)\n",
            "        \n",
            "        val_loss = np.average(val_losses)\n",
            "        early_stopping(val_loss, model, acomp_metrics={'recall_p': cr['1.0']['recall']})\n",
            "        \n",
            "        if early_stopping.early_stop:\n",
            "            break\n",
            "\n",
            "#         trial.report(recall_p, epoch)\n",
            "\n",
            "#         # Handle pruning based on the intermediate value.\n",
            "#         if trial.should_prune():\n",
            "#             raise optuna.exceptions.TrialPruned()\n",
            "    recall_p = early_stopping.acomp_metrics['recall_p'] if early_stopping.acomp_metrics else 0.0\n",
            "    \"Done.\"\n",
            "    return recall_p"
         ]
      },
      {
         "cell_type": "code",
         "execution_count": 8,
         "metadata": {},
         "outputs": [],
         "source": [
            "load_data()"
         ]
      },
      {
         "cell_type": "code",
         "execution_count": 9,
         "metadata": {},
         "outputs": [
            {
               "name": "stderr",
               "output_type": "stream",
               "text": [
                  "\u001b[32m[I 2022-03-27 14:03:06,423]\u001b[0m A new study created in memory with name: bi-lstm_featOptim_wAtt_sTPE_pNone_df0.2_wf0.2\u001b[0m\n"
               ]
            },
            {
               "name": "stdout",
               "output_type": "stream",
               "text": [
                  "49\n"
               ]
            },
            {
               "name": "stderr",
               "output_type": "stream",
               "text": [
                  "[nltk_data] Downloading package punkt to /home/jovyan/nltk_data...\n",
                  "[nltk_data]   Package punkt is already up-to-date!\n",
                  "Some weights of the model checkpoint at bert-base-uncased were not used when initializing BertModel: ['cls.predictions.transform.dense.weight', 'cls.predictions.bias', 'cls.predictions.transform.dense.bias', 'cls.seq_relationship.weight', 'cls.predictions.decoder.weight', 'cls.seq_relationship.bias', 'cls.predictions.transform.LayerNorm.weight', 'cls.predictions.transform.LayerNorm.bias']\n",
                  "- This IS expected if you are initializing BertModel from the checkpoint of a model trained on another task or with another architecture (e.g. initializing a BertForSequenceClassification model from a BertForPreTraining model).\n",
                  "- This IS NOT expected if you are initializing BertModel from the checkpoint of a model that you expect to be exactly identical (initializing a BertForSequenceClassification model from a BertForSequenceClassification model).\n",
                  "[nltk_data] Downloading package punkt to /home/jovyan/nltk_data...\n",
                  "[nltk_data]   Package punkt is already up-to-date!\n"
               ]
            },
            {
               "name": "stdout",
               "output_type": "stream",
               "text": [
                  "0\n",
                  "1\n",
                  "2\n",
                  "3\n",
                  "4\n",
                  "5\n",
                  "6\n",
                  "7\n",
                  "8\n",
                  "9\n",
                  "10\n",
                  "11\n",
                  "12\n",
                  "13\n",
                  "14\n",
                  "15\n"
               ]
            },
            {
               "name": "stderr",
               "output_type": "stream",
               "text": [
                  "\u001b[32m[I 2022-03-27 14:12:28,267]\u001b[0m Trial 0 finished with value: 0.71 and parameters: {'stopwords_type': 'wstop', 'from_selection': False, 'pos_feature_type': 'none', 'tag_feature_type': 'onehot', 'word_count_feature_type': 'none'}. Best is trial 0 with value: 0.71.\u001b[0m\n",
                  "[nltk_data] Downloading package punkt to /home/jovyan/nltk_data...\n",
                  "[nltk_data]   Package punkt is already up-to-date!\n",
                  "Some weights of the model checkpoint at bert-base-uncased were not used when initializing BertModel: ['cls.predictions.transform.dense.weight', 'cls.predictions.bias', 'cls.predictions.transform.dense.bias', 'cls.seq_relationship.weight', 'cls.predictions.decoder.weight', 'cls.seq_relationship.bias', 'cls.predictions.transform.LayerNorm.weight', 'cls.predictions.transform.LayerNorm.bias']\n",
                  "- This IS expected if you are initializing BertModel from the checkpoint of a model trained on another task or with another architecture (e.g. initializing a BertForSequenceClassification model from a BertForPreTraining model).\n",
                  "- This IS NOT expected if you are initializing BertModel from the checkpoint of a model that you expect to be exactly identical (initializing a BertForSequenceClassification model from a BertForSequenceClassification model).\n",
                  "[nltk_data] Downloading package punkt to /home/jovyan/nltk_data...\n",
                  "[nltk_data]   Package punkt is already up-to-date!\n"
               ]
            },
            {
               "name": "stdout",
               "output_type": "stream",
               "text": [
                  "0\n",
                  "1\n",
                  "2\n",
                  "3\n",
                  "4\n",
                  "5\n",
                  "6\n",
                  "7\n",
                  "8\n",
                  "9\n",
                  "10\n",
                  "11\n",
                  "12\n",
                  "13\n"
               ]
            },
            {
               "name": "stderr",
               "output_type": "stream",
               "text": [
                  "\u001b[32m[I 2022-03-27 14:20:37,681]\u001b[0m Trial 1 finished with value: 0.7128712871287128 and parameters: {'stopwords_type': 'wostop', 'from_selection': True, 'pos_feature_type': 'sum', 'tag_feature_type': 'sum', 'word_count_feature_type': 'none'}. Best is trial 1 with value: 0.7128712871287128.\u001b[0m\n",
                  "[nltk_data] Downloading package punkt to /home/jovyan/nltk_data...\n",
                  "[nltk_data]   Package punkt is already up-to-date!\n",
                  "Some weights of the model checkpoint at bert-base-uncased were not used when initializing BertModel: ['cls.predictions.transform.dense.weight', 'cls.predictions.bias', 'cls.predictions.transform.dense.bias', 'cls.seq_relationship.weight', 'cls.predictions.decoder.weight', 'cls.seq_relationship.bias', 'cls.predictions.transform.LayerNorm.weight', 'cls.predictions.transform.LayerNorm.bias']\n",
                  "- This IS expected if you are initializing BertModel from the checkpoint of a model trained on another task or with another architecture (e.g. initializing a BertForSequenceClassification model from a BertForPreTraining model).\n",
                  "- This IS NOT expected if you are initializing BertModel from the checkpoint of a model that you expect to be exactly identical (initializing a BertForSequenceClassification model from a BertForSequenceClassification model).\n",
                  "[nltk_data] Downloading package punkt to /home/jovyan/nltk_data...\n",
                  "[nltk_data]   Package punkt is already up-to-date!\n"
               ]
            },
            {
               "name": "stdout",
               "output_type": "stream",
               "text": [
                  "0\n",
                  "1\n",
                  "2\n",
                  "3\n",
                  "4\n",
                  "5\n",
                  "6\n",
                  "7\n",
                  "8\n",
                  "9\n",
                  "10\n",
                  "11\n",
                  "12\n",
                  "13\n",
                  "14\n",
                  "15\n"
               ]
            },
            {
               "name": "stderr",
               "output_type": "stream",
               "text": [
                  "\u001b[32m[I 2022-03-27 14:29:25,415]\u001b[0m Trial 2 finished with value: 0.7623762376237624 and parameters: {'stopwords_type': 'wostop', 'from_selection': True, 'pos_feature_type': 'sum', 'tag_feature_type': 'none', 'word_count_feature_type': 'count_words'}. Best is trial 2 with value: 0.7623762376237624.\u001b[0m\n"
               ]
            },
            {
               "name": "stdout",
               "output_type": "stream",
               "text": [
                  "4\n"
               ]
            },
            {
               "name": "stderr",
               "output_type": "stream",
               "text": [
                  "[nltk_data] Downloading package punkt to /home/jovyan/nltk_data...\n",
                  "[nltk_data]   Package punkt is already up-to-date!\n",
                  "Some weights of the model checkpoint at bert-base-uncased were not used when initializing BertModel: ['cls.predictions.transform.dense.weight', 'cls.predictions.bias', 'cls.predictions.transform.dense.bias', 'cls.seq_relationship.weight', 'cls.predictions.decoder.weight', 'cls.seq_relationship.bias', 'cls.predictions.transform.LayerNorm.weight', 'cls.predictions.transform.LayerNorm.bias']\n",
                  "- This IS expected if you are initializing BertModel from the checkpoint of a model trained on another task or with another architecture (e.g. initializing a BertForSequenceClassification model from a BertForPreTraining model).\n",
                  "- This IS NOT expected if you are initializing BertModel from the checkpoint of a model that you expect to be exactly identical (initializing a BertForSequenceClassification model from a BertForSequenceClassification model).\n",
                  "[nltk_data] Downloading package punkt to /home/jovyan/nltk_data...\n",
                  "[nltk_data]   Package punkt is already up-to-date!\n"
               ]
            },
            {
               "name": "stdout",
               "output_type": "stream",
               "text": [
                  "0\n",
                  "1\n",
                  "2\n",
                  "3\n",
                  "4\n",
                  "5\n",
                  "6\n",
                  "7\n",
                  "8\n",
                  "9\n",
                  "10\n"
               ]
            },
            {
               "name": "stderr",
               "output_type": "stream",
               "text": [
                  "\u001b[32m[I 2022-03-27 14:36:12,044]\u001b[0m Trial 3 finished with value: 0.673469387755102 and parameters: {'stopwords_type': 'wstop', 'from_selection': True, 'pos_feature_type': 'onehot', 'tag_feature_type': 'sum', 'word_count_feature_type': 'count_words'}. Best is trial 2 with value: 0.7623762376237624.\u001b[0m\n"
               ]
            },
            {
               "name": "stdout",
               "output_type": "stream",
               "text": [
                  "4\n"
               ]
            },
            {
               "name": "stderr",
               "output_type": "stream",
               "text": [
                  "[nltk_data] Downloading package punkt to /home/jovyan/nltk_data...\n",
                  "[nltk_data]   Package punkt is already up-to-date!\n",
                  "Some weights of the model checkpoint at bert-base-uncased were not used when initializing BertModel: ['cls.predictions.transform.dense.weight', 'cls.predictions.bias', 'cls.predictions.transform.dense.bias', 'cls.seq_relationship.weight', 'cls.predictions.decoder.weight', 'cls.seq_relationship.bias', 'cls.predictions.transform.LayerNorm.weight', 'cls.predictions.transform.LayerNorm.bias']\n",
                  "- This IS expected if you are initializing BertModel from the checkpoint of a model trained on another task or with another architecture (e.g. initializing a BertForSequenceClassification model from a BertForPreTraining model).\n",
                  "- This IS NOT expected if you are initializing BertModel from the checkpoint of a model that you expect to be exactly identical (initializing a BertForSequenceClassification model from a BertForSequenceClassification model).\n",
                  "[nltk_data] Downloading package punkt to /home/jovyan/nltk_data...\n",
                  "[nltk_data]   Package punkt is already up-to-date!\n"
               ]
            },
            {
               "name": "stdout",
               "output_type": "stream",
               "text": [
                  "0\n",
                  "1\n",
                  "2\n",
                  "3\n",
                  "4\n",
                  "5\n",
                  "6\n",
                  "7\n",
                  "8\n",
                  "9\n"
               ]
            },
            {
               "name": "stderr",
               "output_type": "stream",
               "text": [
                  "\u001b[32m[I 2022-03-27 14:42:13,622]\u001b[0m Trial 4 finished with value: 0.7254901960784313 and parameters: {'stopwords_type': 'wstop', 'from_selection': True, 'pos_feature_type': 'onehot', 'tag_feature_type': 'none', 'word_count_feature_type': 'count_words'}. Best is trial 2 with value: 0.7623762376237624.\u001b[0m\n",
                  "[nltk_data] Downloading package punkt to /home/jovyan/nltk_data...\n",
                  "[nltk_data]   Package punkt is already up-to-date!\n",
                  "Some weights of the model checkpoint at bert-base-uncased were not used when initializing BertModel: ['cls.predictions.transform.dense.weight', 'cls.predictions.bias', 'cls.predictions.transform.dense.bias', 'cls.seq_relationship.weight', 'cls.predictions.decoder.weight', 'cls.seq_relationship.bias', 'cls.predictions.transform.LayerNorm.weight', 'cls.predictions.transform.LayerNorm.bias']\n",
                  "- This IS expected if you are initializing BertModel from the checkpoint of a model trained on another task or with another architecture (e.g. initializing a BertForSequenceClassification model from a BertForPreTraining model).\n",
                  "- This IS NOT expected if you are initializing BertModel from the checkpoint of a model that you expect to be exactly identical (initializing a BertForSequenceClassification model from a BertForSequenceClassification model).\n",
                  "[nltk_data] Downloading package punkt to /home/jovyan/nltk_data...\n",
                  "[nltk_data]   Package punkt is already up-to-date!\n"
               ]
            },
            {
               "name": "stdout",
               "output_type": "stream",
               "text": [
                  "0\n",
                  "1\n",
                  "2\n",
                  "3\n",
                  "4\n",
                  "5\n",
                  "6\n",
                  "7\n",
                  "8\n",
                  "9\n"
               ]
            },
            {
               "name": "stderr",
               "output_type": "stream",
               "text": [
                  "\u001b[32m[I 2022-03-27 14:48:24,515]\u001b[0m Trial 5 finished with value: 0.693069306930693 and parameters: {'stopwords_type': 'wstop', 'from_selection': True, 'pos_feature_type': 'sum', 'tag_feature_type': 'sum', 'word_count_feature_type': 'none'}. Best is trial 2 with value: 0.7623762376237624.\u001b[0m\n"
               ]
            },
            {
               "name": "stdout",
               "output_type": "stream",
               "text": [
                  "49\n"
               ]
            },
            {
               "name": "stderr",
               "output_type": "stream",
               "text": [
                  "[nltk_data] Downloading package punkt to /home/jovyan/nltk_data...\n",
                  "[nltk_data]   Package punkt is already up-to-date!\n",
                  "Some weights of the model checkpoint at bert-base-uncased were not used when initializing BertModel: ['cls.predictions.transform.dense.weight', 'cls.predictions.bias', 'cls.predictions.transform.dense.bias', 'cls.seq_relationship.weight', 'cls.predictions.decoder.weight', 'cls.seq_relationship.bias', 'cls.predictions.transform.LayerNorm.weight', 'cls.predictions.transform.LayerNorm.bias']\n",
                  "- This IS expected if you are initializing BertModel from the checkpoint of a model trained on another task or with another architecture (e.g. initializing a BertForSequenceClassification model from a BertForPreTraining model).\n",
                  "- This IS NOT expected if you are initializing BertModel from the checkpoint of a model that you expect to be exactly identical (initializing a BertForSequenceClassification model from a BertForSequenceClassification model).\n",
                  "[nltk_data] Downloading package punkt to /home/jovyan/nltk_data...\n",
                  "[nltk_data]   Package punkt is already up-to-date!\n"
               ]
            },
            {
               "name": "stdout",
               "output_type": "stream",
               "text": [
                  "0\n",
                  "1\n",
                  "2\n",
                  "3\n",
                  "4\n",
                  "5\n",
                  "6\n",
                  "7\n",
                  "8\n",
                  "9\n"
               ]
            },
            {
               "name": "stderr",
               "output_type": "stream",
               "text": [
                  "\u001b[32m[I 2022-03-27 14:54:38,855]\u001b[0m Trial 6 finished with value: 0.51 and parameters: {'stopwords_type': 'wstop', 'from_selection': False, 'pos_feature_type': 'sum', 'tag_feature_type': 'onehot', 'word_count_feature_type': 'count_words'}. Best is trial 2 with value: 0.7623762376237624.\u001b[0m\n"
               ]
            },
            {
               "name": "stdout",
               "output_type": "stream",
               "text": [
                  "19\n"
               ]
            },
            {
               "name": "stderr",
               "output_type": "stream",
               "text": [
                  "[nltk_data] Downloading package punkt to /home/jovyan/nltk_data...\n",
                  "[nltk_data]   Package punkt is already up-to-date!\n",
                  "Some weights of the model checkpoint at bert-base-uncased were not used when initializing BertModel: ['cls.predictions.transform.dense.weight', 'cls.predictions.bias', 'cls.predictions.transform.dense.bias', 'cls.seq_relationship.weight', 'cls.predictions.decoder.weight', 'cls.seq_relationship.bias', 'cls.predictions.transform.LayerNorm.weight', 'cls.predictions.transform.LayerNorm.bias']\n",
                  "- This IS expected if you are initializing BertModel from the checkpoint of a model trained on another task or with another architecture (e.g. initializing a BertForSequenceClassification model from a BertForPreTraining model).\n",
                  "- This IS NOT expected if you are initializing BertModel from the checkpoint of a model that you expect to be exactly identical (initializing a BertForSequenceClassification model from a BertForSequenceClassification model).\n",
                  "[nltk_data] Downloading package punkt to /home/jovyan/nltk_data...\n",
                  "[nltk_data]   Package punkt is already up-to-date!\n"
               ]
            },
            {
               "name": "stdout",
               "output_type": "stream",
               "text": [
                  "0\n",
                  "1\n",
                  "2\n",
                  "3\n",
                  "4\n",
                  "5\n",
                  "6\n"
               ]
            },
            {
               "name": "stderr",
               "output_type": "stream",
               "text": [
                  "\u001b[32m[I 2022-03-27 14:58:54,115]\u001b[0m Trial 7 finished with value: 0.7326732673267327 and parameters: {'stopwords_type': 'wstop', 'from_selection': False, 'pos_feature_type': 'onehot', 'tag_feature_type': 'none', 'word_count_feature_type': 'none'}. Best is trial 2 with value: 0.7623762376237624.\u001b[0m\n"
               ]
            },
            {
               "name": "stdout",
               "output_type": "stream",
               "text": [
                  "19\n"
               ]
            },
            {
               "name": "stderr",
               "output_type": "stream",
               "text": [
                  "[nltk_data] Downloading package punkt to /home/jovyan/nltk_data...\n",
                  "[nltk_data]   Package punkt is already up-to-date!\n",
                  "Some weights of the model checkpoint at bert-base-uncased were not used when initializing BertModel: ['cls.predictions.transform.dense.weight', 'cls.predictions.bias', 'cls.predictions.transform.dense.bias', 'cls.seq_relationship.weight', 'cls.predictions.decoder.weight', 'cls.seq_relationship.bias', 'cls.predictions.transform.LayerNorm.weight', 'cls.predictions.transform.LayerNorm.bias']\n",
                  "- This IS expected if you are initializing BertModel from the checkpoint of a model trained on another task or with another architecture (e.g. initializing a BertForSequenceClassification model from a BertForPreTraining model).\n",
                  "- This IS NOT expected if you are initializing BertModel from the checkpoint of a model that you expect to be exactly identical (initializing a BertForSequenceClassification model from a BertForSequenceClassification model).\n",
                  "[nltk_data] Downloading package punkt to /home/jovyan/nltk_data...\n",
                  "[nltk_data]   Package punkt is already up-to-date!\n"
               ]
            },
            {
               "name": "stdout",
               "output_type": "stream",
               "text": [
                  "0\n",
                  "1\n",
                  "2\n",
                  "3\n",
                  "4\n",
                  "5\n"
               ]
            },
            {
               "name": "stderr",
               "output_type": "stream",
               "text": [
                  "\u001b[32m[I 2022-03-27 15:02:24,077]\u001b[0m Trial 8 finished with value: 0.7524752475247525 and parameters: {'stopwords_type': 'wostop', 'from_selection': False, 'pos_feature_type': 'onehot', 'tag_feature_type': 'none', 'word_count_feature_type': 'none'}. Best is trial 2 with value: 0.7623762376237624.\u001b[0m\n",
                  "[nltk_data] Downloading package punkt to /home/jovyan/nltk_data...\n",
                  "[nltk_data]   Package punkt is already up-to-date!\n",
                  "Some weights of the model checkpoint at bert-base-uncased were not used when initializing BertModel: ['cls.predictions.transform.dense.weight', 'cls.predictions.bias', 'cls.predictions.transform.dense.bias', 'cls.seq_relationship.weight', 'cls.predictions.decoder.weight', 'cls.seq_relationship.bias', 'cls.predictions.transform.LayerNorm.weight', 'cls.predictions.transform.LayerNorm.bias']\n",
                  "- This IS expected if you are initializing BertModel from the checkpoint of a model trained on another task or with another architecture (e.g. initializing a BertForSequenceClassification model from a BertForPreTraining model).\n",
                  "- This IS NOT expected if you are initializing BertModel from the checkpoint of a model that you expect to be exactly identical (initializing a BertForSequenceClassification model from a BertForSequenceClassification model).\n",
                  "[nltk_data] Downloading package punkt to /home/jovyan/nltk_data...\n",
                  "[nltk_data]   Package punkt is already up-to-date!\n"
               ]
            },
            {
               "name": "stdout",
               "output_type": "stream",
               "text": [
                  "0\n",
                  "1\n",
                  "2\n",
                  "3\n",
                  "4\n",
                  "5\n",
                  "6\n",
                  "7\n",
                  "8\n"
               ]
            },
            {
               "name": "stderr",
               "output_type": "stream",
               "text": [
                  "\u001b[32m[I 2022-03-27 15:07:30,363]\u001b[0m Trial 9 finished with value: 0.7745098039215687 and parameters: {'stopwords_type': 'wostop', 'from_selection': True, 'pos_feature_type': 'none', 'tag_feature_type': 'sum', 'word_count_feature_type': 'count_words'}. Best is trial 9 with value: 0.7745098039215687.\u001b[0m\n"
               ]
            },
            {
               "name": "stdout",
               "output_type": "stream",
               "text": [
                  "6\n"
               ]
            },
            {
               "name": "stderr",
               "output_type": "stream",
               "text": [
                  "[nltk_data] Downloading package punkt to /home/jovyan/nltk_data...\n",
                  "[nltk_data]   Package punkt is already up-to-date!\n",
                  "Some weights of the model checkpoint at bert-base-uncased were not used when initializing BertModel: ['cls.predictions.transform.dense.weight', 'cls.predictions.bias', 'cls.predictions.transform.dense.bias', 'cls.seq_relationship.weight', 'cls.predictions.decoder.weight', 'cls.seq_relationship.bias', 'cls.predictions.transform.LayerNorm.weight', 'cls.predictions.transform.LayerNorm.bias']\n",
                  "- This IS expected if you are initializing BertModel from the checkpoint of a model trained on another task or with another architecture (e.g. initializing a BertForSequenceClassification model from a BertForPreTraining model).\n",
                  "- This IS NOT expected if you are initializing BertModel from the checkpoint of a model that you expect to be exactly identical (initializing a BertForSequenceClassification model from a BertForSequenceClassification model).\n",
                  "[nltk_data] Downloading package punkt to /home/jovyan/nltk_data...\n",
                  "[nltk_data]   Package punkt is already up-to-date!\n"
               ]
            },
            {
               "name": "stdout",
               "output_type": "stream",
               "text": [
                  "0\n",
                  "1\n",
                  "2\n",
                  "3\n",
                  "4\n",
                  "5\n",
                  "6\n",
                  "7\n",
                  "8\n",
                  "9\n",
                  "10\n",
                  "11\n",
                  "12\n"
               ]
            },
            {
               "name": "stderr",
               "output_type": "stream",
               "text": [
                  "\u001b[32m[I 2022-03-27 15:15:04,974]\u001b[0m Trial 10 finished with value: 0.56 and parameters: {'stopwords_type': 'wstop', 'from_selection': True, 'pos_feature_type': 'none', 'tag_feature_type': 'onehot', 'word_count_feature_type': 'count_words'}. Best is trial 9 with value: 0.7745098039215687.\u001b[0m\n"
               ]
            },
            {
               "name": "stdout",
               "output_type": "stream",
               "text": [
                  "4\n",
                  "6\n"
               ]
            },
            {
               "name": "stderr",
               "output_type": "stream",
               "text": [
                  "[nltk_data] Downloading package punkt to /home/jovyan/nltk_data...\n",
                  "[nltk_data]   Package punkt is already up-to-date!\n",
                  "Some weights of the model checkpoint at bert-base-uncased were not used when initializing BertModel: ['cls.predictions.transform.dense.weight', 'cls.predictions.bias', 'cls.predictions.transform.dense.bias', 'cls.seq_relationship.weight', 'cls.predictions.decoder.weight', 'cls.seq_relationship.bias', 'cls.predictions.transform.LayerNorm.weight', 'cls.predictions.transform.LayerNorm.bias']\n",
                  "- This IS expected if you are initializing BertModel from the checkpoint of a model trained on another task or with another architecture (e.g. initializing a BertForSequenceClassification model from a BertForPreTraining model).\n",
                  "- This IS NOT expected if you are initializing BertModel from the checkpoint of a model that you expect to be exactly identical (initializing a BertForSequenceClassification model from a BertForSequenceClassification model).\n",
                  "[nltk_data] Downloading package punkt to /home/jovyan/nltk_data...\n",
                  "[nltk_data]   Package punkt is already up-to-date!\n"
               ]
            },
            {
               "name": "stdout",
               "output_type": "stream",
               "text": [
                  "0\n",
                  "1\n",
                  "2\n",
                  "3\n",
                  "4\n",
                  "5\n",
                  "6\n"
               ]
            },
            {
               "name": "stderr",
               "output_type": "stream",
               "text": [
                  "\u001b[32m[I 2022-03-27 15:19:33,888]\u001b[0m Trial 11 finished with value: 0.6666666666666666 and parameters: {'stopwords_type': 'wstop', 'from_selection': True, 'pos_feature_type': 'onehot', 'tag_feature_type': 'onehot', 'word_count_feature_type': 'none'}. Best is trial 9 with value: 0.7745098039215687.\u001b[0m\n"
               ]
            },
            {
               "name": "stdout",
               "output_type": "stream",
               "text": [
                  "2\n"
               ]
            },
            {
               "name": "stderr",
               "output_type": "stream",
               "text": [
                  "[nltk_data] Downloading package punkt to /home/jovyan/nltk_data...\n",
                  "[nltk_data]   Package punkt is already up-to-date!\n",
                  "Some weights of the model checkpoint at bert-base-uncased were not used when initializing BertModel: ['cls.predictions.transform.dense.weight', 'cls.predictions.bias', 'cls.predictions.transform.dense.bias', 'cls.seq_relationship.weight', 'cls.predictions.decoder.weight', 'cls.seq_relationship.bias', 'cls.predictions.transform.LayerNorm.weight', 'cls.predictions.transform.LayerNorm.bias']\n",
                  "- This IS expected if you are initializing BertModel from the checkpoint of a model trained on another task or with another architecture (e.g. initializing a BertForSequenceClassification model from a BertForPreTraining model).\n",
                  "- This IS NOT expected if you are initializing BertModel from the checkpoint of a model that you expect to be exactly identical (initializing a BertForSequenceClassification model from a BertForSequenceClassification model).\n",
                  "[nltk_data] Downloading package punkt to /home/jovyan/nltk_data...\n",
                  "[nltk_data]   Package punkt is already up-to-date!\n"
               ]
            },
            {
               "name": "stdout",
               "output_type": "stream",
               "text": [
                  "0\n",
                  "1\n",
                  "2\n",
                  "3\n",
                  "4\n",
                  "5\n",
                  "6\n",
                  "7\n",
                  "8\n",
                  "9\n",
                  "10\n",
                  "11\n",
                  "12\n",
                  "13\n"
               ]
            },
            {
               "name": "stderr",
               "output_type": "stream",
               "text": [
                  "\u001b[32m[I 2022-03-27 15:27:41,477]\u001b[0m Trial 12 finished with value: 0.7227722772277227 and parameters: {'stopwords_type': 'wostop', 'from_selection': True, 'pos_feature_type': 'sum', 'tag_feature_type': 'onehot', 'word_count_feature_type': 'none'}. Best is trial 9 with value: 0.7745098039215687.\u001b[0m\n"
               ]
            },
            {
               "name": "stdout",
               "output_type": "stream",
               "text": [
                  "4\n"
               ]
            },
            {
               "name": "stderr",
               "output_type": "stream",
               "text": [
                  "[nltk_data] Downloading package punkt to /home/jovyan/nltk_data...\n",
                  "[nltk_data]   Package punkt is already up-to-date!\n",
                  "Some weights of the model checkpoint at bert-base-uncased were not used when initializing BertModel: ['cls.predictions.transform.dense.weight', 'cls.predictions.bias', 'cls.predictions.transform.dense.bias', 'cls.seq_relationship.weight', 'cls.predictions.decoder.weight', 'cls.seq_relationship.bias', 'cls.predictions.transform.LayerNorm.weight', 'cls.predictions.transform.LayerNorm.bias']\n",
                  "- This IS expected if you are initializing BertModel from the checkpoint of a model trained on another task or with another architecture (e.g. initializing a BertForSequenceClassification model from a BertForPreTraining model).\n",
                  "- This IS NOT expected if you are initializing BertModel from the checkpoint of a model that you expect to be exactly identical (initializing a BertForSequenceClassification model from a BertForSequenceClassification model).\n",
                  "[nltk_data] Downloading package punkt to /home/jovyan/nltk_data...\n",
                  "[nltk_data]   Package punkt is already up-to-date!\n"
               ]
            },
            {
               "name": "stdout",
               "output_type": "stream",
               "text": [
                  "0\n",
                  "1\n",
                  "2\n",
                  "3\n",
                  "4\n",
                  "5\n",
                  "6\n",
                  "7\n",
                  "8\n",
                  "9\n",
                  "10\n",
                  "11\n",
                  "12\n"
               ]
            },
            {
               "name": "stderr",
               "output_type": "stream",
               "text": [
                  "\u001b[32m[I 2022-03-27 15:35:14,913]\u001b[0m Trial 13 finished with value: 0.696969696969697 and parameters: {'stopwords_type': 'wstop', 'from_selection': True, 'pos_feature_type': 'onehot', 'tag_feature_type': 'none', 'word_count_feature_type': 'none'}. Best is trial 9 with value: 0.7745098039215687.\u001b[0m\n"
               ]
            },
            {
               "name": "stdout",
               "output_type": "stream",
               "text": [
                  "2\n"
               ]
            },
            {
               "name": "stderr",
               "output_type": "stream",
               "text": [
                  "[nltk_data] Downloading package punkt to /home/jovyan/nltk_data...\n",
                  "[nltk_data]   Package punkt is already up-to-date!\n",
                  "Some weights of the model checkpoint at bert-base-uncased were not used when initializing BertModel: ['cls.predictions.transform.dense.weight', 'cls.predictions.bias', 'cls.predictions.transform.dense.bias', 'cls.seq_relationship.weight', 'cls.predictions.decoder.weight', 'cls.seq_relationship.bias', 'cls.predictions.transform.LayerNorm.weight', 'cls.predictions.transform.LayerNorm.bias']\n",
                  "- This IS expected if you are initializing BertModel from the checkpoint of a model trained on another task or with another architecture (e.g. initializing a BertForSequenceClassification model from a BertForPreTraining model).\n",
                  "- This IS NOT expected if you are initializing BertModel from the checkpoint of a model that you expect to be exactly identical (initializing a BertForSequenceClassification model from a BertForSequenceClassification model).\n",
                  "[nltk_data] Downloading package punkt to /home/jovyan/nltk_data...\n",
                  "[nltk_data]   Package punkt is already up-to-date!\n"
               ]
            },
            {
               "name": "stdout",
               "output_type": "stream",
               "text": [
                  "0\n",
                  "1\n",
                  "2\n",
                  "3\n",
                  "4\n",
                  "5\n",
                  "6\n",
                  "7\n",
                  "8\n",
                  "9\n",
                  "10\n",
                  "11\n",
                  "12\n"
               ]
            },
            {
               "name": "stderr",
               "output_type": "stream",
               "text": [
                  "\u001b[32m[I 2022-03-27 15:42:26,846]\u001b[0m Trial 14 finished with value: 0.8118811881188119 and parameters: {'stopwords_type': 'wostop', 'from_selection': True, 'pos_feature_type': 'onehot', 'tag_feature_type': 'none', 'word_count_feature_type': 'count_words'}. Best is trial 14 with value: 0.8118811881188119.\u001b[0m\n"
               ]
            },
            {
               "name": "stdout",
               "output_type": "stream",
               "text": [
                  "19\n"
               ]
            },
            {
               "name": "stderr",
               "output_type": "stream",
               "text": [
                  "[nltk_data] Downloading package punkt to /home/jovyan/nltk_data...\n",
                  "[nltk_data]   Package punkt is already up-to-date!\n",
                  "Some weights of the model checkpoint at bert-base-uncased were not used when initializing BertModel: ['cls.predictions.transform.dense.weight', 'cls.predictions.bias', 'cls.predictions.transform.dense.bias', 'cls.seq_relationship.weight', 'cls.predictions.decoder.weight', 'cls.seq_relationship.bias', 'cls.predictions.transform.LayerNorm.weight', 'cls.predictions.transform.LayerNorm.bias']\n",
                  "- This IS expected if you are initializing BertModel from the checkpoint of a model trained on another task or with another architecture (e.g. initializing a BertForSequenceClassification model from a BertForPreTraining model).\n",
                  "- This IS NOT expected if you are initializing BertModel from the checkpoint of a model that you expect to be exactly identical (initializing a BertForSequenceClassification model from a BertForSequenceClassification model).\n",
                  "[nltk_data] Downloading package punkt to /home/jovyan/nltk_data...\n",
                  "[nltk_data]   Package punkt is already up-to-date!\n"
               ]
            },
            {
               "name": "stdout",
               "output_type": "stream",
               "text": [
                  "0\n",
                  "1\n",
                  "2\n",
                  "3\n",
                  "4\n",
                  "5\n",
                  "6\n",
                  "7\n"
               ]
            },
            {
               "name": "stderr",
               "output_type": "stream",
               "text": [
                  "\u001b[32m[I 2022-03-27 15:47:16,175]\u001b[0m Trial 15 finished with value: 0.72 and parameters: {'stopwords_type': 'wostop', 'from_selection': False, 'pos_feature_type': 'onehot', 'tag_feature_type': 'sum', 'word_count_feature_type': 'none'}. Best is trial 14 with value: 0.8118811881188119.\u001b[0m\n"
               ]
            },
            {
               "name": "stdout",
               "output_type": "stream",
               "text": [
                  "2\n"
               ]
            },
            {
               "name": "stderr",
               "output_type": "stream",
               "text": [
                  "[nltk_data] Downloading package punkt to /home/jovyan/nltk_data...\n",
                  "[nltk_data]   Package punkt is already up-to-date!\n",
                  "Some weights of the model checkpoint at bert-base-uncased were not used when initializing BertModel: ['cls.predictions.transform.dense.weight', 'cls.predictions.bias', 'cls.predictions.transform.dense.bias', 'cls.seq_relationship.weight', 'cls.predictions.decoder.weight', 'cls.seq_relationship.bias', 'cls.predictions.transform.LayerNorm.weight', 'cls.predictions.transform.LayerNorm.bias']\n",
                  "- This IS expected if you are initializing BertModel from the checkpoint of a model trained on another task or with another architecture (e.g. initializing a BertForSequenceClassification model from a BertForPreTraining model).\n",
                  "- This IS NOT expected if you are initializing BertModel from the checkpoint of a model that you expect to be exactly identical (initializing a BertForSequenceClassification model from a BertForSequenceClassification model).\n",
                  "[nltk_data] Downloading package punkt to /home/jovyan/nltk_data...\n",
                  "[nltk_data]   Package punkt is already up-to-date!\n"
               ]
            },
            {
               "name": "stdout",
               "output_type": "stream",
               "text": [
                  "0\n",
                  "1\n",
                  "2\n",
                  "3\n",
                  "4\n",
                  "5\n",
                  "6\n",
                  "7\n",
                  "8\n",
                  "9\n",
                  "10\n",
                  "11\n",
                  "12\n",
                  "13\n",
                  "14\n",
                  "15\n"
               ]
            },
            {
               "name": "stderr",
               "output_type": "stream",
               "text": [
                  "\u001b[32m[I 2022-03-27 15:55:58,823]\u001b[0m Trial 16 finished with value: 0.3979591836734694 and parameters: {'stopwords_type': 'wostop', 'from_selection': True, 'pos_feature_type': 'none', 'tag_feature_type': 'onehot', 'word_count_feature_type': 'count_words'}. Best is trial 14 with value: 0.8118811881188119.\u001b[0m\n",
                  "[nltk_data] Downloading package punkt to /home/jovyan/nltk_data...\n",
                  "[nltk_data]   Package punkt is already up-to-date!\n",
                  "Some weights of the model checkpoint at bert-base-uncased were not used when initializing BertModel: ['cls.predictions.transform.dense.weight', 'cls.predictions.bias', 'cls.predictions.transform.dense.bias', 'cls.seq_relationship.weight', 'cls.predictions.decoder.weight', 'cls.seq_relationship.bias', 'cls.predictions.transform.LayerNorm.weight', 'cls.predictions.transform.LayerNorm.bias']\n",
                  "- This IS expected if you are initializing BertModel from the checkpoint of a model trained on another task or with another architecture (e.g. initializing a BertForSequenceClassification model from a BertForPreTraining model).\n",
                  "- This IS NOT expected if you are initializing BertModel from the checkpoint of a model that you expect to be exactly identical (initializing a BertForSequenceClassification model from a BertForSequenceClassification model).\n",
                  "[nltk_data] Downloading package punkt to /home/jovyan/nltk_data...\n",
                  "[nltk_data]   Package punkt is already up-to-date!\n"
               ]
            },
            {
               "name": "stdout",
               "output_type": "stream",
               "text": [
                  "0\n",
                  "1\n",
                  "2\n",
                  "3\n",
                  "4\n",
                  "5\n",
                  "6\n",
                  "7\n",
                  "8\n",
                  "9\n",
                  "10\n"
               ]
            },
            {
               "name": "stderr",
               "output_type": "stream",
               "text": [
                  "\u001b[32m[I 2022-03-27 16:02:00,838]\u001b[0m Trial 17 finished with value: 0.7058823529411765 and parameters: {'stopwords_type': 'wstop', 'from_selection': True, 'pos_feature_type': 'none', 'tag_feature_type': 'none', 'word_count_feature_type': 'none'}. Best is trial 14 with value: 0.8118811881188119.\u001b[0m\n",
                  "[nltk_data] Downloading package punkt to /home/jovyan/nltk_data...\n",
                  "[nltk_data]   Package punkt is already up-to-date!\n",
                  "Some weights of the model checkpoint at bert-base-uncased were not used when initializing BertModel: ['cls.predictions.transform.dense.weight', 'cls.predictions.bias', 'cls.predictions.transform.dense.bias', 'cls.seq_relationship.weight', 'cls.predictions.decoder.weight', 'cls.seq_relationship.bias', 'cls.predictions.transform.LayerNorm.weight', 'cls.predictions.transform.LayerNorm.bias']\n",
                  "- This IS expected if you are initializing BertModel from the checkpoint of a model trained on another task or with another architecture (e.g. initializing a BertForSequenceClassification model from a BertForPreTraining model).\n",
                  "- This IS NOT expected if you are initializing BertModel from the checkpoint of a model that you expect to be exactly identical (initializing a BertForSequenceClassification model from a BertForSequenceClassification model).\n",
                  "[nltk_data] Downloading package punkt to /home/jovyan/nltk_data...\n",
                  "[nltk_data]   Package punkt is already up-to-date!\n"
               ]
            },
            {
               "name": "stdout",
               "output_type": "stream",
               "text": [
                  "0\n",
                  "1\n",
                  "2\n",
                  "3\n",
                  "4\n",
                  "5\n"
               ]
            },
            {
               "name": "stderr",
               "output_type": "stream",
               "text": [
                  "\u001b[32m[I 2022-03-27 16:05:40,938]\u001b[0m Trial 18 finished with value: 0.7425742574257426 and parameters: {'stopwords_type': 'wstop', 'from_selection': True, 'pos_feature_type': 'sum', 'tag_feature_type': 'none', 'word_count_feature_type': 'none'}. Best is trial 14 with value: 0.8118811881188119.\u001b[0m\n",
                  "[nltk_data] Downloading package punkt to /home/jovyan/nltk_data...\n",
                  "[nltk_data]   Package punkt is already up-to-date!\n",
                  "Some weights of the model checkpoint at bert-base-uncased were not used when initializing BertModel: ['cls.predictions.transform.dense.weight', 'cls.predictions.bias', 'cls.predictions.transform.dense.bias', 'cls.seq_relationship.weight', 'cls.predictions.decoder.weight', 'cls.seq_relationship.bias', 'cls.predictions.transform.LayerNorm.weight', 'cls.predictions.transform.LayerNorm.bias']\n",
                  "- This IS expected if you are initializing BertModel from the checkpoint of a model trained on another task or with another architecture (e.g. initializing a BertForSequenceClassification model from a BertForPreTraining model).\n",
                  "- This IS NOT expected if you are initializing BertModel from the checkpoint of a model that you expect to be exactly identical (initializing a BertForSequenceClassification model from a BertForSequenceClassification model).\n",
                  "[nltk_data] Downloading package punkt to /home/jovyan/nltk_data...\n",
                  "[nltk_data]   Package punkt is already up-to-date!\n"
               ]
            },
            {
               "name": "stdout",
               "output_type": "stream",
               "text": [
                  "0\n",
                  "1\n",
                  "2\n",
                  "3\n",
                  "4\n",
                  "5\n",
                  "6\n",
                  "7\n"
               ]
            },
            {
               "name": "stderr",
               "output_type": "stream",
               "text": [
                  "\u001b[32m[I 2022-03-27 16:10:11,988]\u001b[0m Trial 19 finished with value: 0.6732673267326733 and parameters: {'stopwords_type': 'wostop', 'from_selection': True, 'pos_feature_type': 'sum', 'tag_feature_type': 'none', 'word_count_feature_type': 'none'}. Best is trial 14 with value: 0.8118811881188119.\u001b[0m\n",
                  "[nltk_data] Downloading package punkt to /home/jovyan/nltk_data...\n",
                  "[nltk_data]   Package punkt is already up-to-date!\n",
                  "Some weights of the model checkpoint at bert-base-uncased were not used when initializing BertModel: ['cls.predictions.transform.dense.weight', 'cls.predictions.bias', 'cls.predictions.transform.dense.bias', 'cls.seq_relationship.weight', 'cls.predictions.decoder.weight', 'cls.seq_relationship.bias', 'cls.predictions.transform.LayerNorm.weight', 'cls.predictions.transform.LayerNorm.bias']\n",
                  "- This IS expected if you are initializing BertModel from the checkpoint of a model trained on another task or with another architecture (e.g. initializing a BertForSequenceClassification model from a BertForPreTraining model).\n",
                  "- This IS NOT expected if you are initializing BertModel from the checkpoint of a model that you expect to be exactly identical (initializing a BertForSequenceClassification model from a BertForSequenceClassification model).\n",
                  "[nltk_data] Downloading package punkt to /home/jovyan/nltk_data...\n",
                  "[nltk_data]   Package punkt is already up-to-date!\n"
               ]
            },
            {
               "name": "stdout",
               "output_type": "stream",
               "text": [
                  "0\n",
                  "1\n",
                  "2\n",
                  "3\n",
                  "4\n",
                  "5\n",
                  "6\n",
                  "7\n",
                  "8\n",
                  "9\n"
               ]
            },
            {
               "name": "stderr",
               "output_type": "stream",
               "text": [
                  "\u001b[32m[I 2022-03-27 16:16:23,792]\u001b[0m Trial 20 finished with value: 0.8235294117647058 and parameters: {'stopwords_type': 'wstop', 'from_selection': True, 'pos_feature_type': 'sum', 'tag_feature_type': 'sum', 'word_count_feature_type': 'count_words'}. Best is trial 20 with value: 0.8235294117647058.\u001b[0m\n"
               ]
            },
            {
               "name": "stdout",
               "output_type": "stream",
               "text": [
                  "49\n"
               ]
            },
            {
               "name": "stderr",
               "output_type": "stream",
               "text": [
                  "[nltk_data] Downloading package punkt to /home/jovyan/nltk_data...\n",
                  "[nltk_data]   Package punkt is already up-to-date!\n",
                  "Some weights of the model checkpoint at bert-base-uncased were not used when initializing BertModel: ['cls.predictions.transform.dense.weight', 'cls.predictions.bias', 'cls.predictions.transform.dense.bias', 'cls.seq_relationship.weight', 'cls.predictions.decoder.weight', 'cls.seq_relationship.bias', 'cls.predictions.transform.LayerNorm.weight', 'cls.predictions.transform.LayerNorm.bias']\n",
                  "- This IS expected if you are initializing BertModel from the checkpoint of a model trained on another task or with another architecture (e.g. initializing a BertForSequenceClassification model from a BertForPreTraining model).\n",
                  "- This IS NOT expected if you are initializing BertModel from the checkpoint of a model that you expect to be exactly identical (initializing a BertForSequenceClassification model from a BertForSequenceClassification model).\n",
                  "[nltk_data] Downloading package punkt to /home/jovyan/nltk_data...\n",
                  "[nltk_data]   Package punkt is already up-to-date!\n"
               ]
            },
            {
               "name": "stdout",
               "output_type": "stream",
               "text": [
                  "0\n",
                  "1\n",
                  "2\n",
                  "3\n",
                  "4\n",
                  "5\n",
                  "6\n",
                  "7\n"
               ]
            },
            {
               "name": "stderr",
               "output_type": "stream",
               "text": [
                  "\u001b[32m[I 2022-03-27 16:21:02,800]\u001b[0m Trial 21 finished with value: 0.6161616161616161 and parameters: {'stopwords_type': 'wostop', 'from_selection': False, 'pos_feature_type': 'none', 'tag_feature_type': 'onehot', 'word_count_feature_type': 'none'}. Best is trial 20 with value: 0.8235294117647058.\u001b[0m\n"
               ]
            },
            {
               "name": "stdout",
               "output_type": "stream",
               "text": [
                  "19\n"
               ]
            },
            {
               "name": "stderr",
               "output_type": "stream",
               "text": [
                  "[nltk_data] Downloading package punkt to /home/jovyan/nltk_data...\n",
                  "[nltk_data]   Package punkt is already up-to-date!\n",
                  "Some weights of the model checkpoint at bert-base-uncased were not used when initializing BertModel: ['cls.predictions.transform.dense.weight', 'cls.predictions.bias', 'cls.predictions.transform.dense.bias', 'cls.seq_relationship.weight', 'cls.predictions.decoder.weight', 'cls.seq_relationship.bias', 'cls.predictions.transform.LayerNorm.weight', 'cls.predictions.transform.LayerNorm.bias']\n",
                  "- This IS expected if you are initializing BertModel from the checkpoint of a model trained on another task or with another architecture (e.g. initializing a BertForSequenceClassification model from a BertForPreTraining model).\n",
                  "- This IS NOT expected if you are initializing BertModel from the checkpoint of a model that you expect to be exactly identical (initializing a BertForSequenceClassification model from a BertForSequenceClassification model).\n",
                  "[nltk_data] Downloading package punkt to /home/jovyan/nltk_data...\n",
                  "[nltk_data]   Package punkt is already up-to-date!\n"
               ]
            },
            {
               "name": "stdout",
               "output_type": "stream",
               "text": [
                  "0\n",
                  "1\n",
                  "2\n",
                  "3\n",
                  "4\n",
                  "5\n",
                  "6\n",
                  "7\n",
                  "8\n",
                  "9\n",
                  "10\n"
               ]
            },
            {
               "name": "stderr",
               "output_type": "stream",
               "text": [
                  "\u001b[32m[I 2022-03-27 16:27:52,364]\u001b[0m Trial 22 finished with value: 0.7227722772277227 and parameters: {'stopwords_type': 'wstop', 'from_selection': False, 'pos_feature_type': 'onehot', 'tag_feature_type': 'sum', 'word_count_feature_type': 'count_words'}. Best is trial 20 with value: 0.8235294117647058.\u001b[0m\n"
               ]
            },
            {
               "name": "stdout",
               "output_type": "stream",
               "text": [
                  "49\n"
               ]
            },
            {
               "name": "stderr",
               "output_type": "stream",
               "text": [
                  "[nltk_data] Downloading package punkt to /home/jovyan/nltk_data...\n",
                  "[nltk_data]   Package punkt is already up-to-date!\n",
                  "Some weights of the model checkpoint at bert-base-uncased were not used when initializing BertModel: ['cls.predictions.transform.dense.weight', 'cls.predictions.bias', 'cls.predictions.transform.dense.bias', 'cls.seq_relationship.weight', 'cls.predictions.decoder.weight', 'cls.seq_relationship.bias', 'cls.predictions.transform.LayerNorm.weight', 'cls.predictions.transform.LayerNorm.bias']\n",
                  "- This IS expected if you are initializing BertModel from the checkpoint of a model trained on another task or with another architecture (e.g. initializing a BertForSequenceClassification model from a BertForPreTraining model).\n",
                  "- This IS NOT expected if you are initializing BertModel from the checkpoint of a model that you expect to be exactly identical (initializing a BertForSequenceClassification model from a BertForSequenceClassification model).\n",
                  "[nltk_data] Downloading package punkt to /home/jovyan/nltk_data...\n",
                  "[nltk_data]   Package punkt is already up-to-date!\n"
               ]
            },
            {
               "name": "stdout",
               "output_type": "stream",
               "text": [
                  "0\n",
                  "1\n",
                  "2\n",
                  "3\n",
                  "4\n",
                  "5\n",
                  "6\n",
                  "7\n",
                  "8\n",
                  "9\n"
               ]
            },
            {
               "name": "stderr",
               "output_type": "stream",
               "text": [
                  "\u001b[32m[I 2022-03-27 16:34:07,051]\u001b[0m Trial 23 finished with value: 0.72 and parameters: {'stopwords_type': 'wstop', 'from_selection': False, 'pos_feature_type': 'sum', 'tag_feature_type': 'onehot', 'word_count_feature_type': 'none'}. Best is trial 20 with value: 0.8235294117647058.\u001b[0m\n"
               ]
            },
            {
               "name": "stdout",
               "output_type": "stream",
               "text": [
                  "19\n",
                  "49\n"
               ]
            },
            {
               "name": "stderr",
               "output_type": "stream",
               "text": [
                  "[nltk_data] Downloading package punkt to /home/jovyan/nltk_data...\n",
                  "[nltk_data]   Package punkt is already up-to-date!\n",
                  "Some weights of the model checkpoint at bert-base-uncased were not used when initializing BertModel: ['cls.predictions.transform.dense.weight', 'cls.predictions.bias', 'cls.predictions.transform.dense.bias', 'cls.seq_relationship.weight', 'cls.predictions.decoder.weight', 'cls.seq_relationship.bias', 'cls.predictions.transform.LayerNorm.weight', 'cls.predictions.transform.LayerNorm.bias']\n",
                  "- This IS expected if you are initializing BertModel from the checkpoint of a model trained on another task or with another architecture (e.g. initializing a BertForSequenceClassification model from a BertForPreTraining model).\n",
                  "- This IS NOT expected if you are initializing BertModel from the checkpoint of a model that you expect to be exactly identical (initializing a BertForSequenceClassification model from a BertForSequenceClassification model).\n",
                  "[nltk_data] Downloading package punkt to /home/jovyan/nltk_data...\n",
                  "[nltk_data]   Package punkt is already up-to-date!\n"
               ]
            },
            {
               "name": "stdout",
               "output_type": "stream",
               "text": [
                  "0\n",
                  "1\n",
                  "2\n",
                  "3\n",
                  "4\n",
                  "5\n",
                  "6\n",
                  "7\n"
               ]
            },
            {
               "name": "stderr",
               "output_type": "stream",
               "text": [
                  "\u001b[32m[I 2022-03-27 16:38:59,078]\u001b[0m Trial 24 finished with value: 0.696078431372549 and parameters: {'stopwords_type': 'wostop', 'from_selection': False, 'pos_feature_type': 'onehot', 'tag_feature_type': 'onehot', 'word_count_feature_type': 'count_words'}. Best is trial 20 with value: 0.8235294117647058.\u001b[0m\n",
                  "[nltk_data] Downloading package punkt to /home/jovyan/nltk_data...\n",
                  "[nltk_data]   Package punkt is already up-to-date!\n",
                  "Some weights of the model checkpoint at bert-base-uncased were not used when initializing BertModel: ['cls.predictions.transform.dense.weight', 'cls.predictions.bias', 'cls.predictions.transform.dense.bias', 'cls.seq_relationship.weight', 'cls.predictions.decoder.weight', 'cls.seq_relationship.bias', 'cls.predictions.transform.LayerNorm.weight', 'cls.predictions.transform.LayerNorm.bias']\n",
                  "- This IS expected if you are initializing BertModel from the checkpoint of a model trained on another task or with another architecture (e.g. initializing a BertForSequenceClassification model from a BertForPreTraining model).\n",
                  "- This IS NOT expected if you are initializing BertModel from the checkpoint of a model that you expect to be exactly identical (initializing a BertForSequenceClassification model from a BertForSequenceClassification model).\n",
                  "[nltk_data] Downloading package punkt to /home/jovyan/nltk_data...\n",
                  "[nltk_data]   Package punkt is already up-to-date!\n"
               ]
            },
            {
               "name": "stdout",
               "output_type": "stream",
               "text": [
                  "0\n",
                  "1\n",
                  "2\n",
                  "3\n",
                  "4\n",
                  "5\n",
                  "6\n"
               ]
            },
            {
               "name": "stderr",
               "output_type": "stream",
               "text": [
                  "\u001b[32m[I 2022-03-27 16:43:30,209]\u001b[0m Trial 25 finished with value: 0.7474747474747475 and parameters: {'stopwords_type': 'wstop', 'from_selection': False, 'pos_feature_type': 'sum', 'tag_feature_type': 'sum', 'word_count_feature_type': 'count_words'}. Best is trial 20 with value: 0.8235294117647058.\u001b[0m\n",
                  "[nltk_data] Downloading package punkt to /home/jovyan/nltk_data...\n",
                  "[nltk_data]   Package punkt is already up-to-date!\n",
                  "Some weights of the model checkpoint at bert-base-uncased were not used when initializing BertModel: ['cls.predictions.transform.dense.weight', 'cls.predictions.bias', 'cls.predictions.transform.dense.bias', 'cls.seq_relationship.weight', 'cls.predictions.decoder.weight', 'cls.seq_relationship.bias', 'cls.predictions.transform.LayerNorm.weight', 'cls.predictions.transform.LayerNorm.bias']\n",
                  "- This IS expected if you are initializing BertModel from the checkpoint of a model trained on another task or with another architecture (e.g. initializing a BertForSequenceClassification model from a BertForPreTraining model).\n",
                  "- This IS NOT expected if you are initializing BertModel from the checkpoint of a model that you expect to be exactly identical (initializing a BertForSequenceClassification model from a BertForSequenceClassification model).\n",
                  "[nltk_data] Downloading package punkt to /home/jovyan/nltk_data...\n",
                  "[nltk_data]   Package punkt is already up-to-date!\n"
               ]
            },
            {
               "name": "stdout",
               "output_type": "stream",
               "text": [
                  "0\n",
                  "1\n",
                  "2\n",
                  "3\n",
                  "4\n",
                  "5\n",
                  "6\n",
                  "7\n",
                  "8\n",
                  "9\n",
                  "10\n"
               ]
            },
            {
               "name": "stderr",
               "output_type": "stream",
               "text": [
                  "\u001b[32m[I 2022-03-27 16:49:12,753]\u001b[0m Trial 26 finished with value: 0.44 and parameters: {'stopwords_type': 'wostop', 'from_selection': False, 'pos_feature_type': 'none', 'tag_feature_type': 'none', 'word_count_feature_type': 'none'}. Best is trial 20 with value: 0.8235294117647058.\u001b[0m\n"
               ]
            },
            {
               "name": "stdout",
               "output_type": "stream",
               "text": [
                  "19\n",
                  "49\n"
               ]
            },
            {
               "name": "stderr",
               "output_type": "stream",
               "text": [
                  "[nltk_data] Downloading package punkt to /home/jovyan/nltk_data...\n",
                  "[nltk_data]   Package punkt is already up-to-date!\n",
                  "Some weights of the model checkpoint at bert-base-uncased were not used when initializing BertModel: ['cls.predictions.transform.dense.weight', 'cls.predictions.bias', 'cls.predictions.transform.dense.bias', 'cls.seq_relationship.weight', 'cls.predictions.decoder.weight', 'cls.seq_relationship.bias', 'cls.predictions.transform.LayerNorm.weight', 'cls.predictions.transform.LayerNorm.bias']\n",
                  "- This IS expected if you are initializing BertModel from the checkpoint of a model trained on another task or with another architecture (e.g. initializing a BertForSequenceClassification model from a BertForPreTraining model).\n",
                  "- This IS NOT expected if you are initializing BertModel from the checkpoint of a model that you expect to be exactly identical (initializing a BertForSequenceClassification model from a BertForSequenceClassification model).\n",
                  "[nltk_data] Downloading package punkt to /home/jovyan/nltk_data...\n",
                  "[nltk_data]   Package punkt is already up-to-date!\n"
               ]
            },
            {
               "name": "stdout",
               "output_type": "stream",
               "text": [
                  "0\n",
                  "1\n",
                  "2\n",
                  "3\n",
                  "4\n",
                  "5\n",
                  "6\n"
               ]
            },
            {
               "name": "stderr",
               "output_type": "stream",
               "text": [
                  "\u001b[32m[I 2022-03-27 16:53:32,871]\u001b[0m Trial 27 finished with value: 0.5588235294117647 and parameters: {'stopwords_type': 'wostop', 'from_selection': False, 'pos_feature_type': 'onehot', 'tag_feature_type': 'onehot', 'word_count_feature_type': 'none'}. Best is trial 20 with value: 0.8235294117647058.\u001b[0m\n",
                  "[nltk_data] Downloading package punkt to /home/jovyan/nltk_data...\n",
                  "[nltk_data]   Package punkt is already up-to-date!\n",
                  "Some weights of the model checkpoint at bert-base-uncased were not used when initializing BertModel: ['cls.predictions.transform.dense.weight', 'cls.predictions.bias', 'cls.predictions.transform.dense.bias', 'cls.seq_relationship.weight', 'cls.predictions.decoder.weight', 'cls.seq_relationship.bias', 'cls.predictions.transform.LayerNorm.weight', 'cls.predictions.transform.LayerNorm.bias']\n",
                  "- This IS expected if you are initializing BertModel from the checkpoint of a model trained on another task or with another architecture (e.g. initializing a BertForSequenceClassification model from a BertForPreTraining model).\n",
                  "- This IS NOT expected if you are initializing BertModel from the checkpoint of a model that you expect to be exactly identical (initializing a BertForSequenceClassification model from a BertForSequenceClassification model).\n",
                  "[nltk_data] Downloading package punkt to /home/jovyan/nltk_data...\n",
                  "[nltk_data]   Package punkt is already up-to-date!\n"
               ]
            },
            {
               "name": "stdout",
               "output_type": "stream",
               "text": [
                  "0\n",
                  "1\n",
                  "2\n",
                  "3\n",
                  "4\n",
                  "5\n",
                  "6\n",
                  "7\n",
                  "8\n",
                  "9\n"
               ]
            },
            {
               "name": "stderr",
               "output_type": "stream",
               "text": [
                  "\u001b[32m[I 2022-03-27 16:59:09,334]\u001b[0m Trial 28 finished with value: 0.7920792079207921 and parameters: {'stopwords_type': 'wstop', 'from_selection': True, 'pos_feature_type': 'none', 'tag_feature_type': 'none', 'word_count_feature_type': 'count_words'}. Best is trial 20 with value: 0.8235294117647058.\u001b[0m\n",
                  "[nltk_data] Downloading package punkt to /home/jovyan/nltk_data...\n",
                  "[nltk_data]   Package punkt is already up-to-date!\n",
                  "Some weights of the model checkpoint at bert-base-uncased were not used when initializing BertModel: ['cls.predictions.transform.dense.weight', 'cls.predictions.bias', 'cls.predictions.transform.dense.bias', 'cls.seq_relationship.weight', 'cls.predictions.decoder.weight', 'cls.seq_relationship.bias', 'cls.predictions.transform.LayerNorm.weight', 'cls.predictions.transform.LayerNorm.bias']\n",
                  "- This IS expected if you are initializing BertModel from the checkpoint of a model trained on another task or with another architecture (e.g. initializing a BertForSequenceClassification model from a BertForPreTraining model).\n",
                  "- This IS NOT expected if you are initializing BertModel from the checkpoint of a model that you expect to be exactly identical (initializing a BertForSequenceClassification model from a BertForSequenceClassification model).\n",
                  "[nltk_data] Downloading package punkt to /home/jovyan/nltk_data...\n",
                  "[nltk_data]   Package punkt is already up-to-date!\n"
               ]
            },
            {
               "name": "stdout",
               "output_type": "stream",
               "text": [
                  "0\n",
                  "1\n",
                  "2\n",
                  "3\n",
                  "4\n",
                  "5\n",
                  "6\n",
                  "7\n",
                  "8\n"
               ]
            },
            {
               "name": "stderr",
               "output_type": "stream",
               "text": [
                  "\u001b[32m[I 2022-03-27 17:04:34,909]\u001b[0m Trial 29 finished with value: 0.5643564356435643 and parameters: {'stopwords_type': 'wstop', 'from_selection': False, 'pos_feature_type': 'sum', 'tag_feature_type': 'none', 'word_count_feature_type': 'none'}. Best is trial 20 with value: 0.8235294117647058.\u001b[0m\n",
                  "[nltk_data] Downloading package punkt to /home/jovyan/nltk_data...\n",
                  "[nltk_data]   Package punkt is already up-to-date!\n",
                  "Some weights of the model checkpoint at bert-base-uncased were not used when initializing BertModel: ['cls.predictions.transform.dense.weight', 'cls.predictions.bias', 'cls.predictions.transform.dense.bias', 'cls.seq_relationship.weight', 'cls.predictions.decoder.weight', 'cls.seq_relationship.bias', 'cls.predictions.transform.LayerNorm.weight', 'cls.predictions.transform.LayerNorm.bias']\n",
                  "- This IS expected if you are initializing BertModel from the checkpoint of a model trained on another task or with another architecture (e.g. initializing a BertForSequenceClassification model from a BertForPreTraining model).\n",
                  "- This IS NOT expected if you are initializing BertModel from the checkpoint of a model that you expect to be exactly identical (initializing a BertForSequenceClassification model from a BertForSequenceClassification model).\n",
                  "[nltk_data] Downloading package punkt to /home/jovyan/nltk_data...\n",
                  "[nltk_data]   Package punkt is already up-to-date!\n"
               ]
            },
            {
               "name": "stdout",
               "output_type": "stream",
               "text": [
                  "0\n",
                  "1\n",
                  "2\n",
                  "3\n",
                  "4\n",
                  "5\n",
                  "6\n",
                  "7\n",
                  "8\n",
                  "9\n",
                  "10\n",
                  "11\n",
                  "12\n",
                  "13\n"
               ]
            },
            {
               "name": "stderr",
               "output_type": "stream",
               "text": [
                  "\u001b[32m[I 2022-03-27 17:12:20,469]\u001b[0m Trial 30 finished with value: 0.6633663366336634 and parameters: {'stopwords_type': 'wostop', 'from_selection': False, 'pos_feature_type': 'none', 'tag_feature_type': 'sum', 'word_count_feature_type': 'count_words'}. Best is trial 20 with value: 0.8235294117647058.\u001b[0m\n"
               ]
            },
            {
               "name": "stdout",
               "output_type": "stream",
               "text": [
                  "49\n"
               ]
            },
            {
               "name": "stderr",
               "output_type": "stream",
               "text": [
                  "[nltk_data] Downloading package punkt to /home/jovyan/nltk_data...\n",
                  "[nltk_data]   Package punkt is already up-to-date!\n",
                  "Some weights of the model checkpoint at bert-base-uncased were not used when initializing BertModel: ['cls.predictions.transform.dense.weight', 'cls.predictions.bias', 'cls.predictions.transform.dense.bias', 'cls.seq_relationship.weight', 'cls.predictions.decoder.weight', 'cls.seq_relationship.bias', 'cls.predictions.transform.LayerNorm.weight', 'cls.predictions.transform.LayerNorm.bias']\n",
                  "- This IS expected if you are initializing BertModel from the checkpoint of a model trained on another task or with another architecture (e.g. initializing a BertForSequenceClassification model from a BertForPreTraining model).\n",
                  "- This IS NOT expected if you are initializing BertModel from the checkpoint of a model that you expect to be exactly identical (initializing a BertForSequenceClassification model from a BertForSequenceClassification model).\n",
                  "[nltk_data] Downloading package punkt to /home/jovyan/nltk_data...\n",
                  "[nltk_data]   Package punkt is already up-to-date!\n"
               ]
            },
            {
               "name": "stdout",
               "output_type": "stream",
               "text": [
                  "0\n",
                  "1\n",
                  "2\n",
                  "3\n",
                  "4\n",
                  "5\n",
                  "6\n",
                  "7\n",
                  "8\n",
                  "9\n",
                  "10\n",
                  "11\n",
                  "12\n",
                  "13\n",
                  "14\n"
               ]
            },
            {
               "name": "stderr",
               "output_type": "stream",
               "text": [
                  "\u001b[32m[I 2022-03-27 17:21:06,557]\u001b[0m Trial 31 finished with value: 0.7843137254901961 and parameters: {'stopwords_type': 'wostop', 'from_selection': False, 'pos_feature_type': 'sum', 'tag_feature_type': 'onehot', 'word_count_feature_type': 'count_words'}. Best is trial 20 with value: 0.8235294117647058.\u001b[0m\n"
               ]
            },
            {
               "name": "stdout",
               "output_type": "stream",
               "text": [
                  "49\n"
               ]
            },
            {
               "name": "stderr",
               "output_type": "stream",
               "text": [
                  "[nltk_data] Downloading package punkt to /home/jovyan/nltk_data...\n",
                  "[nltk_data]   Package punkt is already up-to-date!\n",
                  "Some weights of the model checkpoint at bert-base-uncased were not used when initializing BertModel: ['cls.predictions.transform.dense.weight', 'cls.predictions.bias', 'cls.predictions.transform.dense.bias', 'cls.seq_relationship.weight', 'cls.predictions.decoder.weight', 'cls.seq_relationship.bias', 'cls.predictions.transform.LayerNorm.weight', 'cls.predictions.transform.LayerNorm.bias']\n",
                  "- This IS expected if you are initializing BertModel from the checkpoint of a model trained on another task or with another architecture (e.g. initializing a BertForSequenceClassification model from a BertForPreTraining model).\n",
                  "- This IS NOT expected if you are initializing BertModel from the checkpoint of a model that you expect to be exactly identical (initializing a BertForSequenceClassification model from a BertForSequenceClassification model).\n",
                  "[nltk_data] Downloading package punkt to /home/jovyan/nltk_data...\n",
                  "[nltk_data]   Package punkt is already up-to-date!\n"
               ]
            },
            {
               "name": "stdout",
               "output_type": "stream",
               "text": [
                  "0\n",
                  "1\n",
                  "2\n",
                  "3\n",
                  "4\n",
                  "5\n"
               ]
            },
            {
               "name": "stderr",
               "output_type": "stream",
               "text": [
                  "\u001b[32m[I 2022-03-27 17:24:50,266]\u001b[0m Trial 32 finished with value: 0.65 and parameters: {'stopwords_type': 'wstop', 'from_selection': False, 'pos_feature_type': 'none', 'tag_feature_type': 'onehot', 'word_count_feature_type': 'count_words'}. Best is trial 20 with value: 0.8235294117647058.\u001b[0m\n",
                  "[nltk_data] Downloading package punkt to /home/jovyan/nltk_data...\n",
                  "[nltk_data]   Package punkt is already up-to-date!\n",
                  "Some weights of the model checkpoint at bert-base-uncased were not used when initializing BertModel: ['cls.predictions.transform.dense.weight', 'cls.predictions.bias', 'cls.predictions.transform.dense.bias', 'cls.seq_relationship.weight', 'cls.predictions.decoder.weight', 'cls.seq_relationship.bias', 'cls.predictions.transform.LayerNorm.weight', 'cls.predictions.transform.LayerNorm.bias']\n",
                  "- This IS expected if you are initializing BertModel from the checkpoint of a model trained on another task or with another architecture (e.g. initializing a BertForSequenceClassification model from a BertForPreTraining model).\n",
                  "- This IS NOT expected if you are initializing BertModel from the checkpoint of a model that you expect to be exactly identical (initializing a BertForSequenceClassification model from a BertForSequenceClassification model).\n",
                  "[nltk_data] Downloading package punkt to /home/jovyan/nltk_data...\n",
                  "[nltk_data]   Package punkt is already up-to-date!\n"
               ]
            },
            {
               "name": "stdout",
               "output_type": "stream",
               "text": [
                  "0\n",
                  "1\n",
                  "2\n",
                  "3\n",
                  "4\n",
                  "5\n"
               ]
            },
            {
               "name": "stderr",
               "output_type": "stream",
               "text": [
                  "\u001b[32m[I 2022-03-27 17:28:33,883]\u001b[0m Trial 33 finished with value: 0.4752475247524752 and parameters: {'stopwords_type': 'wstop', 'from_selection': False, 'pos_feature_type': 'none', 'tag_feature_type': 'sum', 'word_count_feature_type': 'count_words'}. Best is trial 20 with value: 0.8235294117647058.\u001b[0m\n",
                  "[nltk_data] Downloading package punkt to /home/jovyan/nltk_data...\n",
                  "[nltk_data]   Package punkt is already up-to-date!\n",
                  "Some weights of the model checkpoint at bert-base-uncased were not used when initializing BertModel: ['cls.predictions.transform.dense.weight', 'cls.predictions.bias', 'cls.predictions.transform.dense.bias', 'cls.seq_relationship.weight', 'cls.predictions.decoder.weight', 'cls.seq_relationship.bias', 'cls.predictions.transform.LayerNorm.weight', 'cls.predictions.transform.LayerNorm.bias']\n",
                  "- This IS expected if you are initializing BertModel from the checkpoint of a model trained on another task or with another architecture (e.g. initializing a BertForSequenceClassification model from a BertForPreTraining model).\n",
                  "- This IS NOT expected if you are initializing BertModel from the checkpoint of a model that you expect to be exactly identical (initializing a BertForSequenceClassification model from a BertForSequenceClassification model).\n",
                  "[nltk_data] Downloading package punkt to /home/jovyan/nltk_data...\n",
                  "[nltk_data]   Package punkt is already up-to-date!\n"
               ]
            },
            {
               "name": "stdout",
               "output_type": "stream",
               "text": [
                  "0\n",
                  "1\n",
                  "2\n",
                  "3\n",
                  "4\n",
                  "5\n",
                  "6\n",
                  "7\n",
                  "8\n",
                  "9\n",
                  "10\n",
                  "11\n",
                  "12\n",
                  "13\n",
                  "14\n",
                  "15\n"
               ]
            },
            {
               "name": "stderr",
               "output_type": "stream",
               "text": [
                  "\u001b[32m[I 2022-03-27 17:37:21,153]\u001b[0m Trial 34 finished with value: 0.6831683168316832 and parameters: {'stopwords_type': 'wostop', 'from_selection': False, 'pos_feature_type': 'none', 'tag_feature_type': 'sum', 'word_count_feature_type': 'none'}. Best is trial 20 with value: 0.8235294117647058.\u001b[0m\n"
               ]
            },
            {
               "name": "stdout",
               "output_type": "stream",
               "text": [
                  "19\n"
               ]
            },
            {
               "name": "stderr",
               "output_type": "stream",
               "text": [
                  "[nltk_data] Downloading package punkt to /home/jovyan/nltk_data...\n",
                  "[nltk_data]   Package punkt is already up-to-date!\n",
                  "Some weights of the model checkpoint at bert-base-uncased were not used when initializing BertModel: ['cls.predictions.transform.dense.weight', 'cls.predictions.bias', 'cls.predictions.transform.dense.bias', 'cls.seq_relationship.weight', 'cls.predictions.decoder.weight', 'cls.seq_relationship.bias', 'cls.predictions.transform.LayerNorm.weight', 'cls.predictions.transform.LayerNorm.bias']\n",
                  "- This IS expected if you are initializing BertModel from the checkpoint of a model trained on another task or with another architecture (e.g. initializing a BertForSequenceClassification model from a BertForPreTraining model).\n",
                  "- This IS NOT expected if you are initializing BertModel from the checkpoint of a model that you expect to be exactly identical (initializing a BertForSequenceClassification model from a BertForSequenceClassification model).\n",
                  "[nltk_data] Downloading package punkt to /home/jovyan/nltk_data...\n",
                  "[nltk_data]   Package punkt is already up-to-date!\n"
               ]
            },
            {
               "name": "stdout",
               "output_type": "stream",
               "text": [
                  "0\n",
                  "1\n",
                  "2\n",
                  "3\n",
                  "4\n",
                  "5\n",
                  "6\n",
                  "7\n"
               ]
            },
            {
               "name": "stderr",
               "output_type": "stream",
               "text": [
                  "\u001b[32m[I 2022-03-27 17:42:22,591]\u001b[0m Trial 35 finished with value: 0.504950495049505 and parameters: {'stopwords_type': 'wstop', 'from_selection': False, 'pos_feature_type': 'onehot', 'tag_feature_type': 'sum', 'word_count_feature_type': 'none'}. Best is trial 20 with value: 0.8235294117647058.\u001b[0m\n",
                  "[nltk_data] Downloading package punkt to /home/jovyan/nltk_data...\n",
                  "[nltk_data]   Package punkt is already up-to-date!\n",
                  "Some weights of the model checkpoint at bert-base-uncased were not used when initializing BertModel: ['cls.predictions.transform.dense.weight', 'cls.predictions.bias', 'cls.predictions.transform.dense.bias', 'cls.seq_relationship.weight', 'cls.predictions.decoder.weight', 'cls.seq_relationship.bias', 'cls.predictions.transform.LayerNorm.weight', 'cls.predictions.transform.LayerNorm.bias']\n",
                  "- This IS expected if you are initializing BertModel from the checkpoint of a model trained on another task or with another architecture (e.g. initializing a BertForSequenceClassification model from a BertForPreTraining model).\n",
                  "- This IS NOT expected if you are initializing BertModel from the checkpoint of a model that you expect to be exactly identical (initializing a BertForSequenceClassification model from a BertForSequenceClassification model).\n",
                  "[nltk_data] Downloading package punkt to /home/jovyan/nltk_data...\n",
                  "[nltk_data]   Package punkt is already up-to-date!\n"
               ]
            },
            {
               "name": "stdout",
               "output_type": "stream",
               "text": [
                  "0\n",
                  "1\n",
                  "2\n",
                  "3\n",
                  "4\n",
                  "5\n",
                  "6\n",
                  "7\n",
                  "8\n",
                  "9\n"
               ]
            },
            {
               "name": "stderr",
               "output_type": "stream",
               "text": [
                  "\u001b[32m[I 2022-03-27 17:48:13,738]\u001b[0m Trial 36 finished with value: 0.75 and parameters: {'stopwords_type': 'wstop', 'from_selection': True, 'pos_feature_type': 'none', 'tag_feature_type': 'sum', 'word_count_feature_type': 'count_words'}. Best is trial 20 with value: 0.8235294117647058.\u001b[0m\n"
               ]
            },
            {
               "name": "stdout",
               "output_type": "stream",
               "text": [
                  "19\n",
                  "49\n"
               ]
            },
            {
               "name": "stderr",
               "output_type": "stream",
               "text": [
                  "[nltk_data] Downloading package punkt to /home/jovyan/nltk_data...\n",
                  "[nltk_data]   Package punkt is already up-to-date!\n",
                  "Some weights of the model checkpoint at bert-base-uncased were not used when initializing BertModel: ['cls.predictions.transform.dense.weight', 'cls.predictions.bias', 'cls.predictions.transform.dense.bias', 'cls.seq_relationship.weight', 'cls.predictions.decoder.weight', 'cls.seq_relationship.bias', 'cls.predictions.transform.LayerNorm.weight', 'cls.predictions.transform.LayerNorm.bias']\n",
                  "- This IS expected if you are initializing BertModel from the checkpoint of a model trained on another task or with another architecture (e.g. initializing a BertForSequenceClassification model from a BertForPreTraining model).\n",
                  "- This IS NOT expected if you are initializing BertModel from the checkpoint of a model that you expect to be exactly identical (initializing a BertForSequenceClassification model from a BertForSequenceClassification model).\n",
                  "[nltk_data] Downloading package punkt to /home/jovyan/nltk_data...\n",
                  "[nltk_data]   Package punkt is already up-to-date!\n"
               ]
            },
            {
               "name": "stdout",
               "output_type": "stream",
               "text": [
                  "0\n",
                  "1\n",
                  "2\n",
                  "3\n",
                  "4\n",
                  "5\n"
               ]
            },
            {
               "name": "stderr",
               "output_type": "stream",
               "text": [
                  "\u001b[32m[I 2022-03-27 17:52:06,716]\u001b[0m Trial 37 finished with value: 0.48 and parameters: {'stopwords_type': 'wstop', 'from_selection': False, 'pos_feature_type': 'onehot', 'tag_feature_type': 'onehot', 'word_count_feature_type': 'count_words'}. Best is trial 20 with value: 0.8235294117647058.\u001b[0m\n"
               ]
            },
            {
               "name": "stdout",
               "output_type": "stream",
               "text": [
                  "6\n"
               ]
            },
            {
               "name": "stderr",
               "output_type": "stream",
               "text": [
                  "[nltk_data] Downloading package punkt to /home/jovyan/nltk_data...\n",
                  "[nltk_data]   Package punkt is already up-to-date!\n",
                  "Some weights of the model checkpoint at bert-base-uncased were not used when initializing BertModel: ['cls.predictions.transform.dense.weight', 'cls.predictions.bias', 'cls.predictions.transform.dense.bias', 'cls.seq_relationship.weight', 'cls.predictions.decoder.weight', 'cls.seq_relationship.bias', 'cls.predictions.transform.LayerNorm.weight', 'cls.predictions.transform.LayerNorm.bias']\n",
                  "- This IS expected if you are initializing BertModel from the checkpoint of a model trained on another task or with another architecture (e.g. initializing a BertForSequenceClassification model from a BertForPreTraining model).\n",
                  "- This IS NOT expected if you are initializing BertModel from the checkpoint of a model that you expect to be exactly identical (initializing a BertForSequenceClassification model from a BertForSequenceClassification model).\n",
                  "[nltk_data] Downloading package punkt to /home/jovyan/nltk_data...\n",
                  "[nltk_data]   Package punkt is already up-to-date!\n"
               ]
            },
            {
               "name": "stdout",
               "output_type": "stream",
               "text": [
                  "0\n",
                  "1\n",
                  "2\n",
                  "3\n",
                  "4\n",
                  "5\n",
                  "6\n",
                  "7\n",
                  "8\n"
               ]
            },
            {
               "name": "stderr",
               "output_type": "stream",
               "text": [
                  "\u001b[32m[I 2022-03-27 17:57:28,982]\u001b[0m Trial 38 finished with value: 0.7623762376237624 and parameters: {'stopwords_type': 'wstop', 'from_selection': True, 'pos_feature_type': 'none', 'tag_feature_type': 'onehot', 'word_count_feature_type': 'none'}. Best is trial 20 with value: 0.8235294117647058.\u001b[0m\n",
                  "[nltk_data] Downloading package punkt to /home/jovyan/nltk_data...\n",
                  "[nltk_data]   Package punkt is already up-to-date!\n",
                  "Some weights of the model checkpoint at bert-base-uncased were not used when initializing BertModel: ['cls.predictions.transform.dense.weight', 'cls.predictions.bias', 'cls.predictions.transform.dense.bias', 'cls.seq_relationship.weight', 'cls.predictions.decoder.weight', 'cls.seq_relationship.bias', 'cls.predictions.transform.LayerNorm.weight', 'cls.predictions.transform.LayerNorm.bias']\n",
                  "- This IS expected if you are initializing BertModel from the checkpoint of a model trained on another task or with another architecture (e.g. initializing a BertForSequenceClassification model from a BertForPreTraining model).\n",
                  "- This IS NOT expected if you are initializing BertModel from the checkpoint of a model that you expect to be exactly identical (initializing a BertForSequenceClassification model from a BertForSequenceClassification model).\n",
                  "[nltk_data] Downloading package punkt to /home/jovyan/nltk_data...\n",
                  "[nltk_data]   Package punkt is already up-to-date!\n"
               ]
            },
            {
               "name": "stdout",
               "output_type": "stream",
               "text": [
                  "0\n",
                  "1\n",
                  "2\n",
                  "3\n",
                  "4\n",
                  "5\n",
                  "6\n"
               ]
            },
            {
               "name": "stderr",
               "output_type": "stream",
               "text": [
                  "\u001b[32m[I 2022-03-27 18:01:41,808]\u001b[0m Trial 39 finished with value: 0.9207920792079208 and parameters: {'stopwords_type': 'wstop', 'from_selection': True, 'pos_feature_type': 'none', 'tag_feature_type': 'sum', 'word_count_feature_type': 'none'}. Best is trial 39 with value: 0.9207920792079208.\u001b[0m\n"
               ]
            },
            {
               "name": "stdout",
               "output_type": "stream",
               "text": [
                  "2\n"
               ]
            },
            {
               "name": "stderr",
               "output_type": "stream",
               "text": [
                  "[nltk_data] Downloading package punkt to /home/jovyan/nltk_data...\n",
                  "[nltk_data]   Package punkt is already up-to-date!\n",
                  "Some weights of the model checkpoint at bert-base-uncased were not used when initializing BertModel: ['cls.predictions.transform.dense.weight', 'cls.predictions.bias', 'cls.predictions.transform.dense.bias', 'cls.seq_relationship.weight', 'cls.predictions.decoder.weight', 'cls.seq_relationship.bias', 'cls.predictions.transform.LayerNorm.weight', 'cls.predictions.transform.LayerNorm.bias']\n",
                  "- This IS expected if you are initializing BertModel from the checkpoint of a model trained on another task or with another architecture (e.g. initializing a BertForSequenceClassification model from a BertForPreTraining model).\n",
                  "- This IS NOT expected if you are initializing BertModel from the checkpoint of a model that you expect to be exactly identical (initializing a BertForSequenceClassification model from a BertForSequenceClassification model).\n",
                  "[nltk_data] Downloading package punkt to /home/jovyan/nltk_data...\n",
                  "[nltk_data]   Package punkt is already up-to-date!\n"
               ]
            },
            {
               "name": "stdout",
               "output_type": "stream",
               "text": [
                  "0\n",
                  "1\n",
                  "2\n",
                  "3\n",
                  "4\n",
                  "5\n",
                  "6\n",
                  "7\n",
                  "8\n",
                  "9\n",
                  "10\n",
                  "11\n"
               ]
            },
            {
               "name": "stderr",
               "output_type": "stream",
               "text": [
                  "\u001b[32m[I 2022-03-27 18:08:37,320]\u001b[0m Trial 40 finished with value: 0.6237623762376238 and parameters: {'stopwords_type': 'wostop', 'from_selection': True, 'pos_feature_type': 'onehot', 'tag_feature_type': 'sum', 'word_count_feature_type': 'none'}. Best is trial 39 with value: 0.9207920792079208.\u001b[0m\n",
                  "[nltk_data] Downloading package punkt to /home/jovyan/nltk_data...\n",
                  "[nltk_data]   Package punkt is already up-to-date!\n",
                  "Some weights of the model checkpoint at bert-base-uncased were not used when initializing BertModel: ['cls.predictions.transform.dense.weight', 'cls.predictions.bias', 'cls.predictions.transform.dense.bias', 'cls.seq_relationship.weight', 'cls.predictions.decoder.weight', 'cls.seq_relationship.bias', 'cls.predictions.transform.LayerNorm.weight', 'cls.predictions.transform.LayerNorm.bias']\n",
                  "- This IS expected if you are initializing BertModel from the checkpoint of a model trained on another task or with another architecture (e.g. initializing a BertForSequenceClassification model from a BertForPreTraining model).\n",
                  "- This IS NOT expected if you are initializing BertModel from the checkpoint of a model that you expect to be exactly identical (initializing a BertForSequenceClassification model from a BertForSequenceClassification model).\n",
                  "[nltk_data] Downloading package punkt to /home/jovyan/nltk_data...\n",
                  "[nltk_data]   Package punkt is already up-to-date!\n"
               ]
            },
            {
               "name": "stdout",
               "output_type": "stream",
               "text": [
                  "0\n",
                  "1\n",
                  "2\n",
                  "3\n",
                  "4\n",
                  "5\n"
               ]
            },
            {
               "name": "stderr",
               "output_type": "stream",
               "text": [
                  "\u001b[32m[I 2022-03-27 18:12:21,630]\u001b[0m Trial 41 finished with value: 0.72 and parameters: {'stopwords_type': 'wstop', 'from_selection': True, 'pos_feature_type': 'sum', 'tag_feature_type': 'none', 'word_count_feature_type': 'count_words'}. Best is trial 39 with value: 0.9207920792079208.\u001b[0m\n"
               ]
            },
            {
               "name": "stdout",
               "output_type": "stream",
               "text": [
                  "2\n"
               ]
            },
            {
               "name": "stderr",
               "output_type": "stream",
               "text": [
                  "[nltk_data] Downloading package punkt to /home/jovyan/nltk_data...\n",
                  "[nltk_data]   Package punkt is already up-to-date!\n",
                  "Some weights of the model checkpoint at bert-base-uncased were not used when initializing BertModel: ['cls.predictions.transform.dense.weight', 'cls.predictions.bias', 'cls.predictions.transform.dense.bias', 'cls.seq_relationship.weight', 'cls.predictions.decoder.weight', 'cls.seq_relationship.bias', 'cls.predictions.transform.LayerNorm.weight', 'cls.predictions.transform.LayerNorm.bias']\n",
                  "- This IS expected if you are initializing BertModel from the checkpoint of a model trained on another task or with another architecture (e.g. initializing a BertForSequenceClassification model from a BertForPreTraining model).\n",
                  "- This IS NOT expected if you are initializing BertModel from the checkpoint of a model that you expect to be exactly identical (initializing a BertForSequenceClassification model from a BertForSequenceClassification model).\n",
                  "[nltk_data] Downloading package punkt to /home/jovyan/nltk_data...\n",
                  "[nltk_data]   Package punkt is already up-to-date!\n"
               ]
            },
            {
               "name": "stdout",
               "output_type": "stream",
               "text": [
                  "0\n",
                  "1\n",
                  "2\n",
                  "3\n",
                  "4\n",
                  "5\n",
                  "6\n",
                  "7\n",
                  "8\n"
               ]
            },
            {
               "name": "stderr",
               "output_type": "stream",
               "text": [
                  "\u001b[32m[I 2022-03-27 18:17:42,702]\u001b[0m Trial 42 finished with value: 0.7227722772277227 and parameters: {'stopwords_type': 'wostop', 'from_selection': True, 'pos_feature_type': 'onehot', 'tag_feature_type': 'sum', 'word_count_feature_type': 'count_words'}. Best is trial 39 with value: 0.9207920792079208.\u001b[0m\n"
               ]
            },
            {
               "name": "stdout",
               "output_type": "stream",
               "text": [
                  "2\n",
                  "2\n"
               ]
            },
            {
               "name": "stderr",
               "output_type": "stream",
               "text": [
                  "[nltk_data] Downloading package punkt to /home/jovyan/nltk_data...\n",
                  "[nltk_data]   Package punkt is already up-to-date!\n",
                  "Some weights of the model checkpoint at bert-base-uncased were not used when initializing BertModel: ['cls.predictions.transform.dense.weight', 'cls.predictions.bias', 'cls.predictions.transform.dense.bias', 'cls.seq_relationship.weight', 'cls.predictions.decoder.weight', 'cls.seq_relationship.bias', 'cls.predictions.transform.LayerNorm.weight', 'cls.predictions.transform.LayerNorm.bias']\n",
                  "- This IS expected if you are initializing BertModel from the checkpoint of a model trained on another task or with another architecture (e.g. initializing a BertForSequenceClassification model from a BertForPreTraining model).\n",
                  "- This IS NOT expected if you are initializing BertModel from the checkpoint of a model that you expect to be exactly identical (initializing a BertForSequenceClassification model from a BertForSequenceClassification model).\n",
                  "[nltk_data] Downloading package punkt to /home/jovyan/nltk_data...\n",
                  "[nltk_data]   Package punkt is already up-to-date!\n"
               ]
            },
            {
               "name": "stdout",
               "output_type": "stream",
               "text": [
                  "0\n",
                  "1\n",
                  "2\n",
                  "3\n",
                  "4\n",
                  "5\n",
                  "6\n",
                  "7\n",
                  "8\n",
                  "9\n",
                  "10\n",
                  "11\n",
                  "12\n",
                  "13\n",
                  "14\n"
               ]
            },
            {
               "name": "stderr",
               "output_type": "stream",
               "text": [
                  "\u001b[32m[I 2022-03-27 18:26:18,118]\u001b[0m Trial 43 finished with value: 0.7227722772277227 and parameters: {'stopwords_type': 'wostop', 'from_selection': True, 'pos_feature_type': 'onehot', 'tag_feature_type': 'onehot', 'word_count_feature_type': 'none'}. Best is trial 39 with value: 0.9207920792079208.\u001b[0m\n"
               ]
            },
            {
               "name": "stdout",
               "output_type": "stream",
               "text": [
                  "2\n"
               ]
            },
            {
               "name": "stderr",
               "output_type": "stream",
               "text": [
                  "[nltk_data] Downloading package punkt to /home/jovyan/nltk_data...\n",
                  "[nltk_data]   Package punkt is already up-to-date!\n",
                  "Some weights of the model checkpoint at bert-base-uncased were not used when initializing BertModel: ['cls.predictions.transform.dense.weight', 'cls.predictions.bias', 'cls.predictions.transform.dense.bias', 'cls.seq_relationship.weight', 'cls.predictions.decoder.weight', 'cls.seq_relationship.bias', 'cls.predictions.transform.LayerNorm.weight', 'cls.predictions.transform.LayerNorm.bias']\n",
                  "- This IS expected if you are initializing BertModel from the checkpoint of a model trained on another task or with another architecture (e.g. initializing a BertForSequenceClassification model from a BertForPreTraining model).\n",
                  "- This IS NOT expected if you are initializing BertModel from the checkpoint of a model that you expect to be exactly identical (initializing a BertForSequenceClassification model from a BertForSequenceClassification model).\n",
                  "[nltk_data] Downloading package punkt to /home/jovyan/nltk_data...\n",
                  "[nltk_data]   Package punkt is already up-to-date!\n"
               ]
            },
            {
               "name": "stdout",
               "output_type": "stream",
               "text": [
                  "0\n",
                  "1\n",
                  "2\n",
                  "3\n",
                  "4\n",
                  "5\n",
                  "6\n",
                  "7\n",
                  "8\n",
                  "9\n",
                  "10\n"
               ]
            },
            {
               "name": "stderr",
               "output_type": "stream",
               "text": [
                  "\u001b[32m[I 2022-03-27 18:32:45,659]\u001b[0m Trial 44 finished with value: 0.6039603960396039 and parameters: {'stopwords_type': 'wostop', 'from_selection': True, 'pos_feature_type': 'sum', 'tag_feature_type': 'onehot', 'word_count_feature_type': 'count_words'}. Best is trial 39 with value: 0.9207920792079208.\u001b[0m\n"
               ]
            },
            {
               "name": "stdout",
               "output_type": "stream",
               "text": [
                  "4\n"
               ]
            },
            {
               "name": "stderr",
               "output_type": "stream",
               "text": [
                  "[nltk_data] Downloading package punkt to /home/jovyan/nltk_data...\n",
                  "[nltk_data]   Package punkt is already up-to-date!\n",
                  "Some weights of the model checkpoint at bert-base-uncased were not used when initializing BertModel: ['cls.predictions.transform.dense.weight', 'cls.predictions.bias', 'cls.predictions.transform.dense.bias', 'cls.seq_relationship.weight', 'cls.predictions.decoder.weight', 'cls.seq_relationship.bias', 'cls.predictions.transform.LayerNorm.weight', 'cls.predictions.transform.LayerNorm.bias']\n",
                  "- This IS expected if you are initializing BertModel from the checkpoint of a model trained on another task or with another architecture (e.g. initializing a BertForSequenceClassification model from a BertForPreTraining model).\n",
                  "- This IS NOT expected if you are initializing BertModel from the checkpoint of a model that you expect to be exactly identical (initializing a BertForSequenceClassification model from a BertForSequenceClassification model).\n",
                  "[nltk_data] Downloading package punkt to /home/jovyan/nltk_data...\n",
                  "[nltk_data]   Package punkt is already up-to-date!\n"
               ]
            },
            {
               "name": "stdout",
               "output_type": "stream",
               "text": [
                  "0\n",
                  "1\n",
                  "2\n",
                  "3\n",
                  "4\n",
                  "5\n"
               ]
            },
            {
               "name": "stderr",
               "output_type": "stream",
               "text": [
                  "\u001b[32m[I 2022-03-27 18:36:37,545]\u001b[0m Trial 45 finished with value: 0.7029702970297029 and parameters: {'stopwords_type': 'wstop', 'from_selection': True, 'pos_feature_type': 'onehot', 'tag_feature_type': 'sum', 'word_count_feature_type': 'none'}. Best is trial 39 with value: 0.9207920792079208.\u001b[0m\n"
               ]
            },
            {
               "name": "stdout",
               "output_type": "stream",
               "text": [
                  "19\n"
               ]
            },
            {
               "name": "stderr",
               "output_type": "stream",
               "text": [
                  "[nltk_data] Downloading package punkt to /home/jovyan/nltk_data...\n",
                  "[nltk_data]   Package punkt is already up-to-date!\n",
                  "Some weights of the model checkpoint at bert-base-uncased were not used when initializing BertModel: ['cls.predictions.transform.dense.weight', 'cls.predictions.bias', 'cls.predictions.transform.dense.bias', 'cls.seq_relationship.weight', 'cls.predictions.decoder.weight', 'cls.seq_relationship.bias', 'cls.predictions.transform.LayerNorm.weight', 'cls.predictions.transform.LayerNorm.bias']\n",
                  "- This IS expected if you are initializing BertModel from the checkpoint of a model trained on another task or with another architecture (e.g. initializing a BertForSequenceClassification model from a BertForPreTraining model).\n",
                  "- This IS NOT expected if you are initializing BertModel from the checkpoint of a model that you expect to be exactly identical (initializing a BertForSequenceClassification model from a BertForSequenceClassification model).\n",
                  "[nltk_data] Downloading package punkt to /home/jovyan/nltk_data...\n",
                  "[nltk_data]   Package punkt is already up-to-date!\n"
               ]
            },
            {
               "name": "stdout",
               "output_type": "stream",
               "text": [
                  "0\n",
                  "1\n",
                  "2\n",
                  "3\n",
                  "4\n",
                  "5\n",
                  "6\n",
                  "7\n",
                  "8\n"
               ]
            },
            {
               "name": "stderr",
               "output_type": "stream",
               "text": [
                  "\u001b[32m[I 2022-03-27 18:41:44,832]\u001b[0m Trial 46 finished with value: 0.7326732673267327 and parameters: {'stopwords_type': 'wostop', 'from_selection': False, 'pos_feature_type': 'onehot', 'tag_feature_type': 'none', 'word_count_feature_type': 'count_words'}. Best is trial 39 with value: 0.9207920792079208.\u001b[0m\n",
                  "[nltk_data] Downloading package punkt to /home/jovyan/nltk_data...\n",
                  "[nltk_data]   Package punkt is already up-to-date!\n",
                  "Some weights of the model checkpoint at bert-base-uncased were not used when initializing BertModel: ['cls.predictions.transform.dense.weight', 'cls.predictions.bias', 'cls.predictions.transform.dense.bias', 'cls.seq_relationship.weight', 'cls.predictions.decoder.weight', 'cls.seq_relationship.bias', 'cls.predictions.transform.LayerNorm.weight', 'cls.predictions.transform.LayerNorm.bias']\n",
                  "- This IS expected if you are initializing BertModel from the checkpoint of a model trained on another task or with another architecture (e.g. initializing a BertForSequenceClassification model from a BertForPreTraining model).\n",
                  "- This IS NOT expected if you are initializing BertModel from the checkpoint of a model that you expect to be exactly identical (initializing a BertForSequenceClassification model from a BertForSequenceClassification model).\n",
                  "[nltk_data] Downloading package punkt to /home/jovyan/nltk_data...\n",
                  "[nltk_data]   Package punkt is already up-to-date!\n"
               ]
            },
            {
               "name": "stdout",
               "output_type": "stream",
               "text": [
                  "0\n",
                  "1\n",
                  "2\n",
                  "3\n",
                  "4\n",
                  "5\n",
                  "6\n",
                  "7\n",
                  "8\n",
                  "9\n",
                  "10\n",
                  "11\n",
                  "12\n",
                  "13\n"
               ]
            },
            {
               "name": "stderr",
               "output_type": "stream",
               "text": [
                  "\u001b[32m[I 2022-03-27 18:49:25,155]\u001b[0m Trial 47 finished with value: 0.5252525252525253 and parameters: {'stopwords_type': 'wostop', 'from_selection': False, 'pos_feature_type': 'sum', 'tag_feature_type': 'none', 'word_count_feature_type': 'none'}. Best is trial 39 with value: 0.9207920792079208.\u001b[0m\n"
               ]
            },
            {
               "name": "stdout",
               "output_type": "stream",
               "text": [
                  "4\n",
                  "6\n"
               ]
            },
            {
               "name": "stderr",
               "output_type": "stream",
               "text": [
                  "[nltk_data] Downloading package punkt to /home/jovyan/nltk_data...\n",
                  "[nltk_data]   Package punkt is already up-to-date!\n",
                  "Some weights of the model checkpoint at bert-base-uncased were not used when initializing BertModel: ['cls.predictions.transform.dense.weight', 'cls.predictions.bias', 'cls.predictions.transform.dense.bias', 'cls.seq_relationship.weight', 'cls.predictions.decoder.weight', 'cls.seq_relationship.bias', 'cls.predictions.transform.LayerNorm.weight', 'cls.predictions.transform.LayerNorm.bias']\n",
                  "- This IS expected if you are initializing BertModel from the checkpoint of a model trained on another task or with another architecture (e.g. initializing a BertForSequenceClassification model from a BertForPreTraining model).\n",
                  "- This IS NOT expected if you are initializing BertModel from the checkpoint of a model that you expect to be exactly identical (initializing a BertForSequenceClassification model from a BertForSequenceClassification model).\n",
                  "[nltk_data] Downloading package punkt to /home/jovyan/nltk_data...\n",
                  "[nltk_data]   Package punkt is already up-to-date!\n"
               ]
            },
            {
               "name": "stdout",
               "output_type": "stream",
               "text": [
                  "0\n",
                  "1\n",
                  "2\n",
                  "3\n",
                  "4\n",
                  "5\n",
                  "6\n",
                  "7\n"
               ]
            },
            {
               "name": "stderr",
               "output_type": "stream",
               "text": [
                  "\u001b[32m[I 2022-03-27 18:54:27,760]\u001b[0m Trial 48 finished with value: 0.7647058823529411 and parameters: {'stopwords_type': 'wstop', 'from_selection': True, 'pos_feature_type': 'onehot', 'tag_feature_type': 'onehot', 'word_count_feature_type': 'count_words'}. Best is trial 39 with value: 0.9207920792079208.\u001b[0m\n",
                  "[nltk_data] Downloading package punkt to /home/jovyan/nltk_data...\n",
                  "[nltk_data]   Package punkt is already up-to-date!\n",
                  "Some weights of the model checkpoint at bert-base-uncased were not used when initializing BertModel: ['cls.predictions.transform.dense.weight', 'cls.predictions.bias', 'cls.predictions.transform.dense.bias', 'cls.seq_relationship.weight', 'cls.predictions.decoder.weight', 'cls.seq_relationship.bias', 'cls.predictions.transform.LayerNorm.weight', 'cls.predictions.transform.LayerNorm.bias']\n",
                  "- This IS expected if you are initializing BertModel from the checkpoint of a model trained on another task or with another architecture (e.g. initializing a BertForSequenceClassification model from a BertForPreTraining model).\n",
                  "- This IS NOT expected if you are initializing BertModel from the checkpoint of a model that you expect to be exactly identical (initializing a BertForSequenceClassification model from a BertForSequenceClassification model).\n",
                  "[nltk_data] Downloading package punkt to /home/jovyan/nltk_data...\n",
                  "[nltk_data]   Package punkt is already up-to-date!\n"
               ]
            },
            {
               "name": "stdout",
               "output_type": "stream",
               "text": [
                  "0\n",
                  "1\n",
                  "2\n",
                  "3\n",
                  "4\n",
                  "5\n"
               ]
            },
            {
               "name": "stderr",
               "output_type": "stream",
               "text": [
                  "\u001b[32m[I 2022-03-27 18:57:52,433]\u001b[0m Trial 49 finished with value: 0.8415841584158416 and parameters: {'stopwords_type': 'wstop', 'from_selection': False, 'pos_feature_type': 'none', 'tag_feature_type': 'none', 'word_count_feature_type': 'none'}. Best is trial 39 with value: 0.9207920792079208.\u001b[0m\n",
                  "[nltk_data] Downloading package punkt to /home/jovyan/nltk_data...\n",
                  "[nltk_data]   Package punkt is already up-to-date!\n",
                  "Some weights of the model checkpoint at bert-base-uncased were not used when initializing BertModel: ['cls.predictions.transform.dense.weight', 'cls.predictions.bias', 'cls.predictions.transform.dense.bias', 'cls.seq_relationship.weight', 'cls.predictions.decoder.weight', 'cls.seq_relationship.bias', 'cls.predictions.transform.LayerNorm.weight', 'cls.predictions.transform.LayerNorm.bias']\n",
                  "- This IS expected if you are initializing BertModel from the checkpoint of a model trained on another task or with another architecture (e.g. initializing a BertForSequenceClassification model from a BertForPreTraining model).\n",
                  "- This IS NOT expected if you are initializing BertModel from the checkpoint of a model that you expect to be exactly identical (initializing a BertForSequenceClassification model from a BertForSequenceClassification model).\n",
                  "[nltk_data] Downloading package punkt to /home/jovyan/nltk_data...\n",
                  "[nltk_data]   Package punkt is already up-to-date!\n"
               ]
            },
            {
               "name": "stdout",
               "output_type": "stream",
               "text": [
                  "0\n",
                  "1\n",
                  "2\n",
                  "3\n",
                  "4\n",
                  "5\n",
                  "6\n",
                  "7\n",
                  "8\n",
                  "9\n",
                  "10\n"
               ]
            },
            {
               "name": "stderr",
               "output_type": "stream",
               "text": [
                  "\u001b[32m[I 2022-03-27 19:03:55,039]\u001b[0m Trial 50 finished with value: 0.7722772277227723 and parameters: {'stopwords_type': 'wstop', 'from_selection': False, 'pos_feature_type': 'none', 'tag_feature_type': 'none', 'word_count_feature_type': 'count_words'}. Best is trial 39 with value: 0.9207920792079208.\u001b[0m\n"
               ]
            },
            {
               "name": "stdout",
               "output_type": "stream",
               "text": [
                  "2\n",
                  "2\n"
               ]
            },
            {
               "name": "stderr",
               "output_type": "stream",
               "text": [
                  "[nltk_data] Downloading package punkt to /home/jovyan/nltk_data...\n",
                  "[nltk_data]   Package punkt is already up-to-date!\n",
                  "Some weights of the model checkpoint at bert-base-uncased were not used when initializing BertModel: ['cls.predictions.transform.dense.weight', 'cls.predictions.bias', 'cls.predictions.transform.dense.bias', 'cls.seq_relationship.weight', 'cls.predictions.decoder.weight', 'cls.seq_relationship.bias', 'cls.predictions.transform.LayerNorm.weight', 'cls.predictions.transform.LayerNorm.bias']\n",
                  "- This IS expected if you are initializing BertModel from the checkpoint of a model trained on another task or with another architecture (e.g. initializing a BertForSequenceClassification model from a BertForPreTraining model).\n",
                  "- This IS NOT expected if you are initializing BertModel from the checkpoint of a model that you expect to be exactly identical (initializing a BertForSequenceClassification model from a BertForSequenceClassification model).\n",
                  "[nltk_data] Downloading package punkt to /home/jovyan/nltk_data...\n",
                  "[nltk_data]   Package punkt is already up-to-date!\n"
               ]
            },
            {
               "name": "stdout",
               "output_type": "stream",
               "text": [
                  "0\n",
                  "1\n",
                  "2\n",
                  "3\n",
                  "4\n",
                  "5\n",
                  "6\n",
                  "7\n",
                  "8\n",
                  "9\n"
               ]
            },
            {
               "name": "stderr",
               "output_type": "stream",
               "text": [
                  "\u001b[32m[I 2022-03-27 19:09:48,747]\u001b[0m Trial 51 finished with value: 0.7254901960784313 and parameters: {'stopwords_type': 'wostop', 'from_selection': True, 'pos_feature_type': 'onehot', 'tag_feature_type': 'onehot', 'word_count_feature_type': 'count_words'}. Best is trial 39 with value: 0.9207920792079208.\u001b[0m\n"
               ]
            },
            {
               "name": "stdout",
               "output_type": "stream",
               "text": [
                  "19\n"
               ]
            },
            {
               "name": "stderr",
               "output_type": "stream",
               "text": [
                  "[nltk_data] Downloading package punkt to /home/jovyan/nltk_data...\n",
                  "[nltk_data]   Package punkt is already up-to-date!\n",
                  "Some weights of the model checkpoint at bert-base-uncased were not used when initializing BertModel: ['cls.predictions.transform.dense.weight', 'cls.predictions.bias', 'cls.predictions.transform.dense.bias', 'cls.seq_relationship.weight', 'cls.predictions.decoder.weight', 'cls.seq_relationship.bias', 'cls.predictions.transform.LayerNorm.weight', 'cls.predictions.transform.LayerNorm.bias']\n",
                  "- This IS expected if you are initializing BertModel from the checkpoint of a model trained on another task or with another architecture (e.g. initializing a BertForSequenceClassification model from a BertForPreTraining model).\n",
                  "- This IS NOT expected if you are initializing BertModel from the checkpoint of a model that you expect to be exactly identical (initializing a BertForSequenceClassification model from a BertForSequenceClassification model).\n",
                  "[nltk_data] Downloading package punkt to /home/jovyan/nltk_data...\n",
                  "[nltk_data]   Package punkt is already up-to-date!\n"
               ]
            },
            {
               "name": "stdout",
               "output_type": "stream",
               "text": [
                  "0\n",
                  "1\n",
                  "2\n",
                  "3\n",
                  "4\n",
                  "5\n",
                  "6\n",
                  "7\n",
                  "8\n"
               ]
            },
            {
               "name": "stderr",
               "output_type": "stream",
               "text": [
                  "\u001b[32m[I 2022-03-27 19:15:12,362]\u001b[0m Trial 52 finished with value: 0.6633663366336634 and parameters: {'stopwords_type': 'wostop', 'from_selection': False, 'pos_feature_type': 'onehot', 'tag_feature_type': 'sum', 'word_count_feature_type': 'count_words'}. Best is trial 39 with value: 0.9207920792079208.\u001b[0m\n",
                  "[nltk_data] Downloading package punkt to /home/jovyan/nltk_data...\n",
                  "[nltk_data]   Package punkt is already up-to-date!\n",
                  "Some weights of the model checkpoint at bert-base-uncased were not used when initializing BertModel: ['cls.predictions.transform.dense.weight', 'cls.predictions.bias', 'cls.predictions.transform.dense.bias', 'cls.seq_relationship.weight', 'cls.predictions.decoder.weight', 'cls.seq_relationship.bias', 'cls.predictions.transform.LayerNorm.weight', 'cls.predictions.transform.LayerNorm.bias']\n",
                  "- This IS expected if you are initializing BertModel from the checkpoint of a model trained on another task or with another architecture (e.g. initializing a BertForSequenceClassification model from a BertForPreTraining model).\n",
                  "- This IS NOT expected if you are initializing BertModel from the checkpoint of a model that you expect to be exactly identical (initializing a BertForSequenceClassification model from a BertForSequenceClassification model).\n",
                  "[nltk_data] Downloading package punkt to /home/jovyan/nltk_data...\n",
                  "[nltk_data]   Package punkt is already up-to-date!\n"
               ]
            },
            {
               "name": "stdout",
               "output_type": "stream",
               "text": [
                  "0\n",
                  "1\n",
                  "2\n",
                  "3\n",
                  "4\n",
                  "5\n",
                  "6\n",
                  "7\n",
                  "8\n",
                  "9\n",
                  "10\n"
               ]
            },
            {
               "name": "stderr",
               "output_type": "stream",
               "text": [
                  "\u001b[32m[I 2022-03-27 19:21:25,054]\u001b[0m Trial 53 finished with value: 0.67 and parameters: {'stopwords_type': 'wostop', 'from_selection': False, 'pos_feature_type': 'sum', 'tag_feature_type': 'none', 'word_count_feature_type': 'count_words'}. Best is trial 39 with value: 0.9207920792079208.\u001b[0m\n",
                  "[nltk_data] Downloading package punkt to /home/jovyan/nltk_data...\n",
                  "[nltk_data]   Package punkt is already up-to-date!\n",
                  "Some weights of the model checkpoint at bert-base-uncased were not used when initializing BertModel: ['cls.predictions.transform.dense.weight', 'cls.predictions.bias', 'cls.predictions.transform.dense.bias', 'cls.seq_relationship.weight', 'cls.predictions.decoder.weight', 'cls.seq_relationship.bias', 'cls.predictions.transform.LayerNorm.weight', 'cls.predictions.transform.LayerNorm.bias']\n",
                  "- This IS expected if you are initializing BertModel from the checkpoint of a model trained on another task or with another architecture (e.g. initializing a BertForSequenceClassification model from a BertForPreTraining model).\n",
                  "- This IS NOT expected if you are initializing BertModel from the checkpoint of a model that you expect to be exactly identical (initializing a BertForSequenceClassification model from a BertForSequenceClassification model).\n",
                  "[nltk_data] Downloading package punkt to /home/jovyan/nltk_data...\n",
                  "[nltk_data]   Package punkt is already up-to-date!\n"
               ]
            },
            {
               "name": "stdout",
               "output_type": "stream",
               "text": [
                  "0\n",
                  "1\n",
                  "2\n",
                  "3\n",
                  "4\n",
                  "5\n",
                  "6\n",
                  "7\n",
                  "8\n",
                  "9\n",
                  "10\n",
                  "11\n",
                  "12\n",
                  "13\n",
                  "14\n",
                  "15\n"
               ]
            },
            {
               "name": "stderr",
               "output_type": "stream",
               "text": [
                  "\u001b[32m[I 2022-03-27 19:30:40,958]\u001b[0m Trial 54 finished with value: 0.5841584158415841 and parameters: {'stopwords_type': 'wostop', 'from_selection': False, 'pos_feature_type': 'sum', 'tag_feature_type': 'sum', 'word_count_feature_type': 'none'}. Best is trial 39 with value: 0.9207920792079208.\u001b[0m\n",
                  "[nltk_data] Downloading package punkt to /home/jovyan/nltk_data...\n",
                  "[nltk_data]   Package punkt is already up-to-date!\n",
                  "Some weights of the model checkpoint at bert-base-uncased were not used when initializing BertModel: ['cls.predictions.transform.dense.weight', 'cls.predictions.bias', 'cls.predictions.transform.dense.bias', 'cls.seq_relationship.weight', 'cls.predictions.decoder.weight', 'cls.seq_relationship.bias', 'cls.predictions.transform.LayerNorm.weight', 'cls.predictions.transform.LayerNorm.bias']\n",
                  "- This IS expected if you are initializing BertModel from the checkpoint of a model trained on another task or with another architecture (e.g. initializing a BertForSequenceClassification model from a BertForPreTraining model).\n",
                  "- This IS NOT expected if you are initializing BertModel from the checkpoint of a model that you expect to be exactly identical (initializing a BertForSequenceClassification model from a BertForSequenceClassification model).\n",
                  "[nltk_data] Downloading package punkt to /home/jovyan/nltk_data...\n",
                  "[nltk_data]   Package punkt is already up-to-date!\n"
               ]
            },
            {
               "name": "stdout",
               "output_type": "stream",
               "text": [
                  "0\n",
                  "1\n",
                  "2\n",
                  "3\n",
                  "4\n",
                  "5\n",
                  "6\n",
                  "7\n"
               ]
            },
            {
               "name": "stderr",
               "output_type": "stream",
               "text": [
                  "\u001b[32m[I 2022-03-27 19:35:02,238]\u001b[0m Trial 55 finished with value: 0.6363636363636364 and parameters: {'stopwords_type': 'wostop', 'from_selection': False, 'pos_feature_type': 'none', 'tag_feature_type': 'none', 'word_count_feature_type': 'count_words'}. Best is trial 39 with value: 0.9207920792079208.\u001b[0m\n"
               ]
            },
            {
               "name": "stdout",
               "output_type": "stream",
               "text": [
                  "49\n"
               ]
            },
            {
               "name": "stderr",
               "output_type": "stream",
               "text": [
                  "[nltk_data] Downloading package punkt to /home/jovyan/nltk_data...\n",
                  "[nltk_data]   Package punkt is already up-to-date!\n",
                  "Some weights of the model checkpoint at bert-base-uncased were not used when initializing BertModel: ['cls.predictions.transform.dense.weight', 'cls.predictions.bias', 'cls.predictions.transform.dense.bias', 'cls.seq_relationship.weight', 'cls.predictions.decoder.weight', 'cls.seq_relationship.bias', 'cls.predictions.transform.LayerNorm.weight', 'cls.predictions.transform.LayerNorm.bias']\n",
                  "- This IS expected if you are initializing BertModel from the checkpoint of a model trained on another task or with another architecture (e.g. initializing a BertForSequenceClassification model from a BertForPreTraining model).\n",
                  "- This IS NOT expected if you are initializing BertModel from the checkpoint of a model that you expect to be exactly identical (initializing a BertForSequenceClassification model from a BertForSequenceClassification model).\n",
                  "[nltk_data] Downloading package punkt to /home/jovyan/nltk_data...\n",
                  "[nltk_data]   Package punkt is already up-to-date!\n"
               ]
            },
            {
               "name": "stdout",
               "output_type": "stream",
               "text": [
                  "0\n",
                  "1\n",
                  "2\n",
                  "3\n",
                  "4\n",
                  "5\n",
                  "6\n",
                  "7\n",
                  "8\n",
                  "9\n",
                  "10\n",
                  "11\n",
                  "12\n",
                  "13\n",
                  "14\n",
                  "15\n"
               ]
            },
            {
               "name": "stderr",
               "output_type": "stream",
               "text": [
                  "\u001b[32m[I 2022-03-27 19:43:58,580]\u001b[0m Trial 56 finished with value: 0.7575757575757576 and parameters: {'stopwords_type': 'wostop', 'from_selection': False, 'pos_feature_type': 'none', 'tag_feature_type': 'onehot', 'word_count_feature_type': 'count_words'}. Best is trial 39 with value: 0.9207920792079208.\u001b[0m\n",
                  "[nltk_data] Downloading package punkt to /home/jovyan/nltk_data...\n",
                  "[nltk_data]   Package punkt is already up-to-date!\n",
                  "Some weights of the model checkpoint at bert-base-uncased were not used when initializing BertModel: ['cls.predictions.transform.dense.weight', 'cls.predictions.bias', 'cls.predictions.transform.dense.bias', 'cls.seq_relationship.weight', 'cls.predictions.decoder.weight', 'cls.seq_relationship.bias', 'cls.predictions.transform.LayerNorm.weight', 'cls.predictions.transform.LayerNorm.bias']\n",
                  "- This IS expected if you are initializing BertModel from the checkpoint of a model trained on another task or with another architecture (e.g. initializing a BertForSequenceClassification model from a BertForPreTraining model).\n",
                  "- This IS NOT expected if you are initializing BertModel from the checkpoint of a model that you expect to be exactly identical (initializing a BertForSequenceClassification model from a BertForSequenceClassification model).\n",
                  "[nltk_data] Downloading package punkt to /home/jovyan/nltk_data...\n",
                  "[nltk_data]   Package punkt is already up-to-date!\n"
               ]
            },
            {
               "name": "stdout",
               "output_type": "stream",
               "text": [
                  "0\n",
                  "1\n",
                  "2\n",
                  "3\n",
                  "4\n",
                  "5\n",
                  "6\n",
                  "7\n",
                  "8\n"
               ]
            },
            {
               "name": "stderr",
               "output_type": "stream",
               "text": [
                  "\u001b[32m[I 2022-03-27 19:49:03,240]\u001b[0m Trial 57 finished with value: 0.75 and parameters: {'stopwords_type': 'wostop', 'from_selection': True, 'pos_feature_type': 'none', 'tag_feature_type': 'sum', 'word_count_feature_type': 'none'}. Best is trial 39 with value: 0.9207920792079208.\u001b[0m\n"
               ]
            },
            {
               "name": "stdout",
               "output_type": "stream",
               "text": [
                  "2\n"
               ]
            },
            {
               "name": "stderr",
               "output_type": "stream",
               "text": [
                  "[nltk_data] Downloading package punkt to /home/jovyan/nltk_data...\n",
                  "[nltk_data]   Package punkt is already up-to-date!\n",
                  "Some weights of the model checkpoint at bert-base-uncased were not used when initializing BertModel: ['cls.predictions.transform.dense.weight', 'cls.predictions.bias', 'cls.predictions.transform.dense.bias', 'cls.seq_relationship.weight', 'cls.predictions.decoder.weight', 'cls.seq_relationship.bias', 'cls.predictions.transform.LayerNorm.weight', 'cls.predictions.transform.LayerNorm.bias']\n",
                  "- This IS expected if you are initializing BertModel from the checkpoint of a model trained on another task or with another architecture (e.g. initializing a BertForSequenceClassification model from a BertForPreTraining model).\n",
                  "- This IS NOT expected if you are initializing BertModel from the checkpoint of a model that you expect to be exactly identical (initializing a BertForSequenceClassification model from a BertForSequenceClassification model).\n",
                  "[nltk_data] Downloading package punkt to /home/jovyan/nltk_data...\n",
                  "[nltk_data]   Package punkt is already up-to-date!\n"
               ]
            },
            {
               "name": "stdout",
               "output_type": "stream",
               "text": [
                  "0\n",
                  "1\n",
                  "2\n",
                  "3\n",
                  "4\n",
                  "5\n",
                  "6\n",
                  "7\n",
                  "8\n",
                  "9\n",
                  "10\n",
                  "11\n",
                  "12\n",
                  "13\n",
                  "14\n",
                  "15\n"
               ]
            },
            {
               "name": "stderr",
               "output_type": "stream",
               "text": [
                  "\u001b[32m[I 2022-03-27 19:57:51,233]\u001b[0m Trial 58 finished with value: 0.7920792079207921 and parameters: {'stopwords_type': 'wostop', 'from_selection': True, 'pos_feature_type': 'onehot', 'tag_feature_type': 'none', 'word_count_feature_type': 'none'}. Best is trial 39 with value: 0.9207920792079208.\u001b[0m\n",
                  "[nltk_data] Downloading package punkt to /home/jovyan/nltk_data...\n",
                  "[nltk_data]   Package punkt is already up-to-date!\n",
                  "Some weights of the model checkpoint at bert-base-uncased were not used when initializing BertModel: ['cls.predictions.transform.dense.weight', 'cls.predictions.bias', 'cls.predictions.transform.dense.bias', 'cls.seq_relationship.weight', 'cls.predictions.decoder.weight', 'cls.seq_relationship.bias', 'cls.predictions.transform.LayerNorm.weight', 'cls.predictions.transform.LayerNorm.bias']\n",
                  "- This IS expected if you are initializing BertModel from the checkpoint of a model trained on another task or with another architecture (e.g. initializing a BertForSequenceClassification model from a BertForPreTraining model).\n",
                  "- This IS NOT expected if you are initializing BertModel from the checkpoint of a model that you expect to be exactly identical (initializing a BertForSequenceClassification model from a BertForSequenceClassification model).\n",
                  "[nltk_data] Downloading package punkt to /home/jovyan/nltk_data...\n",
                  "[nltk_data]   Package punkt is already up-to-date!\n"
               ]
            },
            {
               "name": "stdout",
               "output_type": "stream",
               "text": [
                  "0\n",
                  "1\n",
                  "2\n",
                  "3\n",
                  "4\n",
                  "5\n",
                  "6\n"
               ]
            },
            {
               "name": "stderr",
               "output_type": "stream",
               "text": [
                  "\u001b[32m[I 2022-03-27 20:02:10,155]\u001b[0m Trial 59 finished with value: 0.53 and parameters: {'stopwords_type': 'wostop', 'from_selection': False, 'pos_feature_type': 'sum', 'tag_feature_type': 'sum', 'word_count_feature_type': 'count_words'}. Best is trial 39 with value: 0.9207920792079208.\u001b[0m\n",
                  "[nltk_data] Downloading package punkt to /home/jovyan/nltk_data...\n",
                  "[nltk_data]   Package punkt is already up-to-date!\n",
                  "Some weights of the model checkpoint at bert-base-uncased were not used when initializing BertModel: ['cls.predictions.transform.dense.weight', 'cls.predictions.bias', 'cls.predictions.transform.dense.bias', 'cls.seq_relationship.weight', 'cls.predictions.decoder.weight', 'cls.seq_relationship.bias', 'cls.predictions.transform.LayerNorm.weight', 'cls.predictions.transform.LayerNorm.bias']\n",
                  "- This IS expected if you are initializing BertModel from the checkpoint of a model trained on another task or with another architecture (e.g. initializing a BertForSequenceClassification model from a BertForPreTraining model).\n",
                  "- This IS NOT expected if you are initializing BertModel from the checkpoint of a model that you expect to be exactly identical (initializing a BertForSequenceClassification model from a BertForSequenceClassification model).\n",
                  "[nltk_data] Downloading package punkt to /home/jovyan/nltk_data...\n",
                  "[nltk_data]   Package punkt is already up-to-date!\n"
               ]
            },
            {
               "name": "stdout",
               "output_type": "stream",
               "text": [
                  "0\n",
                  "1\n",
                  "2\n",
                  "3\n",
                  "4\n",
                  "5\n",
                  "6\n",
                  "7\n",
                  "8\n",
                  "9\n",
                  "10\n",
                  "11\n",
                  "12\n",
                  "13\n",
                  "14\n",
                  "15\n"
               ]
            },
            {
               "name": "stderr",
               "output_type": "stream",
               "text": [
                  "\u001b[32m[I 2022-03-27 20:11:56,201]\u001b[0m Trial 60 finished with value: 0.6262626262626263 and parameters: {'stopwords_type': 'wstop', 'from_selection': False, 'pos_feature_type': 'sum', 'tag_feature_type': 'sum', 'word_count_feature_type': 'none'}. Best is trial 39 with value: 0.9207920792079208.\u001b[0m\n"
               ]
            },
            {
               "name": "stdout",
               "output_type": "stream",
               "text": [
                  "6\n"
               ]
            },
            {
               "name": "stderr",
               "output_type": "stream",
               "text": [
                  "[nltk_data] Downloading package punkt to /home/jovyan/nltk_data...\n",
                  "[nltk_data]   Package punkt is already up-to-date!\n",
                  "Some weights of the model checkpoint at bert-base-uncased were not used when initializing BertModel: ['cls.predictions.transform.dense.weight', 'cls.predictions.bias', 'cls.predictions.transform.dense.bias', 'cls.seq_relationship.weight', 'cls.predictions.decoder.weight', 'cls.seq_relationship.bias', 'cls.predictions.transform.LayerNorm.weight', 'cls.predictions.transform.LayerNorm.bias']\n",
                  "- This IS expected if you are initializing BertModel from the checkpoint of a model trained on another task or with another architecture (e.g. initializing a BertForSequenceClassification model from a BertForPreTraining model).\n",
                  "- This IS NOT expected if you are initializing BertModel from the checkpoint of a model that you expect to be exactly identical (initializing a BertForSequenceClassification model from a BertForSequenceClassification model).\n",
                  "[nltk_data] Downloading package punkt to /home/jovyan/nltk_data...\n",
                  "[nltk_data]   Package punkt is already up-to-date!\n"
               ]
            },
            {
               "name": "stdout",
               "output_type": "stream",
               "text": [
                  "0\n",
                  "1\n",
                  "2\n",
                  "3\n",
                  "4\n",
                  "5\n",
                  "6\n"
               ]
            },
            {
               "name": "stderr",
               "output_type": "stream",
               "text": [
                  "\u001b[32m[I 2022-03-27 20:16:27,146]\u001b[0m Trial 61 finished with value: 0.7227722772277227 and parameters: {'stopwords_type': 'wstop', 'from_selection': True, 'pos_feature_type': 'sum', 'tag_feature_type': 'onehot', 'word_count_feature_type': 'none'}. Best is trial 39 with value: 0.9207920792079208.\u001b[0m\n"
               ]
            },
            {
               "name": "stdout",
               "output_type": "stream",
               "text": [
                  "6\n"
               ]
            },
            {
               "name": "stderr",
               "output_type": "stream",
               "text": [
                  "[nltk_data] Downloading package punkt to /home/jovyan/nltk_data...\n",
                  "[nltk_data]   Package punkt is already up-to-date!\n",
                  "Some weights of the model checkpoint at bert-base-uncased were not used when initializing BertModel: ['cls.predictions.transform.dense.weight', 'cls.predictions.bias', 'cls.predictions.transform.dense.bias', 'cls.seq_relationship.weight', 'cls.predictions.decoder.weight', 'cls.seq_relationship.bias', 'cls.predictions.transform.LayerNorm.weight', 'cls.predictions.transform.LayerNorm.bias']\n",
                  "- This IS expected if you are initializing BertModel from the checkpoint of a model trained on another task or with another architecture (e.g. initializing a BertForSequenceClassification model from a BertForPreTraining model).\n",
                  "- This IS NOT expected if you are initializing BertModel from the checkpoint of a model that you expect to be exactly identical (initializing a BertForSequenceClassification model from a BertForSequenceClassification model).\n",
                  "[nltk_data] Downloading package punkt to /home/jovyan/nltk_data...\n",
                  "[nltk_data]   Package punkt is already up-to-date!\n"
               ]
            },
            {
               "name": "stdout",
               "output_type": "stream",
               "text": [
                  "0\n",
                  "1\n",
                  "2\n",
                  "3\n",
                  "4\n",
                  "5\n",
                  "6\n",
                  "7\n"
               ]
            },
            {
               "name": "stderr",
               "output_type": "stream",
               "text": [
                  "\u001b[32m[I 2022-03-27 20:21:29,431]\u001b[0m Trial 62 finished with value: 0.43 and parameters: {'stopwords_type': 'wstop', 'from_selection': True, 'pos_feature_type': 'sum', 'tag_feature_type': 'onehot', 'word_count_feature_type': 'count_words'}. Best is trial 39 with value: 0.9207920792079208.\u001b[0m\n",
                  "[nltk_data] Downloading package punkt to /home/jovyan/nltk_data...\n",
                  "[nltk_data]   Package punkt is already up-to-date!\n",
                  "Some weights of the model checkpoint at bert-base-uncased were not used when initializing BertModel: ['cls.predictions.transform.dense.weight', 'cls.predictions.bias', 'cls.predictions.transform.dense.bias', 'cls.seq_relationship.weight', 'cls.predictions.decoder.weight', 'cls.seq_relationship.bias', 'cls.predictions.transform.LayerNorm.weight', 'cls.predictions.transform.LayerNorm.bias']\n",
                  "- This IS expected if you are initializing BertModel from the checkpoint of a model trained on another task or with another architecture (e.g. initializing a BertForSequenceClassification model from a BertForPreTraining model).\n",
                  "- This IS NOT expected if you are initializing BertModel from the checkpoint of a model that you expect to be exactly identical (initializing a BertForSequenceClassification model from a BertForSequenceClassification model).\n",
                  "[nltk_data] Downloading package punkt to /home/jovyan/nltk_data...\n",
                  "[nltk_data]   Package punkt is already up-to-date!\n"
               ]
            },
            {
               "name": "stdout",
               "output_type": "stream",
               "text": [
                  "0\n",
                  "1\n",
                  "2\n",
                  "3\n",
                  "4\n",
                  "5\n",
                  "6\n",
                  "7\n",
                  "8\n",
                  "9\n",
                  "10\n",
                  "11\n",
                  "12\n",
                  "13\n",
                  "14\n",
                  "15\n"
               ]
            },
            {
               "name": "stderr",
               "output_type": "stream",
               "text": [
                  "\u001b[32m[I 2022-03-27 20:30:47,238]\u001b[0m Trial 63 finished with value: 0.6372549019607843 and parameters: {'stopwords_type': 'wstop', 'from_selection': False, 'pos_feature_type': 'sum', 'tag_feature_type': 'none', 'word_count_feature_type': 'count_words'}. Best is trial 39 with value: 0.9207920792079208.\u001b[0m\n"
               ]
            },
            {
               "name": "stdout",
               "output_type": "stream",
               "text": [
                  "19\n"
               ]
            },
            {
               "name": "stderr",
               "output_type": "stream",
               "text": [
                  "[nltk_data] Downloading package punkt to /home/jovyan/nltk_data...\n",
                  "[nltk_data]   Package punkt is already up-to-date!\n",
                  "Some weights of the model checkpoint at bert-base-uncased were not used when initializing BertModel: ['cls.predictions.transform.dense.weight', 'cls.predictions.bias', 'cls.predictions.transform.dense.bias', 'cls.seq_relationship.weight', 'cls.predictions.decoder.weight', 'cls.seq_relationship.bias', 'cls.predictions.transform.LayerNorm.weight', 'cls.predictions.transform.LayerNorm.bias']\n",
                  "- This IS expected if you are initializing BertModel from the checkpoint of a model trained on another task or with another architecture (e.g. initializing a BertForSequenceClassification model from a BertForPreTraining model).\n",
                  "- This IS NOT expected if you are initializing BertModel from the checkpoint of a model that you expect to be exactly identical (initializing a BertForSequenceClassification model from a BertForSequenceClassification model).\n",
                  "[nltk_data] Downloading package punkt to /home/jovyan/nltk_data...\n",
                  "[nltk_data]   Package punkt is already up-to-date!\n"
               ]
            },
            {
               "name": "stdout",
               "output_type": "stream",
               "text": [
                  "0\n",
                  "1\n",
                  "2\n",
                  "3\n",
                  "4\n",
                  "5\n",
                  "6\n",
                  "7\n",
                  "8\n",
                  "9\n",
                  "10\n",
                  "11\n"
               ]
            },
            {
               "name": "stderr",
               "output_type": "stream",
               "text": [
                  "\u001b[32m[I 2022-03-27 20:37:52,043]\u001b[0m Trial 64 finished with value: 0.7128712871287128 and parameters: {'stopwords_type': 'wstop', 'from_selection': False, 'pos_feature_type': 'onehot', 'tag_feature_type': 'none', 'word_count_feature_type': 'count_words'}. Best is trial 39 with value: 0.9207920792079208.\u001b[0m\n",
                  "[nltk_data] Downloading package punkt to /home/jovyan/nltk_data...\n",
                  "[nltk_data]   Package punkt is already up-to-date!\n",
                  "Some weights of the model checkpoint at bert-base-uncased were not used when initializing BertModel: ['cls.predictions.transform.dense.weight', 'cls.predictions.bias', 'cls.predictions.transform.dense.bias', 'cls.seq_relationship.weight', 'cls.predictions.decoder.weight', 'cls.seq_relationship.bias', 'cls.predictions.transform.LayerNorm.weight', 'cls.predictions.transform.LayerNorm.bias']\n",
                  "- This IS expected if you are initializing BertModel from the checkpoint of a model trained on another task or with another architecture (e.g. initializing a BertForSequenceClassification model from a BertForPreTraining model).\n",
                  "- This IS NOT expected if you are initializing BertModel from the checkpoint of a model that you expect to be exactly identical (initializing a BertForSequenceClassification model from a BertForSequenceClassification model).\n",
                  "[nltk_data] Downloading package punkt to /home/jovyan/nltk_data...\n",
                  "[nltk_data]   Package punkt is already up-to-date!\n"
               ]
            },
            {
               "name": "stdout",
               "output_type": "stream",
               "text": [
                  "0\n",
                  "1\n",
                  "2\n",
                  "3\n",
                  "4\n",
                  "5\n",
                  "6\n",
                  "7\n",
                  "8\n",
                  "9\n",
                  "10\n",
                  "11\n",
                  "12\n",
                  "13\n",
                  "14\n"
               ]
            },
            {
               "name": "stderr",
               "output_type": "stream",
               "text": [
                  "\u001b[32m[I 2022-03-27 20:45:43,527]\u001b[0m Trial 65 finished with value: 0.62 and parameters: {'stopwords_type': 'wostop', 'from_selection': True, 'pos_feature_type': 'none', 'tag_feature_type': 'none', 'word_count_feature_type': 'count_words'}. Best is trial 39 with value: 0.9207920792079208.\u001b[0m\n",
                  "[nltk_data] Downloading package punkt to /home/jovyan/nltk_data...\n",
                  "[nltk_data]   Package punkt is already up-to-date!\n",
                  "Some weights of the model checkpoint at bert-base-uncased were not used when initializing BertModel: ['cls.predictions.transform.dense.weight', 'cls.predictions.bias', 'cls.predictions.transform.dense.bias', 'cls.seq_relationship.weight', 'cls.predictions.decoder.weight', 'cls.seq_relationship.bias', 'cls.predictions.transform.LayerNorm.weight', 'cls.predictions.transform.LayerNorm.bias']\n",
                  "- This IS expected if you are initializing BertModel from the checkpoint of a model trained on another task or with another architecture (e.g. initializing a BertForSequenceClassification model from a BertForPreTraining model).\n",
                  "- This IS NOT expected if you are initializing BertModel from the checkpoint of a model that you expect to be exactly identical (initializing a BertForSequenceClassification model from a BertForSequenceClassification model).\n",
                  "[nltk_data] Downloading package punkt to /home/jovyan/nltk_data...\n",
                  "[nltk_data]   Package punkt is already up-to-date!\n"
               ]
            },
            {
               "name": "stdout",
               "output_type": "stream",
               "text": [
                  "0\n",
                  "1\n",
                  "2\n",
                  "3\n",
                  "4\n",
                  "5\n",
                  "6\n",
                  "7\n",
                  "8\n"
               ]
            },
            {
               "name": "stderr",
               "output_type": "stream",
               "text": [
                  "\u001b[32m[I 2022-03-27 20:51:08,208]\u001b[0m Trial 66 finished with value: 0.53 and parameters: {'stopwords_type': 'wstop', 'from_selection': False, 'pos_feature_type': 'none', 'tag_feature_type': 'sum', 'word_count_feature_type': 'none'}. Best is trial 39 with value: 0.9207920792079208.\u001b[0m\n"
               ]
            },
            {
               "name": "stdout",
               "output_type": "stream",
               "text": [
                  "2\n"
               ]
            },
            {
               "name": "stderr",
               "output_type": "stream",
               "text": [
                  "[nltk_data] Downloading package punkt to /home/jovyan/nltk_data...\n",
                  "[nltk_data]   Package punkt is already up-to-date!\n",
                  "Some weights of the model checkpoint at bert-base-uncased were not used when initializing BertModel: ['cls.predictions.transform.dense.weight', 'cls.predictions.bias', 'cls.predictions.transform.dense.bias', 'cls.seq_relationship.weight', 'cls.predictions.decoder.weight', 'cls.seq_relationship.bias', 'cls.predictions.transform.LayerNorm.weight', 'cls.predictions.transform.LayerNorm.bias']\n",
                  "- This IS expected if you are initializing BertModel from the checkpoint of a model trained on another task or with another architecture (e.g. initializing a BertForSequenceClassification model from a BertForPreTraining model).\n",
                  "- This IS NOT expected if you are initializing BertModel from the checkpoint of a model that you expect to be exactly identical (initializing a BertForSequenceClassification model from a BertForSequenceClassification model).\n",
                  "[nltk_data] Downloading package punkt to /home/jovyan/nltk_data...\n",
                  "[nltk_data]   Package punkt is already up-to-date!\n"
               ]
            },
            {
               "name": "stdout",
               "output_type": "stream",
               "text": [
                  "0\n",
                  "1\n",
                  "2\n",
                  "3\n",
                  "4\n",
                  "5\n",
                  "6\n",
                  "7\n",
                  "8\n"
               ]
            },
            {
               "name": "stderr",
               "output_type": "stream",
               "text": [
                  "\u001b[32m[I 2022-03-27 20:56:14,610]\u001b[0m Trial 67 finished with value: 0.48514851485148514 and parameters: {'stopwords_type': 'wostop', 'from_selection': True, 'pos_feature_type': 'none', 'tag_feature_type': 'onehot', 'word_count_feature_type': 'none'}. Best is trial 39 with value: 0.9207920792079208.\u001b[0m\n",
                  "[nltk_data] Downloading package punkt to /home/jovyan/nltk_data...\n",
                  "[nltk_data]   Package punkt is already up-to-date!\n",
                  "Some weights of the model checkpoint at bert-base-uncased were not used when initializing BertModel: ['cls.predictions.transform.dense.weight', 'cls.predictions.bias', 'cls.predictions.transform.dense.bias', 'cls.seq_relationship.weight', 'cls.predictions.decoder.weight', 'cls.seq_relationship.bias', 'cls.predictions.transform.LayerNorm.weight', 'cls.predictions.transform.LayerNorm.bias']\n",
                  "- This IS expected if you are initializing BertModel from the checkpoint of a model trained on another task or with another architecture (e.g. initializing a BertForSequenceClassification model from a BertForPreTraining model).\n",
                  "- This IS NOT expected if you are initializing BertModel from the checkpoint of a model that you expect to be exactly identical (initializing a BertForSequenceClassification model from a BertForSequenceClassification model).\n",
                  "[nltk_data] Downloading package punkt to /home/jovyan/nltk_data...\n",
                  "[nltk_data]   Package punkt is already up-to-date!\n"
               ]
            },
            {
               "name": "stdout",
               "output_type": "stream",
               "text": [
                  "0\n",
                  "1\n",
                  "2\n",
                  "3\n",
                  "4\n",
                  "5\n",
                  "6\n",
                  "7\n",
                  "8\n",
                  "9\n",
                  "10\n",
                  "11\n",
                  "12\n",
                  "13\n"
               ]
            },
            {
               "name": "stderr",
               "output_type": "stream",
               "text": [
                  "\u001b[32m[I 2022-03-27 21:04:18,677]\u001b[0m Trial 68 finished with value: 0.84 and parameters: {'stopwords_type': 'wostop', 'from_selection': True, 'pos_feature_type': 'sum', 'tag_feature_type': 'sum', 'word_count_feature_type': 'count_words'}. Best is trial 39 with value: 0.9207920792079208.\u001b[0m\n"
               ]
            },
            {
               "name": "stdout",
               "output_type": "stream",
               "text": [
                  "19\n",
                  "49\n"
               ]
            },
            {
               "name": "stderr",
               "output_type": "stream",
               "text": [
                  "[nltk_data] Downloading package punkt to /home/jovyan/nltk_data...\n",
                  "[nltk_data]   Package punkt is already up-to-date!\n",
                  "Some weights of the model checkpoint at bert-base-uncased were not used when initializing BertModel: ['cls.predictions.transform.dense.weight', 'cls.predictions.bias', 'cls.predictions.transform.dense.bias', 'cls.seq_relationship.weight', 'cls.predictions.decoder.weight', 'cls.seq_relationship.bias', 'cls.predictions.transform.LayerNorm.weight', 'cls.predictions.transform.LayerNorm.bias']\n",
                  "- This IS expected if you are initializing BertModel from the checkpoint of a model trained on another task or with another architecture (e.g. initializing a BertForSequenceClassification model from a BertForPreTraining model).\n",
                  "- This IS NOT expected if you are initializing BertModel from the checkpoint of a model that you expect to be exactly identical (initializing a BertForSequenceClassification model from a BertForSequenceClassification model).\n",
                  "[nltk_data] Downloading package punkt to /home/jovyan/nltk_data...\n",
                  "[nltk_data]   Package punkt is already up-to-date!\n"
               ]
            },
            {
               "name": "stdout",
               "output_type": "stream",
               "text": [
                  "0\n",
                  "1\n",
                  "2\n",
                  "3\n",
                  "4\n",
                  "5\n"
               ]
            },
            {
               "name": "stderr",
               "output_type": "stream",
               "text": [
                  "\u001b[32m[I 2022-03-27 21:08:13,531]\u001b[0m Trial 69 finished with value: 0.8 and parameters: {'stopwords_type': 'wstop', 'from_selection': False, 'pos_feature_type': 'onehot', 'tag_feature_type': 'onehot', 'word_count_feature_type': 'none'}. Best is trial 39 with value: 0.9207920792079208.\u001b[0m\n"
               ]
            },
            {
               "name": "stdout",
               "output_type": "stream",
               "text": [
                  "49\n"
               ]
            },
            {
               "name": "stderr",
               "output_type": "stream",
               "text": [
                  "[nltk_data] Downloading package punkt to /home/jovyan/nltk_data...\n",
                  "[nltk_data]   Package punkt is already up-to-date!\n",
                  "Some weights of the model checkpoint at bert-base-uncased were not used when initializing BertModel: ['cls.predictions.transform.dense.weight', 'cls.predictions.bias', 'cls.predictions.transform.dense.bias', 'cls.seq_relationship.weight', 'cls.predictions.decoder.weight', 'cls.seq_relationship.bias', 'cls.predictions.transform.LayerNorm.weight', 'cls.predictions.transform.LayerNorm.bias']\n",
                  "- This IS expected if you are initializing BertModel from the checkpoint of a model trained on another task or with another architecture (e.g. initializing a BertForSequenceClassification model from a BertForPreTraining model).\n",
                  "- This IS NOT expected if you are initializing BertModel from the checkpoint of a model that you expect to be exactly identical (initializing a BertForSequenceClassification model from a BertForSequenceClassification model).\n",
                  "[nltk_data] Downloading package punkt to /home/jovyan/nltk_data...\n",
                  "[nltk_data]   Package punkt is already up-to-date!\n"
               ]
            },
            {
               "name": "stdout",
               "output_type": "stream",
               "text": [
                  "0\n",
                  "1\n",
                  "2\n",
                  "3\n",
                  "4\n",
                  "5\n",
                  "6\n",
                  "7\n"
               ]
            },
            {
               "name": "stderr",
               "output_type": "stream",
               "text": [
                  "\u001b[32m[I 2022-03-27 21:13:00,389]\u001b[0m Trial 70 finished with value: 0.696078431372549 and parameters: {'stopwords_type': 'wostop', 'from_selection': False, 'pos_feature_type': 'sum', 'tag_feature_type': 'onehot', 'word_count_feature_type': 'none'}. Best is trial 39 with value: 0.9207920792079208.\u001b[0m\n",
                  "[nltk_data] Downloading package punkt to /home/jovyan/nltk_data...\n",
                  "[nltk_data]   Package punkt is already up-to-date!\n",
                  "Some weights of the model checkpoint at bert-base-uncased were not used when initializing BertModel: ['cls.predictions.transform.dense.weight', 'cls.predictions.bias', 'cls.predictions.transform.dense.bias', 'cls.seq_relationship.weight', 'cls.predictions.decoder.weight', 'cls.seq_relationship.bias', 'cls.predictions.transform.LayerNorm.weight', 'cls.predictions.transform.LayerNorm.bias']\n",
                  "- This IS expected if you are initializing BertModel from the checkpoint of a model trained on another task or with another architecture (e.g. initializing a BertForSequenceClassification model from a BertForPreTraining model).\n",
                  "- This IS NOT expected if you are initializing BertModel from the checkpoint of a model that you expect to be exactly identical (initializing a BertForSequenceClassification model from a BertForSequenceClassification model).\n",
                  "[nltk_data] Downloading package punkt to /home/jovyan/nltk_data...\n",
                  "[nltk_data]   Package punkt is already up-to-date!\n"
               ]
            },
            {
               "name": "stdout",
               "output_type": "stream",
               "text": [
                  "0\n",
                  "1\n",
                  "2\n",
                  "3\n",
                  "4\n",
                  "5\n",
                  "6\n",
                  "7\n",
                  "8\n",
                  "9\n"
               ]
            },
            {
               "name": "stderr",
               "output_type": "stream",
               "text": [
                  "\u001b[32m[I 2022-03-27 21:18:11,265]\u001b[0m Trial 71 finished with value: 0.594059405940594 and parameters: {'stopwords_type': 'wostop', 'from_selection': True, 'pos_feature_type': 'none', 'tag_feature_type': 'none', 'word_count_feature_type': 'none'}. Best is trial 39 with value: 0.9207920792079208.\u001b[0m\n"
               ]
            }
         ],
         "source": [
            "# optuna.logging.get_logger(\"optuna\").addHandler(logging.StreamHandler(sys.stdout))\n",
            "\n",
            "# needed for GridSampler\n",
            "# search_space = {\n",
            "#     'batch_size': [16, 32, 64],\n",
            "#     'pooling_strategy': ['last_four', 'last_four_sum', 'second_last'],\n",
            "# #     'should_scale_emb': [False, True],\n",
            "#     'dropout': [i/100 for i in range(0, 51, 5)],\n",
            "#     'hidden_dim': [128, 256, 512],\n",
            "#     'optimizer_weigth_decay': [i/10000 for i in range(11)],\n",
            "#     'learning_rate': round_to_first_non_zero([i/100000 for i in range_inc(0, 100000, 1, 10)]),\n",
            "#     'pos_weight': [1.0, train_uw_ratio]\n",
            "# }\n",
            "feature_search_space = {\n",
            "    'stopwords_type': ['wstop', 'wostop'],\n",
            "    'from_selection': [True, False],\n",
            "    'pos_feature_type': ['sum', 'onehot', 'none'],\n",
            "    'tag_feature_type': ['sum', 'onehot', 'none'],\n",
            "    'word_count_feature_type': ['count_words', 'none'],\n",
            "#     'word_level_feature_type': ['dep', 'triplet']\n",
            "}\n",
            "# print(search_space)\n",
            "params = {\n",
            "    'batch_size': 32,\n",
            "    'pooling_strategy': 'second_last',\n",
            "    'dropout': 0.39,\n",
            "    'hidden_dim': 256,\n",
            "    'w_seq': True,\n",
            "    'lr': 0.004118121,\n",
            "    'opt_weight_decay': 0.024460049,\n",
            "    'pos_weight': train_uw_ratio,\n",
            "}\n",
            "\n",
            "\n",
            "study = optuna.create_study(\n",
            "    study_name=f'bi-lstm_featOptim_wAtt_sTPE_pNone_df{dataset_frac}_wf{worthy_frac}',\n",
            "#     sampler=optuna.samplers.TPESampler(),\n",
            "    sampler=optuna.samplers.GridSampler(feature_search_space),\n",
            "#     pruner=optuna.pruners.MedianPruner(),\n",
            "    direction='maximize'\n",
            ")\n",
            "logf_path = p.join(LOG_DIR_PATH, f'{study.study_name}.log')\n",
            "study.optimize(objective, n_trials=200)\n",
            "\n",
            "study_path = os.path.join(optim_path, f'{study.study_name}.pkl')\n",
            "torch.save(study, study_path)\n",
            "torch.save(params, f'{os.path.join(optim_path, study.study_name)}_params.pkl')"
         ]
      },
      {
         "cell_type": "code",
         "execution_count": 10,
         "metadata": {},
         "outputs": [
            {
               "name": "stdout",
               "output_type": "stream",
               "text": [
                  "{'stopwords_type': 'wstop', 'from_selection': True, 'pos_feature_type': 'none', 'tag_feature_type': 'sum', 'word_count_feature_type': 'none'}\n",
                  "FrozenTrial(number=39, values=[0.9207920792079208], datetime_start=datetime.datetime(2022, 3, 27, 17, 57, 28, 983824), datetime_complete=datetime.datetime(2022, 3, 27, 18, 1, 41, 808323), params={'stopwords_type': 'wstop', 'from_selection': True, 'pos_feature_type': 'none', 'tag_feature_type': 'sum', 'word_count_feature_type': 'none'}, distributions={'stopwords_type': CategoricalDistribution(choices=('wstop', 'wostop')), 'from_selection': CategoricalDistribution(choices=(True, False)), 'pos_feature_type': CategoricalDistribution(choices=('sum', 'onehot', 'none')), 'tag_feature_type': CategoricalDistribution(choices=('sum', 'onehot', 'none')), 'word_count_feature_type': CategoricalDistribution(choices=('count_words', 'none'))}, user_attrs={}, system_attrs={'search_space': OrderedDict([('from_selection', [False, True]), ('pos_feature_type', ['none', 'onehot', 'sum']), ('stopwords_type', ['wostop', 'wstop']), ('tag_feature_type', ['none', 'onehot', 'sum']), ('word_count_feature_type', ['count_words', 'none'])]), 'grid_id': 47}, intermediate_values={}, trial_id=39, state=TrialState.COMPLETE, value=None)\n"
               ]
            }
         ],
         "source": [
            "loaded_study = torch.load(study_path)\n",
            "\n",
            "print(loaded_study.best_trial.params)\n",
            "print(loaded_study.best_trial)"
         ]
      }
   ],
   "metadata": {
      "interpreter": {
         "hash": "0566b9ebc7a58507829be3d77002d1a3a0910233c54c7888c127aa3b7af58774"
      },
      "kernelspec": {
         "display_name": "Python [conda env:root] *",
         "language": "python",
         "name": "conda-root-py"
      },
      "language_info": {
         "codemirror_mode": {
            "name": "ipython",
            "version": 3
         },
         "file_extension": ".py",
         "mimetype": "text/x-python",
         "name": "python",
         "nbconvert_exporter": "python",
         "pygments_lexer": "ipython3",
         "version": "3.7.4"
      }
   },
   "nbformat": 4,
   "nbformat_minor": 4
}