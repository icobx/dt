{
 "cells": [
  {
   "cell_type": "code",
   "execution_count": 1,
   "id": "a4feee44-b5a8-4eb8-a604-0d503072b76d",
   "metadata": {},
   "outputs": [],
   "source": [
    "import os\n",
    "import pandas as pd\n",
    "import optuna\n",
    "\n",
    "from definitions import *"
   ]
  },
  {
   "cell_type": "code",
   "execution_count": null,
   "id": "30b01934-1db8-4e67-b7e4-213177716de8",
   "metadata": {},
   "outputs": [],
   "source": [
    "optim_path = os.path.join(EXP_DIR_PATH, 'bi-lstm', 'optimization')"
   ]
  }
 ],
 "metadata": {
  "kernelspec": {
   "display_name": "Python [conda env:root] *",
   "language": "python",
   "name": "conda-root-py"
  },
  "language_info": {
   "codemirror_mode": {
    "name": "ipython",
    "version": 3
   },
   "file_extension": ".py",
   "mimetype": "text/x-python",
   "name": "python",
   "nbconvert_exporter": "python",
   "pygments_lexer": "ipython3",
   "version": "3.7.4"
  }
 },
 "nbformat": 4,
 "nbformat_minor": 5
}
