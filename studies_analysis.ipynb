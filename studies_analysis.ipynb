{
    "cells": [
        {
            "cell_type": "code",
            "execution_count": 1,
            "id": "a4feee44-b5a8-4eb8-a604-0d503072b76d",
            "metadata": {},
            "outputs": [],
            "source": [
                "import os\n",
                "import torch\n",
                "import pandas as pd\n",
                "import optuna\n",
                "\n",
                "from definitions import *"
            ]
        },
        {
            "cell_type": "code",
            "execution_count": 2,
            "id": "30b01934-1db8-4e67-b7e4-213177716de8",
            "metadata": {},
            "outputs": [],
            "source": [
                "model = 'bi-lstm'\n",
                "# model = 'sent-nn'\n",
                "optim_path = os.path.join(EXP_DIR_PATH, model, 'optimization')\n",
                "# study_name = 'bi-lstm_wAtt_sTPE_pNone_df0.2_wf0.2.pkl'\n",
                "# files_n_params = [sn for sn in optim_path if 'featOptimSentFeat' in sn.split('_')[1]]\n"
            ]
        },
        {
            "cell_type": "code",
            "execution_count": 10,
            "id": "505ceb67",
            "metadata": {},
            "outputs": [
                {
                    "name": "stdout",
                    "output_type": "stream",
                    "text": [
                        "pos\n",
                        "{'stopwords_type': 'wstop', 'from_selection': True, 'pos_feature_type': 'none', 'word_count_feature_type': 'none'}\n",
                        "{'batch_size': 16, 'dropout': 0.28, 'hidden_dim': 128, 'with_sequential_layer': False, 'learning_rate': 0.0008128750160252116, 'optimizer_weigth_decay': 6.849545410012206e-05, 'pos_weight': 32.81159420289855, 'embedding_model_name': 'multi-qa-mpnet-base-dot-v1', 'fnn_hidden_dim': 512, 'fnn_n_hidden_layers': 3, 'fnn_dropout': 0.14, 'pnn_hidden_dim': 32, 'pnn_dropout': 0.23}\n",
                        "tag\n",
                        "{'stopwords_type': 'wstop', 'from_selection': True, 'tag_feature_type': 'sum', 'word_count_feature_type': 'count_words'}\n",
                        "{'batch_size': 16, 'dropout': 0.28, 'hidden_dim': 128, 'with_sequential_layer': False, 'learning_rate': 0.0008128750160252116, 'optimizer_weigth_decay': 6.849545410012206e-05, 'pos_weight': 32.81159420289855, 'embedding_model_name': 'multi-qa-mpnet-base-dot-v1', 'fnn_hidden_dim': 512, 'fnn_n_hidden_layers': 3, 'fnn_dropout': 0.14, 'pnn_hidden_dim': 32, 'pnn_dropout': 0.23}\n",
                        "dep\n",
                        "{'stopwords_type': 'wstop', 'from_selection': True, 'dep_feature_type': 'sum', 'word_count_feature_type': 'none'}\n",
                        "{'batch_size': 16, 'dropout': 0.28, 'hidden_dim': 128, 'with_sequential_layer': False, 'learning_rate': 0.0008128750160252116, 'optimizer_weigth_decay': 6.849545410012206e-05, 'pos_weight': 32.81159420289855, 'embedding_model_name': 'multi-qa-mpnet-base-dot-v1', 'fnn_hidden_dim': 512, 'fnn_n_hidden_layers': 3, 'fnn_dropout': 0.14, 'pnn_hidden_dim': 32, 'pnn_dropout': 0.23}\n"
                    ]
                }
            ],
            "source": [
                "# optim_type = 'featOptimFeatModel'\n",
                "model = '_'.join(model.split('-')) if model == 'sent-nn' else model\n",
                "# optim_type = 'featOptimFeatModel'\n",
                "# optim_type = 'featOptimWordLevel'  featCombinationOptimSentFeat\n",
                "# TODO: store results in pd.DataFrame to easily use with plotly, create awesome charts\n",
                "for feature_type in ['pos', 'tag', 'dep']:\n",
                "    # bi-lstm\n",
                "#     file_name = f'{model}_{optim_type}_{feature_type}_mF1_wAtt_sGrid_pNone_df0.2_wf0.03'\n",
                "    # sent-nn\n",
                "    file_name = f'{model}_{optim_type}_{feature_type}_mF1_sGrid_pNone_df0.2_wf0.03'\n",
                "#     file_name = f'{model}_{optim_type}_mF1_wAtt_sGrid_pNone_df0.2_wf0.03'\n",
                "    \n",
                "    study_path = os.path.join(optim_path, f'{file_name}.pkl')\n",
                "    params_path = os.path.join(optim_path, f'{file_name}_params.pkl')\n",
                "    study = torch.load(study_path)\n",
                "    params = torch.load(params_path)\n",
                "    \n",
                "    print(feature_type)\n",
                "    print(study.best_params)\n",
                "    print(params)"
            ]
        },
        {
            "cell_type": "markdown",
            "id": "fb3336f3",
            "metadata": {},
            "source": [
                "**bi-lstm feature optim**\n",
                "- params: {\n",
                "    'batch_size': 16, 'pooling_strategy': 'last_four', 'dropout': 0.05, 'hidden_dim': 128, 'with_sequential_layer': False, 'learning_rate': 1.0691418898885528e-05, 'optimizer_weigth_decay': 1.0929364050970057e-05, 'pos_weight': 32.81159420289855, 'fnn_hidden_dim': 256, 'fnn_n_hidden_layers': 4, 'fnn_dropout': 0.12, 'pnn_hidden_dim': 8, 'pnn_dropout': 0.24\n",
                "}\n",
                "\n",
                "- featOptimSentFeat:\n",
                "    - pos: {\n",
                "        'stopwords_type': 'wstop', 'from_selection': True, 'pos_feature_type': 'none', 'word_count_feature_type': 'count_words'\n",
                "    }\n",
                "    - tag: {\n",
                "        'stopwords_type': 'wstop', 'from_selection': True, 'tag_feature_type': 'none', 'word_count_feature_type': 'count_words'\n",
                "    }\n",
                "    - dep: {\n",
                "        'stopwords_type': 'wostop', 'from_selection': True, 'dep_feature_type': 'onehot', 'word_count_feature_type': 'count_words'\n",
                "    } --> only this one, no need to run another optimizaiton\n",
                "\n",
                "- featOptimFeatModel:\n",
                "    - pos: {\n",
                "        'stopwords_type': 'wstop', 'from_selection': False, 'pos_feature_type': 'sum', 'word_count_feature_type': 'none'\n",
                "    }\n",
                "    - tag: {\n",
                "        'stopwords_type': 'wstop', 'from_selection': False, 'tag_feature_type': 'sum', 'word_count_feature_type': 'none'\n",
                "    }\n",
                "    - dep: {\n",
                "        'stopwords_type': 'wstop', 'from_selection': True, 'dep_feature_type': 'none', 'word_count_feature_type': 'none'\n",
                "    }\n",
                "\n",
                "- featOptimWordLevel\n",
                "    - {\n",
                "        'stopwords_type': 'wstop', 'word_count_feature_type': 'count_words', 'word_level_feature_type': 'dep'\n",
                "    }\n",
                "    \n",
                "**sent-nn feature optim**\n",
                "- params: {'batch_size': 16, 'dropout': 0.28, 'hidden_dim': 128, 'with_sequential_layer': False, 'learning_rate': 0.0008128750160252116, 'optimizer_weigth_decay': 6.849545410012206e-05, 'pos_weight': 32.81159420289855, 'embedding_model_name': 'multi-qa-mpnet-base-dot-v1', 'fnn_hidden_dim': 512, 'fnn_n_hidden_layers': 3, 'fnn_dropout': 0.14, 'pnn_hidden_dim': 32, 'pnn_dropout': 0.23}\n",
                "\n",
                "- featOptimSentFeat:\n",
                "    - pos: {'stopwords_type': 'wstop', 'from_selection': True, 'pos_feature_type': 'none', 'word_count_feature_type': 'count_words'}\n",
                "    - tag: {'stopwords_type': 'wstop', 'from_selection': False, 'tag_feature_type': 'sum', 'word_count_feature_type': 'count_words'} --> only this one, no need to run another optimizaiton\n",
                "    - dep: {'stopwords_type': 'wstop', 'from_selection': False, 'dep_feature_type': 'none', 'word_count_feature_type': 'none'}\n",
                "    \n",
                "- featOptimFeatModel:\n",
                "    - pos: {'stopwords_type': 'wstop', 'from_selection': True, 'pos_feature_type': 'none', 'word_count_feature_type': 'none'}\n",
                "    - tag: {'stopwords_type': 'wstop', 'from_selection': True, 'tag_feature_type': 'sum', 'word_count_feature_type': 'count_words'}\n",
                "    - dep: {'stopwords_type': 'wstop', 'from_selection': True, 'dep_feature_type': 'sum', 'word_count_feature_type': 'none'}\n",
                "    \n"
            ]
        },
        {
            "cell_type": "code",
            "execution_count": null,
            "id": "e8f9babc",
            "metadata": {},
            "outputs": [],
            "source": [
                "# optim_path = "
            ]
        },
        {
            "cell_type": "code",
            "execution_count": 3,
            "id": "91be8551",
            "metadata": {},
            "outputs": [
                {
                    "name": "stdout",
                    "output_type": "stream",
                    "text": [
                        "{'dep_feature': 'word_level'}\n",
                        "{'batch_size': 16, 'pooling_strategy': 'last_four', 'dropout': 0.05, 'hidden_dim': 128, 'with_sequential_layer': False, 'learning_rate': 1.0691418898885528e-05, 'optimizer_weigth_decay': 1.0929364050970057e-05, 'pos_weight': 32.81159420289855, 'fnn_hidden_dim': 256, 'fnn_n_hidden_layers': 4, 'fnn_dropout': 0.12, 'pnn_hidden_dim': 8, 'pnn_dropout': 0.24}\n"
                    ]
                }
            ],
            "source": [
                "optim_type = 'featCombinationOptimSentFeat'\n",
                "\n",
                "# TODO: store results in pd.DataFrame to easily use with plotly, create awesome charts\n",
                "# file_name = f'bi-lstm_{optim_type}_{feature_type}_mF1_wAtt_sGrid_pNone_df0.2_wf0.03'\n",
                "file_name = f'{model}_{optim_type}_mF1_wAtt_sGrid_pNone_df0.2_wf0.03'\n",
                "\n",
                "study_path = os.path.join(optim_path, f'{file_name}.pkl')\n",
                "params_path = os.path.join(optim_path, f'{file_name}_params.pkl')\n",
                "study = torch.load(study_path)\n",
                "params = torch.load(params_path)\n",
                "\n",
                "print(study.best_params)\n",
                "print(params)"
            ]
        },
        {
            "cell_type": "code",
            "execution_count": null,
            "id": "9efe4d53-a9ef-4429-a0e1-b91a06ada756",
            "metadata": {},
            "outputs": [],
            "source": []
        }
    ],
    "metadata": {
        "interpreter": {
            "hash": "0566b9ebc7a58507829be3d77002d1a3a0910233c54c7888c127aa3b7af58774"
        },
        "kernelspec": {
            "display_name": "Python 3",
            "language": "python",
            "name": "python3"
        },
        "language_info": {
            "codemirror_mode": {
                "name": "ipython",
                "version": 3
            },
            "file_extension": ".py",
            "mimetype": "text/x-python",
            "name": "python",
            "nbconvert_exporter": "python",
            "pygments_lexer": "ipython3",
            "version": "3.7.4"
        }
    },
    "nbformat": 4,
    "nbformat_minor": 5
}