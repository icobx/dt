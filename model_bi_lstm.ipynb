{
 "cells": [
  {
   "cell_type": "code",
   "execution_count": 40,
   "metadata": {},
   "outputs": [],
   "source": [
    "import os.path as p\n",
    "import pandas as pd\n",
    "import torch\n",
    "import torch.nn as nn\n",
    "import torch.optim as optim\n",
    "import pickle\n",
    "import seaborn as sns\n",
    "import matplotlib.pyplot as plt\n",
    "\n",
    "from sklearn.metrics import accuracy_score, classification_report, confusion_matrix\n",
    "from torch.utils.data.dataloader import DataLoader\n",
    "from definitions import *\n",
    "from model_helper_functions import *\n",
    "from dataset_helper_functions import *\n",
    "from BiLSTM import BiLSTM\n",
    "from DebatesDataset import DebatesDataset\n"
   ]
  },
  {
   "cell_type": "code",
   "execution_count": 2,
   "metadata": {},
   "outputs": [],
   "source": [
    "try:\n",
    "    IS_MASTER\n",
    "except: \n",
    "    IS_MASTER = False"
   ]
  },
  {
   "cell_type": "code",
   "execution_count": 3,
   "metadata": {},
   "outputs": [],
   "source": [
    "if not IS_MASTER:\n",
    "    data, features = {}, {}\n",
    "    emb_model = 'all-mpnet-base-v2'#'multi-qa-mpnet-base-dot-v1'#'all-MiniLM-L6-v2'\n",
    "    \n",
    "    dev_path = p.join(PROC_DATA_DIR_PATH, 'dev')\n",
    "    features_path = p.join(PROC_DATA_DIR_PATH, 'features')\n",
    "\n",
    "    data_paths = {\n",
    "        # 'dev': [\n",
    "        #     p.join(dev_path, 'dev.tsv'),\n",
    "        #     p.join(dev_path, 'dev_spacy.pkl'),\n",
    "        #     p.join(features_path, 'dev_stylometric_features.pkl'),\n",
    "        # ],\n",
    "        'test': [\n",
    "            p.join(POLIT_DATA_DIR_PATH, 'test', 'test_combined.tsv'),\n",
    "            p.join(PROC_DATA_DIR_PATH, 'test', 'test_spacy.pkl'),\n",
    "            p.join(features_path, 'test_stylometric_features.pkl'),\n",
    "\n",
    "        ],\n",
    "        'train': [\n",
    "            p.join(POLIT_DATA_DIR_PATH, 'train', 'train_combined.tsv'),\n",
    "            p.join(PROC_DATA_DIR_PATH, 'train', 'train_spacy.pkl'),\n",
    "            p.join(features_path, 'train_stylometric_features.pkl')\n",
    "        ],\n",
    "        'val': [\n",
    "            p.join(POLIT_DATA_DIR_PATH, 'val', 'val_combined.tsv'),\n",
    "            p.join(PROC_DATA_DIR_PATH, 'val', 'val_spacy.pkl'),\n",
    "            p.join(features_path, 'val_stylometric_features.pkl'),\n",
    "        ],\n",
    "    }\n",
    "\n",
    "    for dtype, dpaths in data_paths.items():\n",
    "        try:\n",
    "            data[dtype] = pd.read_pickle(dpaths[1])\n",
    "            features[dtype] = pd.read_pickle(dpaths[2])\n",
    "        except Exception as e:\n",
    "            print(e.args)\n",
    "            exit()"
   ]
  },
  {
   "cell_type": "markdown",
   "metadata": {},
   "source": [
    "Remove validation records from train dataset."
   ]
  },
  {
   "cell_type": "code",
   "execution_count": 28,
   "metadata": {},
   "outputs": [],
   "source": [
    "val_ids = data['val']['id'].values\n",
    "train_df = data['train']\n",
    "train_df = train_df.loc[~train_df['id'].isin(val_ids)].reset_index(drop=True)\n"
   ]
  },
  {
   "cell_type": "markdown",
   "metadata": {},
   "source": [
    "Wrap data in `DebatesDataset` class so that it can be passed to `DataLoader` class."
   ]
  },
  {
   "cell_type": "code",
   "execution_count": 36,
   "metadata": {},
   "outputs": [],
   "source": [
    "batch_size = 32\n",
    "\n",
    "dd_train = DebatesDataset(data=train_df.iloc[:1000])\n",
    "dd_val = DebatesDataset(data=data['val'].iloc[:200])\n",
    "dd_test = DebatesDataset(data=data['test'].iloc[:200])\n",
    "\n",
    "loader_train = DataLoader(dd_train, batch_size=batch_size, shuffle=True)\n",
    "loader_val = DataLoader(dd_val, batch_size=batch_size, shuffle=True)\n",
    "loader_test = DataLoader(dd_test, batch_size=batch_size, shuffle=True)"
   ]
  },
  {
   "cell_type": "markdown",
   "metadata": {},
   "source": [
    "Initialize model, optimizer and criterion."
   ]
  },
  {
   "cell_type": "code",
   "execution_count": 37,
   "metadata": {},
   "outputs": [
    {
     "name": "stderr",
     "output_type": "stream",
     "text": [
      "Some weights of the model checkpoint at bert-base-uncased were not used when initializing BertModel: ['cls.predictions.transform.dense.bias', 'cls.seq_relationship.bias', 'cls.predictions.bias', 'cls.predictions.transform.LayerNorm.weight', 'cls.predictions.transform.dense.weight', 'cls.seq_relationship.weight', 'cls.predictions.decoder.weight', 'cls.predictions.transform.LayerNorm.bias']\n",
      "- This IS expected if you are initializing BertModel from the checkpoint of a model trained on another task or with another architecture (e.g. initializing a BertForSequenceClassification model from a BertForPreTraining model).\n",
      "- This IS NOT expected if you are initializing BertModel from the checkpoint of a model that you expect to be exactly identical (initializing a BertForSequenceClassification model from a BertForSequenceClassification model).\n"
     ]
    }
   ],
   "source": [
    "device = torch.device('cuda' if torch.cuda.is_available() else 'cpu')\n",
    "model = BiLSTM(device=device)\n",
    "optimizer = optim.Adam(model.parameters(), lr=0.001)\n",
    "criterion = nn.BCELoss()\n",
    "n_epochs = 5\n",
    "eval_period = len(loader_train) // 2\n",
    "best_val_loss = float(\"Inf\")\n",
    "exp_path = p.join(EXP_DIR_PATH, 'bi-lstm', 'vanilla')"
   ]
  },
  {
   "cell_type": "markdown",
   "metadata": {},
   "source": [
    "Initialize running values."
   ]
  },
  {
   "cell_type": "code",
   "execution_count": 38,
   "metadata": {},
   "outputs": [],
   "source": [
    "running_loss, val_running_loss = 0.0, 0.0\n",
    "global_step = 0\n",
    "train_losses, val_losses, global_steps = [], [], []"
   ]
  },
  {
   "cell_type": "markdown",
   "metadata": {},
   "source": [
    "Training process."
   ]
  },
  {
   "cell_type": "code",
   "execution_count": 39,
   "metadata": {},
   "outputs": [
    {
     "name": "stdout",
     "output_type": "stream",
     "text": [
      "1\n",
      "2\n",
      "3\n",
      "4\n",
      "5\n",
      "6\n",
      "7\n",
      "8\n",
      "9\n",
      "10\n",
      "11\n",
      "12\n",
      "13\n",
      "14\n",
      "15\n",
      "16\n",
      "Epoch [1/5], Step [16/160], Train Loss: 0.2278, Validation Loss: 0.1739\n",
      "Model saved to ==> /Users/icobx/Documents/skola/dp/code/dt/exp/bi-lstm/vanilla/model.pt\n",
      "Model saved to ==> /Users/icobx/Documents/skola/dp/code/dt/exp/bi-lstm/vanilla/metrics.pt\n",
      "17\n",
      "18\n",
      "19\n",
      "20\n",
      "21\n",
      "22\n",
      "23\n",
      "24\n",
      "25\n",
      "26\n",
      "27\n",
      "28\n",
      "29\n",
      "30\n",
      "31\n",
      "32\n",
      "Epoch [1/5], Step [32/160], Train Loss: 0.0711, Validation Loss: 0.1171\n",
      "Model saved to ==> /Users/icobx/Documents/skola/dp/code/dt/exp/bi-lstm/vanilla/model.pt\n",
      "Model saved to ==> /Users/icobx/Documents/skola/dp/code/dt/exp/bi-lstm/vanilla/metrics.pt\n",
      "33\n",
      "34\n",
      "35\n",
      "36\n",
      "37\n",
      "38\n",
      "39\n",
      "40\n",
      "41\n",
      "42\n",
      "43\n",
      "44\n",
      "45\n",
      "46\n",
      "47\n",
      "48\n",
      "Epoch [2/5], Step [48/160], Train Loss: 0.0739, Validation Loss: 0.1153\n",
      "Model saved to ==> /Users/icobx/Documents/skola/dp/code/dt/exp/bi-lstm/vanilla/model.pt\n",
      "Model saved to ==> /Users/icobx/Documents/skola/dp/code/dt/exp/bi-lstm/vanilla/metrics.pt\n",
      "49\n",
      "50\n",
      "51\n",
      "52\n",
      "53\n",
      "54\n",
      "55\n",
      "56\n",
      "57\n",
      "58\n",
      "59\n",
      "60\n",
      "61\n",
      "62\n",
      "63\n",
      "64\n",
      "Epoch [2/5], Step [64/160], Train Loss: 0.1201, Validation Loss: 0.1048\n",
      "Model saved to ==> /Users/icobx/Documents/skola/dp/code/dt/exp/bi-lstm/vanilla/model.pt\n",
      "Model saved to ==> /Users/icobx/Documents/skola/dp/code/dt/exp/bi-lstm/vanilla/metrics.pt\n",
      "65\n",
      "66\n",
      "67\n",
      "68\n",
      "69\n",
      "70\n",
      "71\n",
      "72\n",
      "73\n",
      "74\n",
      "75\n",
      "76\n",
      "77\n",
      "78\n",
      "79\n",
      "80\n",
      "Epoch [3/5], Step [80/160], Train Loss: 0.0726, Validation Loss: 0.1531\n",
      "81\n",
      "82\n",
      "83\n",
      "84\n",
      "85\n",
      "86\n",
      "87\n",
      "88\n",
      "89\n",
      "90\n",
      "91\n",
      "92\n",
      "93\n",
      "94\n",
      "95\n",
      "96\n",
      "Epoch [3/5], Step [96/160], Train Loss: 0.1133, Validation Loss: 0.1006\n",
      "Model saved to ==> /Users/icobx/Documents/skola/dp/code/dt/exp/bi-lstm/vanilla/model.pt\n",
      "Model saved to ==> /Users/icobx/Documents/skola/dp/code/dt/exp/bi-lstm/vanilla/metrics.pt\n",
      "97\n",
      "98\n",
      "99\n",
      "100\n",
      "101\n",
      "102\n",
      "103\n",
      "104\n",
      "105\n",
      "106\n",
      "107\n",
      "108\n",
      "109\n",
      "110\n",
      "111\n",
      "112\n",
      "Epoch [4/5], Step [112/160], Train Loss: 0.0795, Validation Loss: 0.1049\n",
      "113\n",
      "114\n",
      "115\n",
      "116\n",
      "117\n",
      "118\n",
      "119\n",
      "120\n",
      "121\n",
      "122\n",
      "123\n",
      "124\n",
      "125\n",
      "126\n",
      "127\n",
      "128\n",
      "Epoch [4/5], Step [128/160], Train Loss: 0.0919, Validation Loss: 0.1057\n",
      "129\n",
      "130\n",
      "131\n",
      "132\n",
      "133\n",
      "134\n",
      "135\n",
      "136\n",
      "137\n",
      "138\n",
      "139\n",
      "140\n",
      "141\n",
      "142\n",
      "143\n",
      "144\n",
      "Epoch [5/5], Step [144/160], Train Loss: 0.0931, Validation Loss: 0.1052\n",
      "145\n",
      "146\n",
      "147\n",
      "148\n",
      "149\n",
      "150\n",
      "151\n",
      "152\n",
      "153\n",
      "154\n",
      "155\n",
      "156\n",
      "157\n",
      "158\n",
      "159\n",
      "160\n",
      "Epoch [5/5], Step [160/160], Train Loss: 0.0705, Validation Loss: 0.0971\n",
      "Model saved to ==> /Users/icobx/Documents/skola/dp/code/dt/exp/bi-lstm/vanilla/model.pt\n",
      "Model saved to ==> /Users/icobx/Documents/skola/dp/code/dt/exp/bi-lstm/vanilla/metrics.pt\n",
      "Model saved to ==> /Users/icobx/Documents/skola/dp/code/dt/exp/bi-lstm/vanilla/metrics.pt\n"
     ]
    },
    {
     "data": {
      "text/plain": [
       "'Done.'"
      ]
     },
     "execution_count": 39,
     "metadata": {},
     "output_type": "execute_result"
    }
   ],
   "source": [
    "model.train()\n",
    "\n",
    "for epoch in range(n_epochs):\n",
    "    for ids, sentences, labels in loader_train:\n",
    "        labels = labels.float().to(device)\n",
    "\n",
    "        output = model(sentences)\n",
    "        loss = criterion(output, labels)\n",
    "\n",
    "        optimizer.zero_grad()\n",
    "        loss.backward()\n",
    "        optimizer.step()\n",
    "\n",
    "        # update running values\n",
    "        running_loss += loss.item()\n",
    "        global_step += 1\n",
    "        print(global_step)\n",
    "\n",
    "        if global_step % eval_period == 0:\n",
    "            model.eval()\n",
    "            with torch.no_grad():\n",
    "                for val_ids, val_sentences, val_labels in loader_val:\n",
    "                    val_labels = val_labels.float().to(device)\n",
    "                    output = model(val_sentences)\n",
    "\n",
    "                    loss = criterion(output, val_labels)\n",
    "                    val_running_loss += loss.item()\n",
    "\n",
    "            train_losses.append(running_loss / eval_period)\n",
    "            val_losses.append(val_running_loss / len(loader_val))\n",
    "            global_steps.append(global_step)\n",
    "\n",
    "            running_loss, val_running_loss = 0.0, 0.0\n",
    "\n",
    "            print(\n",
    "                f'Epoch [{epoch+1}/{n_epochs}], '\n",
    "                f'Step [{global_step}/{n_epochs*len(loader_train)}], '\n",
    "                f'Train Loss: {train_losses[-1]:.4f}, '\n",
    "                f'Validation Loss: {val_losses[-1]:.4f}'\n",
    "            )\n",
    "\n",
    "            # TODO: early stopping here ?\n",
    "            if val_losses[-1] < best_val_loss:\n",
    "                best_val_loss = val_losses[-1]\n",
    "\n",
    "                save_checkpoint(\n",
    "                    p.join(exp_path, 'model.pt'),\n",
    "                    model=model,\n",
    "                    optimizer=optimizer,\n",
    "                    val_loss=best_val_loss\n",
    "                )\n",
    "                save_metrics(\n",
    "                    p.join(exp_path, 'metrics.pt'),\n",
    "                    train_loss_list=train_losses,\n",
    "                    val_loss_list=val_losses,\n",
    "                    global_steps_list=global_steps\n",
    "                    \n",
    "                )\n",
    "                \n",
    "save_metrics(\n",
    "    p.join(exp_path, 'metrics.pt'),\n",
    "    train_loss_list=train_losses,\n",
    "    val_loss_list=val_losses,\n",
    "    global_steps_list=global_steps\n",
    ")\n",
    "\"Done.\""
   ]
  },
  {
   "cell_type": "markdown",
   "metadata": {},
   "source": [
    "Evaluation."
   ]
  },
  {
   "cell_type": "code",
   "execution_count": 41,
   "metadata": {},
   "outputs": [
    {
     "name": "stdout",
     "output_type": "stream",
     "text": [
      "Classification Report:\n",
      "              precision    recall  f1-score   support\n",
      "\n",
      "           1     0.0000    0.0000    0.0000         0\n",
      "           0     1.0000    1.0000    1.0000        56\n",
      "\n",
      "   micro avg     1.0000    1.0000    1.0000        56\n",
      "   macro avg     0.5000    0.5000    0.5000        56\n",
      "weighted avg     1.0000    1.0000    1.0000        56\n",
      "\n"
     ]
    },
    {
     "name": "stderr",
     "output_type": "stream",
     "text": [
      "/Users/icobx/Documents/skola/dp/venv_dp/lib/python3.9/site-packages/sklearn/metrics/_classification.py:1308: UndefinedMetricWarning: Precision and F-score are ill-defined and being set to 0.0 in labels with no predicted samples. Use `zero_division` parameter to control this behavior.\n",
      "  _warn_prf(average, modifier, msg_start, len(result))\n",
      "/Users/icobx/Documents/skola/dp/venv_dp/lib/python3.9/site-packages/sklearn/metrics/_classification.py:1308: UndefinedMetricWarning: Recall and F-score are ill-defined and being set to 0.0 in labels with no true samples. Use `zero_division` parameter to control this behavior.\n",
      "  _warn_prf(average, modifier, msg_start, len(result))\n",
      "/Users/icobx/Documents/skola/dp/venv_dp/lib/python3.9/site-packages/sklearn/metrics/_classification.py:1308: UndefinedMetricWarning: Precision and F-score are ill-defined and being set to 0.0 in labels with no predicted samples. Use `zero_division` parameter to control this behavior.\n",
      "  _warn_prf(average, modifier, msg_start, len(result))\n",
      "/Users/icobx/Documents/skola/dp/venv_dp/lib/python3.9/site-packages/sklearn/metrics/_classification.py:1308: UndefinedMetricWarning: Recall and F-score are ill-defined and being set to 0.0 in labels with no true samples. Use `zero_division` parameter to control this behavior.\n",
      "  _warn_prf(average, modifier, msg_start, len(result))\n",
      "/Users/icobx/Documents/skola/dp/venv_dp/lib/python3.9/site-packages/sklearn/metrics/_classification.py:1308: UndefinedMetricWarning: Precision and F-score are ill-defined and being set to 0.0 in labels with no predicted samples. Use `zero_division` parameter to control this behavior.\n",
      "  _warn_prf(average, modifier, msg_start, len(result))\n",
      "/Users/icobx/Documents/skola/dp/venv_dp/lib/python3.9/site-packages/sklearn/metrics/_classification.py:1308: UndefinedMetricWarning: Recall and F-score are ill-defined and being set to 0.0 in labels with no true samples. Use `zero_division` parameter to control this behavior.\n",
      "  _warn_prf(average, modifier, msg_start, len(result))\n"
     ]
    },
    {
     "data": {
      "text/plain": [
       "[Text(0, 0.5, 'unworthy'), Text(0, 1.5, 'worthy')]"
      ]
     },
     "execution_count": 41,
     "metadata": {},
     "output_type": "execute_result"
    },
    {
     "data": {
      "image/png": "[encoded data removed]",
      "text/plain": [
       "<Figure size 432x288 with 2 Axes>"
      ]
     },
     "metadata": {
      "needs_background": "light"
     },
     "output_type": "display_data"
    }
   ],
   "source": [
    "threshold = 0.5\n",
    "y_pred = []\n",
    "y_true = []\n",
    "\n",
    "model.eval()\n",
    "with torch.no_grad():\n",
    "    for test_ids, test_sentences, test_labels in loader_test:           \n",
    "        test_labels = test_labels.float().to(device)\n",
    "\n",
    "        output = (output > threshold).int()\n",
    "        y_pred.extend(output.tolist())\n",
    "        y_true.extend(labels.tolist())\n",
    "\n",
    "print('Classification Report:')\n",
    "print(classification_report(y_true, y_pred, labels=[1,0], digits=4))\n",
    "\n",
    "cm = confusion_matrix(y_true, y_pred, labels=[1,0])\n",
    "ax = plt.subplot()\n",
    "sns.heatmap(cm, annot=True, ax = ax, cmap='Blues', fmt=\"d\")\n",
    "\n",
    "ax.set_title('Confusion Matrix')\n",
    "\n",
    "ax.set_xlabel('Predicted Labels')\n",
    "ax.set_ylabel('True Labels')\n",
    "\n",
    "ax.xaxis.set_ticklabels(['worthy', 'unworthy'])\n",
    "ax.yaxis.set_ticklabels(['worthy', 'unworthy'])"
   ]
  }
 ],
 "metadata": {
  "interpreter": {
   "hash": "0566b9ebc7a58507829be3d77002d1a3a0910233c54c7888c127aa3b7af58774"
  },
  "kernelspec": {
   "display_name": "Python 3.9.7 ('venv_dp')",
   "language": "python",
   "name": "python3"
  },
  "language_info": {
   "codemirror_mode": {
    "name": "ipython",
    "version": 3
   },
   "file_extension": ".py",
   "mimetype": "text/x-python",
   "name": "python",
   "nbconvert_exporter": "python",
   "pygments_lexer": "ipython3",
   "version": "3.9.7"
  },
  "orig_nbformat": 4
 },
 "nbformat": 4,
 "nbformat_minor": 2
}
